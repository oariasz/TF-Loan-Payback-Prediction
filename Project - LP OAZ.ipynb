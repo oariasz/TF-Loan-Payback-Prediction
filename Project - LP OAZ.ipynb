{
 "cells": [
  {
   "cell_type": "markdown",
   "metadata": {},
   "source": [
    "<img src=\"estratek_logo.jpg\" style=\"width:543px;height:190px\"/>"
   ]
  },
  {
   "cell_type": "markdown",
   "metadata": {},
   "source": [
    "# TensorFlow Project\n",
    "## Loan Payback Prediction\n",
    "\n",
    "#### by Omar Arias"
   ]
  },
  {
   "cell_type": "markdown",
   "metadata": {},
   "source": [
    "## The Data\n",
    "\n",
    "We will be using a subset of the LendingClub DataSet obtained from Kaggle: https://www.kaggle.com/wordsforthewise/lending-club\n",
    "\n",
    "### NOTE: Do not download the full zip from the link! We provide a special version of this file that has some extra feature engineering for you to do. You won't be able to follow along with the original file!\n",
    "\n",
    "LendingClub is a US peer-to-peer lending company, headquartered in San Francisco, California.[3] It was the first peer-to-peer lender to register its offerings as securities with the Securities and Exchange Commission (SEC), and to offer loan trading on a secondary market. LendingClub is the world's largest peer-to-peer lending platform.\n",
    "\n",
    "### Our Goal\n",
    "\n",
    "Given historical data on loans given out with information on whether or not the borrower defaulted (charge-off), can we build a model thatcan predict wether or nor a borrower will pay back their loan? This way in the future when we get a new potential customer we can assess whether or not they are likely to pay back the loan. Keep in mind classification metrics when evaluating the performance of your model!\n",
    "\n",
    "The \"loan_status\" column contains our label.\n",
    "\n",
    "### Data Overview"
   ]
  },
  {
   "cell_type": "markdown",
   "metadata": {},
   "source": [
    "----\n",
    "-----\n",
    "There are many LendingClub data sets on Kaggle. Here is the information on this particular data set:\n",
    "\n",
    "<table border=\"1\" class=\"dataframe\">\n",
    "  <thead>\n",
    "    <tr style=\"text-align: right;\">\n",
    "      <th></th>\n",
    "      <th>LoanStatNew</th>\n",
    "      <th>Description</th>\n",
    "    </tr>\n",
    "  </thead>\n",
    "  <tbody>\n",
    "    <tr>\n",
    "      <th>0</th>\n",
    "      <td>loan_amnt</td>\n",
    "      <td>The listed amount of the loan applied for by the borrower. If at some point in time, the credit department reduces the loan amount, then it will be reflected in this value.</td>\n",
    "    </tr>\n",
    "    <tr>\n",
    "      <th>1</th>\n",
    "      <td>term</td>\n",
    "      <td>The number of payments on the loan. Values are in months and can be either 36 or 60.</td>\n",
    "    </tr>\n",
    "    <tr>\n",
    "      <th>2</th>\n",
    "      <td>int_rate</td>\n",
    "      <td>Interest Rate on the loan</td>\n",
    "    </tr>\n",
    "    <tr>\n",
    "      <th>3</th>\n",
    "      <td>installment</td>\n",
    "      <td>The monthly payment owed by the borrower if the loan originates.</td>\n",
    "    </tr>\n",
    "    <tr>\n",
    "      <th>4</th>\n",
    "      <td>grade</td>\n",
    "      <td>LC assigned loan grade</td>\n",
    "    </tr>\n",
    "    <tr>\n",
    "      <th>5</th>\n",
    "      <td>sub_grade</td>\n",
    "      <td>LC assigned loan subgrade</td>\n",
    "    </tr>\n",
    "    <tr>\n",
    "      <th>6</th>\n",
    "      <td>emp_title</td>\n",
    "      <td>The job title supplied by the Borrower when applying for the loan.*</td>\n",
    "    </tr>\n",
    "    <tr>\n",
    "      <th>7</th>\n",
    "      <td>emp_length</td>\n",
    "      <td>Employment length in years. Possible values are between 0 and 10 where 0 means less than one year and 10 means ten or more years.</td>\n",
    "    </tr>\n",
    "    <tr>\n",
    "      <th>8</th>\n",
    "      <td>home_ownership</td>\n",
    "      <td>The home ownership status provided by the borrower during registration or obtained from the credit report. Our values are: RENT, OWN, MORTGAGE, OTHER</td>\n",
    "    </tr>\n",
    "    <tr>\n",
    "      <th>9</th>\n",
    "      <td>annual_inc</td>\n",
    "      <td>The self-reported annual income provided by the borrower during registration.</td>\n",
    "    </tr>\n",
    "    <tr>\n",
    "      <th>10</th>\n",
    "      <td>verification_status</td>\n",
    "      <td>Indicates if income was verified by LC, not verified, or if the income source was verified</td>\n",
    "    </tr>\n",
    "    <tr>\n",
    "      <th>11</th>\n",
    "      <td>issue_d</td>\n",
    "      <td>The month which the loan was funded</td>\n",
    "    </tr>\n",
    "    <tr>\n",
    "      <th>12</th>\n",
    "      <td>loan_status</td>\n",
    "      <td>Current status of the loan</td>\n",
    "    </tr>\n",
    "    <tr>\n",
    "      <th>13</th>\n",
    "      <td>purpose</td>\n",
    "      <td>A category provided by the borrower for the loan request.</td>\n",
    "    </tr>\n",
    "    <tr>\n",
    "      <th>14</th>\n",
    "      <td>title</td>\n",
    "      <td>The loan title provided by the borrower</td>\n",
    "    </tr>\n",
    "    <tr>\n",
    "      <th>15</th>\n",
    "      <td>zip_code</td>\n",
    "      <td>The first 3 numbers of the zip code provided by the borrower in the loan application.</td>\n",
    "    </tr>\n",
    "    <tr>\n",
    "      <th>16</th>\n",
    "      <td>addr_state</td>\n",
    "      <td>The state provided by the borrower in the loan application</td>\n",
    "    </tr>\n",
    "    <tr>\n",
    "      <th>17</th>\n",
    "      <td>dti</td>\n",
    "      <td>A ratio calculated using the borrower’s total monthly debt payments on the total debt obligations, excluding mortgage and the requested LC loan, divided by the borrower’s self-reported monthly income.</td>\n",
    "    </tr>\n",
    "    <tr>\n",
    "      <th>18</th>\n",
    "      <td>earliest_cr_line</td>\n",
    "      <td>The month the borrower's earliest reported credit line was opened</td>\n",
    "    </tr>\n",
    "    <tr>\n",
    "      <th>19</th>\n",
    "      <td>open_acc</td>\n",
    "      <td>The number of open credit lines in the borrower's credit file.</td>\n",
    "    </tr>\n",
    "    <tr>\n",
    "      <th>20</th>\n",
    "      <td>pub_rec</td>\n",
    "      <td>Number of derogatory public records</td>\n",
    "    </tr>\n",
    "    <tr>\n",
    "      <th>21</th>\n",
    "      <td>revol_bal</td>\n",
    "      <td>Total credit revolving balance</td>\n",
    "    </tr>\n",
    "    <tr>\n",
    "      <th>22</th>\n",
    "      <td>revol_util</td>\n",
    "      <td>Revolving line utilization rate, or the amount of credit the borrower is using relative to all available revolving credit.</td>\n",
    "    </tr>\n",
    "    <tr>\n",
    "      <th>23</th>\n",
    "      <td>total_acc</td>\n",
    "      <td>The total number of credit lines currently in the borrower's credit file</td>\n",
    "    </tr>\n",
    "    <tr>\n",
    "      <th>24</th>\n",
    "      <td>initial_list_status</td>\n",
    "      <td>The initial listing status of the loan. Possible values are – W, F</td>\n",
    "    </tr>\n",
    "    <tr>\n",
    "      <th>25</th>\n",
    "      <td>application_type</td>\n",
    "      <td>Indicates whether the loan is an individual application or a joint application with two co-borrowers</td>\n",
    "    </tr>\n",
    "    <tr>\n",
    "      <th>26</th>\n",
    "      <td>mort_acc</td>\n",
    "      <td>Number of mortgage accounts.</td>\n",
    "    </tr>\n",
    "    <tr>\n",
    "      <th>27</th>\n",
    "      <td>pub_rec_bankruptcies</td>\n",
    "      <td>Number of public record bankruptcies</td>\n",
    "    </tr>\n",
    "  </tbody>\n",
    "</table>\n",
    "\n",
    "---\n",
    "----"
   ]
  },
  {
   "cell_type": "code",
   "execution_count": 1,
   "metadata": {},
   "outputs": [],
   "source": [
    "import pandas as pd"
   ]
  },
  {
   "cell_type": "code",
   "execution_count": 2,
   "metadata": {},
   "outputs": [],
   "source": [
    "data_info = pd.read_csv('./DATA/lending_club_info.csv',index_col='LoanStatNew')"
   ]
  },
  {
   "cell_type": "code",
   "execution_count": 3,
   "metadata": {},
   "outputs": [
    {
     "name": "stdout",
     "output_type": "stream",
     "text": [
      "Revolving line utilization rate, or the amount of credit the borrower is using relative to all available revolving credit.\n"
     ]
    }
   ],
   "source": [
    "print(data_info.loc['revol_util']['Description'])"
   ]
  },
  {
   "cell_type": "code",
   "execution_count": 4,
   "metadata": {},
   "outputs": [],
   "source": [
    "# Return the description of the specified feature\n",
    "def feat_info(col_name):\n",
    "    if (col_name in data_info.index.to_list()):\n",
    "        print(data_info.loc[col_name]['Description'])\n",
    "    else:\n",
    "        print('ERROR: Unknown feature.')"
   ]
  },
  {
   "cell_type": "code",
   "execution_count": 5,
   "metadata": {},
   "outputs": [
    {
     "name": "stdout",
     "output_type": "stream",
     "text": [
      "Number of mortgage accounts.\n"
     ]
    }
   ],
   "source": [
    "feat_info('mort_acc')"
   ]
  },
  {
   "cell_type": "code",
   "execution_count": 6,
   "metadata": {},
   "outputs": [],
   "source": [
    "# Fucntion to list how many missing values of each column\n",
    "def print_missing_values(df):\n",
    "    missing = df.isna().sum()/len(df)*100\n",
    "    missing.name = \"Missing Values\"\n",
    "    print('--- Missing values ---')\n",
    "    print(missing)"
   ]
  },
  {
   "cell_type": "code",
   "execution_count": 7,
   "metadata": {},
   "outputs": [],
   "source": [
    "# Checks extensively all the column element types\n",
    "def type_checker(df, col_name):\n",
    "    is_same_type = True\n",
    "    for i in range(len(df)):\n",
    "        if type(df.loc[i, col_name]) != type(df.loc[0, col_name]):\n",
    "            is_same_type = False\n",
    "            break\n",
    "\n",
    "    if is_same_type:\n",
    "        print(\"All cells in '\" + col_name + \"' are the same type.\")\n",
    "    print(df[col_name].dtypes)\n",
    "    "
   ]
  },
  {
   "cell_type": "code",
   "execution_count": 8,
   "metadata": {},
   "outputs": [],
   "source": [
    "# Show all categorical features with the number of categories of each one\n",
    "\n",
    "def print_categorical_features(df):\n",
    "    # Select columns with object dtype\n",
    "    object_columns = df.select_dtypes(include=\"object\")\n",
    "\n",
    "    # Iterate over columns and print name and number of unique values\n",
    "    for col in object_columns:\n",
    "        num_unique_values = df[col].nunique()\n",
    "        print(f\"Column: {col}: {num_unique_values}\")"
   ]
  },
  {
   "cell_type": "markdown",
   "metadata": {},
   "source": [
    "### Load Initial Libraries"
   ]
  },
  {
   "cell_type": "code",
   "execution_count": 9,
   "metadata": {},
   "outputs": [],
   "source": [
    "import pandas as pd\n",
    "import numpy as np\n",
    "import matplotlib.pyplot as plt\n",
    "import seaborn as sns\n",
    "\n",
    "# might be needed depending on your version of Jupyter\n",
    "%matplotlib inline"
   ]
  },
  {
   "cell_type": "markdown",
   "metadata": {},
   "source": [
    "### Get the Data"
   ]
  },
  {
   "cell_type": "code",
   "execution_count": 10,
   "metadata": {},
   "outputs": [],
   "source": [
    "\n",
    "df = pd.read_csv('./DATA/lending_club_loan_two.csv')"
   ]
  },
  {
   "cell_type": "code",
   "execution_count": 11,
   "metadata": {},
   "outputs": [
    {
     "name": "stdout",
     "output_type": "stream",
     "text": [
      "<class 'pandas.core.frame.DataFrame'>\n",
      "RangeIndex: 396030 entries, 0 to 396029\n",
      "Data columns (total 27 columns):\n",
      " #   Column                Non-Null Count   Dtype  \n",
      "---  ------                --------------   -----  \n",
      " 0   loan_amnt             396030 non-null  float64\n",
      " 1   term                  396030 non-null  object \n",
      " 2   int_rate              396030 non-null  float64\n",
      " 3   installment           396030 non-null  float64\n",
      " 4   grade                 396030 non-null  object \n",
      " 5   sub_grade             396030 non-null  object \n",
      " 6   emp_title             373103 non-null  object \n",
      " 7   emp_length            377729 non-null  object \n",
      " 8   home_ownership        396030 non-null  object \n",
      " 9   annual_inc            396030 non-null  float64\n",
      " 10  verification_status   396030 non-null  object \n",
      " 11  issue_d               396030 non-null  object \n",
      " 12  loan_status           396030 non-null  object \n",
      " 13  purpose               396030 non-null  object \n",
      " 14  title                 394274 non-null  object \n",
      " 15  dti                   396030 non-null  float64\n",
      " 16  earliest_cr_line      396030 non-null  object \n",
      " 17  open_acc              396030 non-null  float64\n",
      " 18  pub_rec               396030 non-null  float64\n",
      " 19  revol_bal             396030 non-null  float64\n",
      " 20  revol_util            395754 non-null  float64\n",
      " 21  total_acc             396030 non-null  float64\n",
      " 22  initial_list_status   396030 non-null  object \n",
      " 23  application_type      396030 non-null  object \n",
      " 24  mort_acc              358235 non-null  float64\n",
      " 25  pub_rec_bankruptcies  395495 non-null  float64\n",
      " 26  address               396030 non-null  object \n",
      "dtypes: float64(12), object(15)\n",
      "memory usage: 81.6+ MB\n"
     ]
    }
   ],
   "source": [
    "df.info()"
   ]
  },
  {
   "cell_type": "code",
   "execution_count": 12,
   "metadata": {},
   "outputs": [
    {
     "data": {
      "text/plain": [
       "396030"
      ]
     },
     "execution_count": 12,
     "metadata": {},
     "output_type": "execute_result"
    }
   ],
   "source": [
    "# Total number of examples\n",
    "len(df)"
   ]
  },
  {
   "cell_type": "code",
   "execution_count": 13,
   "metadata": {},
   "outputs": [
    {
     "data": {
      "text/plain": [
       "count         396030\n",
       "unique             2\n",
       "top       Fully Paid\n",
       "freq          318357\n",
       "Name: loan_status, dtype: object"
      ]
     },
     "execution_count": 13,
     "metadata": {},
     "output_type": "execute_result"
    }
   ],
   "source": [
    "# Determine the output variable\n",
    "df['loan_status'].describe()"
   ]
  },
  {
   "cell_type": "markdown",
   "metadata": {},
   "source": [
    "* Look a nice data table visualization using skimpy"
   ]
  },
  {
   "cell_type": "code",
   "execution_count": 14,
   "metadata": {},
   "outputs": [
    {
     "data": {
      "text/html": [
       "<pre style=\"white-space:pre;overflow-x:auto;line-height:normal;font-family:Menlo,'DejaVu Sans Mono',consolas,'Courier New',monospace\">╭──────────────────────────────────────────────── skimpy summary ─────────────────────────────────────────────────╮\n",
       "│ <span style=\"font-style: italic\">         Data Summary         </span> <span style=\"font-style: italic\">      Data Types       </span>                                                          │\n",
       "│ ┏━━━━━━━━━━━━━━━━━━━┳━━━━━━━━┓ ┏━━━━━━━━━━━━━┳━━━━━━━┓                                                          │\n",
       "│ ┃<span style=\"color: #008080; text-decoration-color: #008080; font-weight: bold\"> dataframe         </span>┃<span style=\"color: #008080; text-decoration-color: #008080; font-weight: bold\"> Values </span>┃ ┃<span style=\"color: #008080; text-decoration-color: #008080; font-weight: bold\"> Column Type </span>┃<span style=\"color: #008080; text-decoration-color: #008080; font-weight: bold\"> Count </span>┃                                                          │\n",
       "│ ┡━━━━━━━━━━━━━━━━━━━╇━━━━━━━━┩ ┡━━━━━━━━━━━━━╇━━━━━━━┩                                                          │\n",
       "│ │ Number of rows    │ 396030 │ │ string      │ 15    │                                                          │\n",
       "│ │ Number of columns │ 27     │ │ float64     │ 12    │                                                          │\n",
       "│ └───────────────────┴────────┘ └─────────────┴───────┘                                                          │\n",
       "│ <span style=\"font-style: italic\">                                                    number                                                    </span>  │\n",
       "│ ┏━━━━━━━━━━━━━━━━━━━━━━━━┳━━━━━━━━┳━━━━━━━┳━━━━━━━━┳━━━━━━━━┳━━━━━┳━━━━━━━┳━━━━━━━┳━━━━━━━┳━━━━━━━━━┳━━━━━━━━┓  │\n",
       "│ ┃<span style=\"font-weight: bold\"> column_name            </span>┃<span style=\"font-weight: bold\"> NA     </span>┃<span style=\"font-weight: bold\"> NA %  </span>┃<span style=\"font-weight: bold\"> mean   </span>┃<span style=\"font-weight: bold\"> sd     </span>┃<span style=\"font-weight: bold\"> p0  </span>┃<span style=\"font-weight: bold\"> p25   </span>┃<span style=\"font-weight: bold\"> p50   </span>┃<span style=\"font-weight: bold\"> p75   </span>┃<span style=\"font-weight: bold\"> p100    </span>┃<span style=\"font-weight: bold\"> hist   </span>┃  │\n",
       "│ ┡━━━━━━━━━━━━━━━━━━━━━━━━╇━━━━━━━━╇━━━━━━━╇━━━━━━━━╇━━━━━━━━╇━━━━━╇━━━━━━━╇━━━━━━━╇━━━━━━━╇━━━━━━━━━╇━━━━━━━━┩  │\n",
       "│ │ <span style=\"color: #af87ff; text-decoration-color: #af87ff\">loan_amnt             </span> │ <span style=\"color: #008080; text-decoration-color: #008080\">     0</span> │ <span style=\"color: #008080; text-decoration-color: #008080\">    0</span> │ <span style=\"color: #008080; text-decoration-color: #008080\"> 14000</span> │ <span style=\"color: #008080; text-decoration-color: #008080\">  8400</span> │ <span style=\"color: #008080; text-decoration-color: #008080\">500</span> │ <span style=\"color: #008080; text-decoration-color: #008080\"> 8000</span> │ <span style=\"color: #008080; text-decoration-color: #008080\">12000</span> │ <span style=\"color: #008080; text-decoration-color: #008080\">20000</span> │ <span style=\"color: #008080; text-decoration-color: #008080\">  40000</span> │ <span style=\"color: #008000; text-decoration-color: #008000\">▅▇▆▃▁▁</span> │  │\n",
       "│ │ <span style=\"color: #af87ff; text-decoration-color: #af87ff\">int_rate              </span> │ <span style=\"color: #008080; text-decoration-color: #008080\">     0</span> │ <span style=\"color: #008080; text-decoration-color: #008080\">    0</span> │ <span style=\"color: #008080; text-decoration-color: #008080\">    14</span> │ <span style=\"color: #008080; text-decoration-color: #008080\">   4.5</span> │ <span style=\"color: #008080; text-decoration-color: #008080\">5.3</span> │ <span style=\"color: #008080; text-decoration-color: #008080\">   10</span> │ <span style=\"color: #008080; text-decoration-color: #008080\">   13</span> │ <span style=\"color: #008080; text-decoration-color: #008080\">   16</span> │ <span style=\"color: #008080; text-decoration-color: #008080\">     31</span> │ <span style=\"color: #008000; text-decoration-color: #008000\">▅▇▇▃▁ </span> │  │\n",
       "│ │ <span style=\"color: #af87ff; text-decoration-color: #af87ff\">installment           </span> │ <span style=\"color: #008080; text-decoration-color: #008080\">     0</span> │ <span style=\"color: #008080; text-decoration-color: #008080\">    0</span> │ <span style=\"color: #008080; text-decoration-color: #008080\">   430</span> │ <span style=\"color: #008080; text-decoration-color: #008080\">   250</span> │ <span style=\"color: #008080; text-decoration-color: #008080\"> 16</span> │ <span style=\"color: #008080; text-decoration-color: #008080\">  250</span> │ <span style=\"color: #008080; text-decoration-color: #008080\">  380</span> │ <span style=\"color: #008080; text-decoration-color: #008080\">  570</span> │ <span style=\"color: #008080; text-decoration-color: #008080\">   1500</span> │ <span style=\"color: #008000; text-decoration-color: #008000\">▅▇▃▁▁ </span> │  │\n",
       "│ │ <span style=\"color: #af87ff; text-decoration-color: #af87ff\">annual_inc            </span> │ <span style=\"color: #008080; text-decoration-color: #008080\">     0</span> │ <span style=\"color: #008080; text-decoration-color: #008080\">    0</span> │ <span style=\"color: #008080; text-decoration-color: #008080\"> 74000</span> │ <span style=\"color: #008080; text-decoration-color: #008080\"> 62000</span> │ <span style=\"color: #008080; text-decoration-color: #008080\">  0</span> │ <span style=\"color: #008080; text-decoration-color: #008080\">45000</span> │ <span style=\"color: #008080; text-decoration-color: #008080\">64000</span> │ <span style=\"color: #008080; text-decoration-color: #008080\">90000</span> │ <span style=\"color: #008080; text-decoration-color: #008080\">8700000</span> │ <span style=\"color: #008000; text-decoration-color: #008000\">  ▇   </span> │  │\n",
       "│ │ <span style=\"color: #af87ff; text-decoration-color: #af87ff\">dti                   </span> │ <span style=\"color: #008080; text-decoration-color: #008080\">     0</span> │ <span style=\"color: #008080; text-decoration-color: #008080\">    0</span> │ <span style=\"color: #008080; text-decoration-color: #008080\">    17</span> │ <span style=\"color: #008080; text-decoration-color: #008080\">    18</span> │ <span style=\"color: #008080; text-decoration-color: #008080\">  0</span> │ <span style=\"color: #008080; text-decoration-color: #008080\">   11</span> │ <span style=\"color: #008080; text-decoration-color: #008080\">   17</span> │ <span style=\"color: #008080; text-decoration-color: #008080\">   23</span> │ <span style=\"color: #008080; text-decoration-color: #008080\">  10000</span> │ <span style=\"color: #008000; text-decoration-color: #008000\">  ▇   </span> │  │\n",
       "│ │ <span style=\"color: #af87ff; text-decoration-color: #af87ff\">open_acc              </span> │ <span style=\"color: #008080; text-decoration-color: #008080\">     0</span> │ <span style=\"color: #008080; text-decoration-color: #008080\">    0</span> │ <span style=\"color: #008080; text-decoration-color: #008080\">    11</span> │ <span style=\"color: #008080; text-decoration-color: #008080\">   5.1</span> │ <span style=\"color: #008080; text-decoration-color: #008080\">  0</span> │ <span style=\"color: #008080; text-decoration-color: #008080\">    8</span> │ <span style=\"color: #008080; text-decoration-color: #008080\">   10</span> │ <span style=\"color: #008080; text-decoration-color: #008080\">   14</span> │ <span style=\"color: #008080; text-decoration-color: #008080\">     90</span> │ <span style=\"color: #008000; text-decoration-color: #008000\">  ▇▂  </span> │  │\n",
       "│ │ <span style=\"color: #af87ff; text-decoration-color: #af87ff\">pub_rec               </span> │ <span style=\"color: #008080; text-decoration-color: #008080\">     0</span> │ <span style=\"color: #008080; text-decoration-color: #008080\">    0</span> │ <span style=\"color: #008080; text-decoration-color: #008080\">  0.18</span> │ <span style=\"color: #008080; text-decoration-color: #008080\">  0.53</span> │ <span style=\"color: #008080; text-decoration-color: #008080\">  0</span> │ <span style=\"color: #008080; text-decoration-color: #008080\">    0</span> │ <span style=\"color: #008080; text-decoration-color: #008080\">    0</span> │ <span style=\"color: #008080; text-decoration-color: #008080\">    0</span> │ <span style=\"color: #008080; text-decoration-color: #008080\">     86</span> │ <span style=\"color: #008000; text-decoration-color: #008000\">  ▇   </span> │  │\n",
       "│ │ <span style=\"color: #af87ff; text-decoration-color: #af87ff\">revol_bal             </span> │ <span style=\"color: #008080; text-decoration-color: #008080\">     0</span> │ <span style=\"color: #008080; text-decoration-color: #008080\">    0</span> │ <span style=\"color: #008080; text-decoration-color: #008080\"> 16000</span> │ <span style=\"color: #008080; text-decoration-color: #008080\"> 21000</span> │ <span style=\"color: #008080; text-decoration-color: #008080\">  0</span> │ <span style=\"color: #008080; text-decoration-color: #008080\"> 6000</span> │ <span style=\"color: #008080; text-decoration-color: #008080\">11000</span> │ <span style=\"color: #008080; text-decoration-color: #008080\">20000</span> │ <span style=\"color: #008080; text-decoration-color: #008080\">1700000</span> │ <span style=\"color: #008000; text-decoration-color: #008000\">  ▇   </span> │  │\n",
       "│ │ <span style=\"color: #af87ff; text-decoration-color: #af87ff\">revol_util            </span> │ <span style=\"color: #008080; text-decoration-color: #008080\">   276</span> │ <span style=\"color: #008080; text-decoration-color: #008080\"> 0.07</span> │ <span style=\"color: #008080; text-decoration-color: #008080\">    54</span> │ <span style=\"color: #008080; text-decoration-color: #008080\">    24</span> │ <span style=\"color: #008080; text-decoration-color: #008080\">  0</span> │ <span style=\"color: #008080; text-decoration-color: #008080\">   36</span> │ <span style=\"color: #008080; text-decoration-color: #008080\">   55</span> │ <span style=\"color: #008080; text-decoration-color: #008080\">   73</span> │ <span style=\"color: #008080; text-decoration-color: #008080\">    890</span> │ <span style=\"color: #008000; text-decoration-color: #008000\">  ▇   </span> │  │\n",
       "│ │ <span style=\"color: #af87ff; text-decoration-color: #af87ff\">total_acc             </span> │ <span style=\"color: #008080; text-decoration-color: #008080\">     0</span> │ <span style=\"color: #008080; text-decoration-color: #008080\">    0</span> │ <span style=\"color: #008080; text-decoration-color: #008080\">    25</span> │ <span style=\"color: #008080; text-decoration-color: #008080\">    12</span> │ <span style=\"color: #008080; text-decoration-color: #008080\">  2</span> │ <span style=\"color: #008080; text-decoration-color: #008080\">   17</span> │ <span style=\"color: #008080; text-decoration-color: #008080\">   24</span> │ <span style=\"color: #008080; text-decoration-color: #008080\">   32</span> │ <span style=\"color: #008080; text-decoration-color: #008080\">    150</span> │ <span style=\"color: #008000; text-decoration-color: #008000\">  ▇▅  </span> │  │\n",
       "│ │ <span style=\"color: #af87ff; text-decoration-color: #af87ff\">mort_acc              </span> │ <span style=\"color: #008080; text-decoration-color: #008080\"> 37795</span> │ <span style=\"color: #008080; text-decoration-color: #008080\"> 9.54</span> │ <span style=\"color: #008080; text-decoration-color: #008080\">   1.8</span> │ <span style=\"color: #008080; text-decoration-color: #008080\">   2.1</span> │ <span style=\"color: #008080; text-decoration-color: #008080\">  0</span> │ <span style=\"color: #008080; text-decoration-color: #008080\">    0</span> │ <span style=\"color: #008080; text-decoration-color: #008080\">    1</span> │ <span style=\"color: #008080; text-decoration-color: #008080\">    3</span> │ <span style=\"color: #008080; text-decoration-color: #008080\">     34</span> │ <span style=\"color: #008000; text-decoration-color: #008000\">  ▇▁  </span> │  │\n",
       "│ │ <span style=\"color: #af87ff; text-decoration-color: #af87ff\">pub_rec_bankruptcies  </span> │ <span style=\"color: #008080; text-decoration-color: #008080\">   535</span> │ <span style=\"color: #008080; text-decoration-color: #008080\"> 0.14</span> │ <span style=\"color: #008080; text-decoration-color: #008080\">  0.12</span> │ <span style=\"color: #008080; text-decoration-color: #008080\">  0.36</span> │ <span style=\"color: #008080; text-decoration-color: #008080\">  0</span> │ <span style=\"color: #008080; text-decoration-color: #008080\">    0</span> │ <span style=\"color: #008080; text-decoration-color: #008080\">    0</span> │ <span style=\"color: #008080; text-decoration-color: #008080\">    0</span> │ <span style=\"color: #008080; text-decoration-color: #008080\">      8</span> │ <span style=\"color: #008000; text-decoration-color: #008000\">  ▇   </span> │  │\n",
       "│ └────────────────────────┴────────┴───────┴────────┴────────┴─────┴───────┴───────┴───────┴─────────┴────────┘  │\n",
       "│ <span style=\"font-style: italic\">                                                    string                                                    </span>  │\n",
       "│ ┏━━━━━━━━━━━━━━━━━━━━━━━━━━━━━━━━━━━━┳━━━━━━━━━━━━┳━━━━━━━━━━┳━━━━━━━━━━━━━━━━━━━━━━━━━┳━━━━━━━━━━━━━━━━━━━━━┓  │\n",
       "│ ┃<span style=\"font-weight: bold\"> column_name                        </span>┃<span style=\"font-weight: bold\"> NA         </span>┃<span style=\"font-weight: bold\"> NA %     </span>┃<span style=\"font-weight: bold\"> words per row           </span>┃<span style=\"font-weight: bold\"> total words         </span>┃  │\n",
       "│ ┡━━━━━━━━━━━━━━━━━━━━━━━━━━━━━━━━━━━━╇━━━━━━━━━━━━╇━━━━━━━━━━╇━━━━━━━━━━━━━━━━━━━━━━━━━╇━━━━━━━━━━━━━━━━━━━━━┩  │\n",
       "│ │ <span style=\"color: #af87ff; text-decoration-color: #af87ff\">term                              </span> │ <span style=\"color: #008080; text-decoration-color: #008080\">         0</span> │ <span style=\"color: #008080; text-decoration-color: #008080\">       0</span> │ <span style=\"color: #008080; text-decoration-color: #008080\">                      3</span> │ <span style=\"color: #008080; text-decoration-color: #008080\">            1188090</span> │  │\n",
       "│ │ <span style=\"color: #af87ff; text-decoration-color: #af87ff\">grade                             </span> │ <span style=\"color: #008080; text-decoration-color: #008080\">         0</span> │ <span style=\"color: #008080; text-decoration-color: #008080\">       0</span> │ <span style=\"color: #008080; text-decoration-color: #008080\">                      1</span> │ <span style=\"color: #008080; text-decoration-color: #008080\">             396030</span> │  │\n",
       "│ │ <span style=\"color: #af87ff; text-decoration-color: #af87ff\">sub_grade                         </span> │ <span style=\"color: #008080; text-decoration-color: #008080\">         0</span> │ <span style=\"color: #008080; text-decoration-color: #008080\">       0</span> │ <span style=\"color: #008080; text-decoration-color: #008080\">                      1</span> │ <span style=\"color: #008080; text-decoration-color: #008080\">             396030</span> │  │\n",
       "│ │ <span style=\"color: #af87ff; text-decoration-color: #af87ff\">emp_title                         </span> │ <span style=\"color: #008080; text-decoration-color: #008080\">     22927</span> │ <span style=\"color: #008080; text-decoration-color: #008080\">    5.79</span> │ <span style=\"color: #008080; text-decoration-color: #008080\">                    2.2</span> │ <span style=\"color: #008080; text-decoration-color: #008080\">             860939</span> │  │\n",
       "│ │ <span style=\"color: #af87ff; text-decoration-color: #af87ff\">emp_length                        </span> │ <span style=\"color: #008080; text-decoration-color: #008080\">     18301</span> │ <span style=\"color: #008080; text-decoration-color: #008080\">    4.62</span> │ <span style=\"color: #008080; text-decoration-color: #008080\">                      2</span> │ <span style=\"color: #008080; text-decoration-color: #008080\">             787183</span> │  │\n",
       "│ │ <span style=\"color: #af87ff; text-decoration-color: #af87ff\">home_ownership                    </span> │ <span style=\"color: #008080; text-decoration-color: #008080\">         0</span> │ <span style=\"color: #008080; text-decoration-color: #008080\">       0</span> │ <span style=\"color: #008080; text-decoration-color: #008080\">                      1</span> │ <span style=\"color: #008080; text-decoration-color: #008080\">             396030</span> │  │\n",
       "│ │ <span style=\"color: #af87ff; text-decoration-color: #af87ff\">verification_status               </span> │ <span style=\"color: #008080; text-decoration-color: #008080\">         0</span> │ <span style=\"color: #008080; text-decoration-color: #008080\">       0</span> │ <span style=\"color: #008080; text-decoration-color: #008080\">                    1.6</span> │ <span style=\"color: #008080; text-decoration-color: #008080\">             652497</span> │  │\n",
       "│ │ <span style=\"color: #af87ff; text-decoration-color: #af87ff\">issue_d                           </span> │ <span style=\"color: #008080; text-decoration-color: #008080\">         0</span> │ <span style=\"color: #008080; text-decoration-color: #008080\">       0</span> │ <span style=\"color: #008080; text-decoration-color: #008080\">                      1</span> │ <span style=\"color: #008080; text-decoration-color: #008080\">             396030</span> │  │\n",
       "│ │ <span style=\"color: #af87ff; text-decoration-color: #af87ff\">loan_status                       </span> │ <span style=\"color: #008080; text-decoration-color: #008080\">         0</span> │ <span style=\"color: #008080; text-decoration-color: #008080\">       0</span> │ <span style=\"color: #008080; text-decoration-color: #008080\">                      2</span> │ <span style=\"color: #008080; text-decoration-color: #008080\">             792060</span> │  │\n",
       "│ │ <span style=\"color: #af87ff; text-decoration-color: #af87ff\">purpose                           </span> │ <span style=\"color: #008080; text-decoration-color: #008080\">         0</span> │ <span style=\"color: #008080; text-decoration-color: #008080\">       0</span> │ <span style=\"color: #008080; text-decoration-color: #008080\">                      1</span> │ <span style=\"color: #008080; text-decoration-color: #008080\">             396030</span> │  │\n",
       "│ │ <span style=\"color: #af87ff; text-decoration-color: #af87ff\">title                             </span> │ <span style=\"color: #008080; text-decoration-color: #008080\">      1756</span> │ <span style=\"color: #008080; text-decoration-color: #008080\">    0.44</span> │ <span style=\"color: #008080; text-decoration-color: #008080\">                    2.2</span> │ <span style=\"color: #008080; text-decoration-color: #008080\">             888835</span> │  │\n",
       "│ │ <span style=\"color: #af87ff; text-decoration-color: #af87ff\">earliest_cr_line                  </span> │ <span style=\"color: #008080; text-decoration-color: #008080\">         0</span> │ <span style=\"color: #008080; text-decoration-color: #008080\">       0</span> │ <span style=\"color: #008080; text-decoration-color: #008080\">                      1</span> │ <span style=\"color: #008080; text-decoration-color: #008080\">             396030</span> │  │\n",
       "│ │ <span style=\"color: #af87ff; text-decoration-color: #af87ff\">initial_list_status               </span> │ <span style=\"color: #008080; text-decoration-color: #008080\">         0</span> │ <span style=\"color: #008080; text-decoration-color: #008080\">       0</span> │ <span style=\"color: #008080; text-decoration-color: #008080\">                      1</span> │ <span style=\"color: #008080; text-decoration-color: #008080\">             396030</span> │  │\n",
       "│ │ <span style=\"color: #af87ff; text-decoration-color: #af87ff\">application_type                  </span> │ <span style=\"color: #008080; text-decoration-color: #008080\">         0</span> │ <span style=\"color: #008080; text-decoration-color: #008080\">       0</span> │ <span style=\"color: #008080; text-decoration-color: #008080\">                      1</span> │ <span style=\"color: #008080; text-decoration-color: #008080\">             396030</span> │  │\n",
       "│ │ <span style=\"color: #af87ff; text-decoration-color: #af87ff\">address                           </span> │ <span style=\"color: #008080; text-decoration-color: #008080\">         0</span> │ <span style=\"color: #008080; text-decoration-color: #008080\">       0</span> │ <span style=\"color: #008080; text-decoration-color: #008080\">                    6.4</span> │ <span style=\"color: #008080; text-decoration-color: #008080\">            2524656</span> │  │\n",
       "│ └────────────────────────────────────┴────────────┴──────────┴─────────────────────────┴─────────────────────┘  │\n",
       "╰────────────────────────────────────────────────────── End ──────────────────────────────────────────────────────╯\n",
       "</pre>\n"
      ],
      "text/plain": [
       "╭──────────────────────────────────────────────── skimpy summary ─────────────────────────────────────────────────╮\n",
       "│ \u001b[3m         Data Summary         \u001b[0m \u001b[3m      Data Types       \u001b[0m                                                          │\n",
       "│ ┏━━━━━━━━━━━━━━━━━━━┳━━━━━━━━┓ ┏━━━━━━━━━━━━━┳━━━━━━━┓                                                          │\n",
       "│ ┃\u001b[1;36m \u001b[0m\u001b[1;36mdataframe        \u001b[0m\u001b[1;36m \u001b[0m┃\u001b[1;36m \u001b[0m\u001b[1;36mValues\u001b[0m\u001b[1;36m \u001b[0m┃ ┃\u001b[1;36m \u001b[0m\u001b[1;36mColumn Type\u001b[0m\u001b[1;36m \u001b[0m┃\u001b[1;36m \u001b[0m\u001b[1;36mCount\u001b[0m\u001b[1;36m \u001b[0m┃                                                          │\n",
       "│ ┡━━━━━━━━━━━━━━━━━━━╇━━━━━━━━┩ ┡━━━━━━━━━━━━━╇━━━━━━━┩                                                          │\n",
       "│ │ Number of rows    │ 396030 │ │ string      │ 15    │                                                          │\n",
       "│ │ Number of columns │ 27     │ │ float64     │ 12    │                                                          │\n",
       "│ └───────────────────┴────────┘ └─────────────┴───────┘                                                          │\n",
       "│ \u001b[3m                                                    number                                                    \u001b[0m  │\n",
       "│ ┏━━━━━━━━━━━━━━━━━━━━━━━━┳━━━━━━━━┳━━━━━━━┳━━━━━━━━┳━━━━━━━━┳━━━━━┳━━━━━━━┳━━━━━━━┳━━━━━━━┳━━━━━━━━━┳━━━━━━━━┓  │\n",
       "│ ┃\u001b[1m \u001b[0m\u001b[1mcolumn_name           \u001b[0m\u001b[1m \u001b[0m┃\u001b[1m \u001b[0m\u001b[1mNA    \u001b[0m\u001b[1m \u001b[0m┃\u001b[1m \u001b[0m\u001b[1mNA % \u001b[0m\u001b[1m \u001b[0m┃\u001b[1m \u001b[0m\u001b[1mmean  \u001b[0m\u001b[1m \u001b[0m┃\u001b[1m \u001b[0m\u001b[1msd    \u001b[0m\u001b[1m \u001b[0m┃\u001b[1m \u001b[0m\u001b[1mp0 \u001b[0m\u001b[1m \u001b[0m┃\u001b[1m \u001b[0m\u001b[1mp25  \u001b[0m\u001b[1m \u001b[0m┃\u001b[1m \u001b[0m\u001b[1mp50  \u001b[0m\u001b[1m \u001b[0m┃\u001b[1m \u001b[0m\u001b[1mp75  \u001b[0m\u001b[1m \u001b[0m┃\u001b[1m \u001b[0m\u001b[1mp100   \u001b[0m\u001b[1m \u001b[0m┃\u001b[1m \u001b[0m\u001b[1mhist  \u001b[0m\u001b[1m \u001b[0m┃  │\n",
       "│ ┡━━━━━━━━━━━━━━━━━━━━━━━━╇━━━━━━━━╇━━━━━━━╇━━━━━━━━╇━━━━━━━━╇━━━━━╇━━━━━━━╇━━━━━━━╇━━━━━━━╇━━━━━━━━━╇━━━━━━━━┩  │\n",
       "│ │ \u001b[38;5;141mloan_amnt             \u001b[0m │ \u001b[36m     0\u001b[0m │ \u001b[36m    0\u001b[0m │ \u001b[36m 14000\u001b[0m │ \u001b[36m  8400\u001b[0m │ \u001b[36m500\u001b[0m │ \u001b[36m 8000\u001b[0m │ \u001b[36m12000\u001b[0m │ \u001b[36m20000\u001b[0m │ \u001b[36m  40000\u001b[0m │ \u001b[32m▅▇▆▃▁▁\u001b[0m │  │\n",
       "│ │ \u001b[38;5;141mint_rate              \u001b[0m │ \u001b[36m     0\u001b[0m │ \u001b[36m    0\u001b[0m │ \u001b[36m    14\u001b[0m │ \u001b[36m   4.5\u001b[0m │ \u001b[36m5.3\u001b[0m │ \u001b[36m   10\u001b[0m │ \u001b[36m   13\u001b[0m │ \u001b[36m   16\u001b[0m │ \u001b[36m     31\u001b[0m │ \u001b[32m▅▇▇▃▁ \u001b[0m │  │\n",
       "│ │ \u001b[38;5;141minstallment           \u001b[0m │ \u001b[36m     0\u001b[0m │ \u001b[36m    0\u001b[0m │ \u001b[36m   430\u001b[0m │ \u001b[36m   250\u001b[0m │ \u001b[36m 16\u001b[0m │ \u001b[36m  250\u001b[0m │ \u001b[36m  380\u001b[0m │ \u001b[36m  570\u001b[0m │ \u001b[36m   1500\u001b[0m │ \u001b[32m▅▇▃▁▁ \u001b[0m │  │\n",
       "│ │ \u001b[38;5;141mannual_inc            \u001b[0m │ \u001b[36m     0\u001b[0m │ \u001b[36m    0\u001b[0m │ \u001b[36m 74000\u001b[0m │ \u001b[36m 62000\u001b[0m │ \u001b[36m  0\u001b[0m │ \u001b[36m45000\u001b[0m │ \u001b[36m64000\u001b[0m │ \u001b[36m90000\u001b[0m │ \u001b[36m8700000\u001b[0m │ \u001b[32m  ▇   \u001b[0m │  │\n",
       "│ │ \u001b[38;5;141mdti                   \u001b[0m │ \u001b[36m     0\u001b[0m │ \u001b[36m    0\u001b[0m │ \u001b[36m    17\u001b[0m │ \u001b[36m    18\u001b[0m │ \u001b[36m  0\u001b[0m │ \u001b[36m   11\u001b[0m │ \u001b[36m   17\u001b[0m │ \u001b[36m   23\u001b[0m │ \u001b[36m  10000\u001b[0m │ \u001b[32m  ▇   \u001b[0m │  │\n",
       "│ │ \u001b[38;5;141mopen_acc              \u001b[0m │ \u001b[36m     0\u001b[0m │ \u001b[36m    0\u001b[0m │ \u001b[36m    11\u001b[0m │ \u001b[36m   5.1\u001b[0m │ \u001b[36m  0\u001b[0m │ \u001b[36m    8\u001b[0m │ \u001b[36m   10\u001b[0m │ \u001b[36m   14\u001b[0m │ \u001b[36m     90\u001b[0m │ \u001b[32m  ▇▂  \u001b[0m │  │\n",
       "│ │ \u001b[38;5;141mpub_rec               \u001b[0m │ \u001b[36m     0\u001b[0m │ \u001b[36m    0\u001b[0m │ \u001b[36m  0.18\u001b[0m │ \u001b[36m  0.53\u001b[0m │ \u001b[36m  0\u001b[0m │ \u001b[36m    0\u001b[0m │ \u001b[36m    0\u001b[0m │ \u001b[36m    0\u001b[0m │ \u001b[36m     86\u001b[0m │ \u001b[32m  ▇   \u001b[0m │  │\n",
       "│ │ \u001b[38;5;141mrevol_bal             \u001b[0m │ \u001b[36m     0\u001b[0m │ \u001b[36m    0\u001b[0m │ \u001b[36m 16000\u001b[0m │ \u001b[36m 21000\u001b[0m │ \u001b[36m  0\u001b[0m │ \u001b[36m 6000\u001b[0m │ \u001b[36m11000\u001b[0m │ \u001b[36m20000\u001b[0m │ \u001b[36m1700000\u001b[0m │ \u001b[32m  ▇   \u001b[0m │  │\n",
       "│ │ \u001b[38;5;141mrevol_util            \u001b[0m │ \u001b[36m   276\u001b[0m │ \u001b[36m 0.07\u001b[0m │ \u001b[36m    54\u001b[0m │ \u001b[36m    24\u001b[0m │ \u001b[36m  0\u001b[0m │ \u001b[36m   36\u001b[0m │ \u001b[36m   55\u001b[0m │ \u001b[36m   73\u001b[0m │ \u001b[36m    890\u001b[0m │ \u001b[32m  ▇   \u001b[0m │  │\n",
       "│ │ \u001b[38;5;141mtotal_acc             \u001b[0m │ \u001b[36m     0\u001b[0m │ \u001b[36m    0\u001b[0m │ \u001b[36m    25\u001b[0m │ \u001b[36m    12\u001b[0m │ \u001b[36m  2\u001b[0m │ \u001b[36m   17\u001b[0m │ \u001b[36m   24\u001b[0m │ \u001b[36m   32\u001b[0m │ \u001b[36m    150\u001b[0m │ \u001b[32m  ▇▅  \u001b[0m │  │\n",
       "│ │ \u001b[38;5;141mmort_acc              \u001b[0m │ \u001b[36m 37795\u001b[0m │ \u001b[36m 9.54\u001b[0m │ \u001b[36m   1.8\u001b[0m │ \u001b[36m   2.1\u001b[0m │ \u001b[36m  0\u001b[0m │ \u001b[36m    0\u001b[0m │ \u001b[36m    1\u001b[0m │ \u001b[36m    3\u001b[0m │ \u001b[36m     34\u001b[0m │ \u001b[32m  ▇▁  \u001b[0m │  │\n",
       "│ │ \u001b[38;5;141mpub_rec_bankruptcies  \u001b[0m │ \u001b[36m   535\u001b[0m │ \u001b[36m 0.14\u001b[0m │ \u001b[36m  0.12\u001b[0m │ \u001b[36m  0.36\u001b[0m │ \u001b[36m  0\u001b[0m │ \u001b[36m    0\u001b[0m │ \u001b[36m    0\u001b[0m │ \u001b[36m    0\u001b[0m │ \u001b[36m      8\u001b[0m │ \u001b[32m  ▇   \u001b[0m │  │\n",
       "│ └────────────────────────┴────────┴───────┴────────┴────────┴─────┴───────┴───────┴───────┴─────────┴────────┘  │\n",
       "│ \u001b[3m                                                    string                                                    \u001b[0m  │\n",
       "│ ┏━━━━━━━━━━━━━━━━━━━━━━━━━━━━━━━━━━━━┳━━━━━━━━━━━━┳━━━━━━━━━━┳━━━━━━━━━━━━━━━━━━━━━━━━━┳━━━━━━━━━━━━━━━━━━━━━┓  │\n",
       "│ ┃\u001b[1m \u001b[0m\u001b[1mcolumn_name                       \u001b[0m\u001b[1m \u001b[0m┃\u001b[1m \u001b[0m\u001b[1mNA        \u001b[0m\u001b[1m \u001b[0m┃\u001b[1m \u001b[0m\u001b[1mNA %    \u001b[0m\u001b[1m \u001b[0m┃\u001b[1m \u001b[0m\u001b[1mwords per row          \u001b[0m\u001b[1m \u001b[0m┃\u001b[1m \u001b[0m\u001b[1mtotal words        \u001b[0m\u001b[1m \u001b[0m┃  │\n",
       "│ ┡━━━━━━━━━━━━━━━━━━━━━━━━━━━━━━━━━━━━╇━━━━━━━━━━━━╇━━━━━━━━━━╇━━━━━━━━━━━━━━━━━━━━━━━━━╇━━━━━━━━━━━━━━━━━━━━━┩  │\n",
       "│ │ \u001b[38;5;141mterm                              \u001b[0m │ \u001b[36m         0\u001b[0m │ \u001b[36m       0\u001b[0m │ \u001b[36m                      3\u001b[0m │ \u001b[36m            1188090\u001b[0m │  │\n",
       "│ │ \u001b[38;5;141mgrade                             \u001b[0m │ \u001b[36m         0\u001b[0m │ \u001b[36m       0\u001b[0m │ \u001b[36m                      1\u001b[0m │ \u001b[36m             396030\u001b[0m │  │\n",
       "│ │ \u001b[38;5;141msub_grade                         \u001b[0m │ \u001b[36m         0\u001b[0m │ \u001b[36m       0\u001b[0m │ \u001b[36m                      1\u001b[0m │ \u001b[36m             396030\u001b[0m │  │\n",
       "│ │ \u001b[38;5;141memp_title                         \u001b[0m │ \u001b[36m     22927\u001b[0m │ \u001b[36m    5.79\u001b[0m │ \u001b[36m                    2.2\u001b[0m │ \u001b[36m             860939\u001b[0m │  │\n",
       "│ │ \u001b[38;5;141memp_length                        \u001b[0m │ \u001b[36m     18301\u001b[0m │ \u001b[36m    4.62\u001b[0m │ \u001b[36m                      2\u001b[0m │ \u001b[36m             787183\u001b[0m │  │\n",
       "│ │ \u001b[38;5;141mhome_ownership                    \u001b[0m │ \u001b[36m         0\u001b[0m │ \u001b[36m       0\u001b[0m │ \u001b[36m                      1\u001b[0m │ \u001b[36m             396030\u001b[0m │  │\n",
       "│ │ \u001b[38;5;141mverification_status               \u001b[0m │ \u001b[36m         0\u001b[0m │ \u001b[36m       0\u001b[0m │ \u001b[36m                    1.6\u001b[0m │ \u001b[36m             652497\u001b[0m │  │\n",
       "│ │ \u001b[38;5;141missue_d                           \u001b[0m │ \u001b[36m         0\u001b[0m │ \u001b[36m       0\u001b[0m │ \u001b[36m                      1\u001b[0m │ \u001b[36m             396030\u001b[0m │  │\n",
       "│ │ \u001b[38;5;141mloan_status                       \u001b[0m │ \u001b[36m         0\u001b[0m │ \u001b[36m       0\u001b[0m │ \u001b[36m                      2\u001b[0m │ \u001b[36m             792060\u001b[0m │  │\n",
       "│ │ \u001b[38;5;141mpurpose                           \u001b[0m │ \u001b[36m         0\u001b[0m │ \u001b[36m       0\u001b[0m │ \u001b[36m                      1\u001b[0m │ \u001b[36m             396030\u001b[0m │  │\n",
       "│ │ \u001b[38;5;141mtitle                             \u001b[0m │ \u001b[36m      1756\u001b[0m │ \u001b[36m    0.44\u001b[0m │ \u001b[36m                    2.2\u001b[0m │ \u001b[36m             888835\u001b[0m │  │\n",
       "│ │ \u001b[38;5;141mearliest_cr_line                  \u001b[0m │ \u001b[36m         0\u001b[0m │ \u001b[36m       0\u001b[0m │ \u001b[36m                      1\u001b[0m │ \u001b[36m             396030\u001b[0m │  │\n",
       "│ │ \u001b[38;5;141minitial_list_status               \u001b[0m │ \u001b[36m         0\u001b[0m │ \u001b[36m       0\u001b[0m │ \u001b[36m                      1\u001b[0m │ \u001b[36m             396030\u001b[0m │  │\n",
       "│ │ \u001b[38;5;141mapplication_type                  \u001b[0m │ \u001b[36m         0\u001b[0m │ \u001b[36m       0\u001b[0m │ \u001b[36m                      1\u001b[0m │ \u001b[36m             396030\u001b[0m │  │\n",
       "│ │ \u001b[38;5;141maddress                           \u001b[0m │ \u001b[36m         0\u001b[0m │ \u001b[36m       0\u001b[0m │ \u001b[36m                    6.4\u001b[0m │ \u001b[36m            2524656\u001b[0m │  │\n",
       "│ └────────────────────────────────────┴────────────┴──────────┴─────────────────────────┴─────────────────────┘  │\n",
       "╰────────────────────────────────────────────────────── End ──────────────────────────────────────────────────────╯\n"
      ]
     },
     "metadata": {},
     "output_type": "display_data"
    }
   ],
   "source": [
    "# !pip install skimpy\n",
    "import skimpy\n",
    "\n",
    "skimpy.skim(df)\n"
   ]
  },
  {
   "cell_type": "markdown",
   "metadata": {},
   "source": [
    "---\n",
    "---\n",
    "# Section 1: Exploratory Data Analysis\n",
    "\n",
    "**OVERALL GOAL: Get an understanding for which variables are important, view summary statistics, and visualize the data**\n",
    "\n",
    "----"
   ]
  },
  {
   "cell_type": "code",
   "execution_count": 15,
   "metadata": {},
   "outputs": [
    {
     "data": {
      "text/plain": [
       "<AxesSubplot:xlabel='loan_status', ylabel='count'>"
      ]
     },
     "execution_count": 15,
     "metadata": {},
     "output_type": "execute_result"
    },
    {
     "data": {
      "image/png": "[encoded data removed]",
      "text/plain": [
       "<Figure size 432x288 with 1 Axes>"
      ]
     },
     "metadata": {
      "needs_background": "light"
     },
     "output_type": "display_data"
    }
   ],
   "source": [
    "# See how unbalanced are the output labels\n",
    "sns.countplot(x='loan_status',data=df, hue='loan_status')"
   ]
  },
  {
   "cell_type": "code",
   "execution_count": 16,
   "metadata": {},
   "outputs": [
    {
     "data": {
      "text/plain": [
       "loan_status\n",
       "Fully Paid     318357\n",
       "Charged Off     77673\n",
       "Name: count, dtype: int64"
      ]
     },
     "execution_count": 16,
     "metadata": {},
     "output_type": "execute_result"
    }
   ],
   "source": [
    "# See how unbalanced are the output labels\n",
    "df['loan_status'].value_counts()"
   ]
  },
  {
   "cell_type": "code",
   "execution_count": 17,
   "metadata": {},
   "outputs": [
    {
     "data": {
      "text/html": [
       "<div>\n",
       "<style scoped>\n",
       "    .dataframe tbody tr th:only-of-type {\n",
       "        vertical-align: middle;\n",
       "    }\n",
       "\n",
       "    .dataframe tbody tr th {\n",
       "        vertical-align: top;\n",
       "    }\n",
       "\n",
       "    .dataframe thead th {\n",
       "        text-align: right;\n",
       "    }\n",
       "</style>\n",
       "<table border=\"1\" class=\"dataframe\">\n",
       "  <thead>\n",
       "    <tr style=\"text-align: right;\">\n",
       "      <th></th>\n",
       "      <th>loan_amnt</th>\n",
       "      <th>int_rate</th>\n",
       "      <th>installment</th>\n",
       "      <th>annual_inc</th>\n",
       "      <th>dti</th>\n",
       "      <th>open_acc</th>\n",
       "      <th>pub_rec</th>\n",
       "      <th>revol_bal</th>\n",
       "      <th>revol_util</th>\n",
       "      <th>total_acc</th>\n",
       "      <th>mort_acc</th>\n",
       "      <th>pub_rec_bankruptcies</th>\n",
       "    </tr>\n",
       "  </thead>\n",
       "  <tbody>\n",
       "    <tr>\n",
       "      <th>loan_amnt</th>\n",
       "      <td>1.000000</td>\n",
       "      <td>0.168921</td>\n",
       "      <td>0.953929</td>\n",
       "      <td>0.336887</td>\n",
       "      <td>0.016636</td>\n",
       "      <td>0.198556</td>\n",
       "      <td>-0.077779</td>\n",
       "      <td>0.328320</td>\n",
       "      <td>0.099911</td>\n",
       "      <td>0.223886</td>\n",
       "      <td>0.222315</td>\n",
       "      <td>-0.106539</td>\n",
       "    </tr>\n",
       "    <tr>\n",
       "      <th>int_rate</th>\n",
       "      <td>0.168921</td>\n",
       "      <td>1.000000</td>\n",
       "      <td>0.162758</td>\n",
       "      <td>-0.056771</td>\n",
       "      <td>0.079038</td>\n",
       "      <td>0.011649</td>\n",
       "      <td>0.060986</td>\n",
       "      <td>-0.011280</td>\n",
       "      <td>0.293659</td>\n",
       "      <td>-0.036404</td>\n",
       "      <td>-0.082583</td>\n",
       "      <td>0.057450</td>\n",
       "    </tr>\n",
       "    <tr>\n",
       "      <th>installment</th>\n",
       "      <td>0.953929</td>\n",
       "      <td>0.162758</td>\n",
       "      <td>1.000000</td>\n",
       "      <td>0.330381</td>\n",
       "      <td>0.015786</td>\n",
       "      <td>0.188973</td>\n",
       "      <td>-0.067892</td>\n",
       "      <td>0.316455</td>\n",
       "      <td>0.123915</td>\n",
       "      <td>0.202430</td>\n",
       "      <td>0.193694</td>\n",
       "      <td>-0.098628</td>\n",
       "    </tr>\n",
       "    <tr>\n",
       "      <th>annual_inc</th>\n",
       "      <td>0.336887</td>\n",
       "      <td>-0.056771</td>\n",
       "      <td>0.330381</td>\n",
       "      <td>1.000000</td>\n",
       "      <td>-0.081685</td>\n",
       "      <td>0.136150</td>\n",
       "      <td>-0.013720</td>\n",
       "      <td>0.299773</td>\n",
       "      <td>0.027871</td>\n",
       "      <td>0.193023</td>\n",
       "      <td>0.236320</td>\n",
       "      <td>-0.050162</td>\n",
       "    </tr>\n",
       "    <tr>\n",
       "      <th>dti</th>\n",
       "      <td>0.016636</td>\n",
       "      <td>0.079038</td>\n",
       "      <td>0.015786</td>\n",
       "      <td>-0.081685</td>\n",
       "      <td>1.000000</td>\n",
       "      <td>0.136181</td>\n",
       "      <td>-0.017639</td>\n",
       "      <td>0.063571</td>\n",
       "      <td>0.088375</td>\n",
       "      <td>0.102128</td>\n",
       "      <td>-0.025439</td>\n",
       "      <td>-0.014558</td>\n",
       "    </tr>\n",
       "    <tr>\n",
       "      <th>open_acc</th>\n",
       "      <td>0.198556</td>\n",
       "      <td>0.011649</td>\n",
       "      <td>0.188973</td>\n",
       "      <td>0.136150</td>\n",
       "      <td>0.136181</td>\n",
       "      <td>1.000000</td>\n",
       "      <td>-0.018392</td>\n",
       "      <td>0.221192</td>\n",
       "      <td>-0.131420</td>\n",
       "      <td>0.680728</td>\n",
       "      <td>0.109205</td>\n",
       "      <td>-0.027732</td>\n",
       "    </tr>\n",
       "    <tr>\n",
       "      <th>pub_rec</th>\n",
       "      <td>-0.077779</td>\n",
       "      <td>0.060986</td>\n",
       "      <td>-0.067892</td>\n",
       "      <td>-0.013720</td>\n",
       "      <td>-0.017639</td>\n",
       "      <td>-0.018392</td>\n",
       "      <td>1.000000</td>\n",
       "      <td>-0.101664</td>\n",
       "      <td>-0.075910</td>\n",
       "      <td>0.019723</td>\n",
       "      <td>0.011552</td>\n",
       "      <td>0.699408</td>\n",
       "    </tr>\n",
       "    <tr>\n",
       "      <th>revol_bal</th>\n",
       "      <td>0.328320</td>\n",
       "      <td>-0.011280</td>\n",
       "      <td>0.316455</td>\n",
       "      <td>0.299773</td>\n",
       "      <td>0.063571</td>\n",
       "      <td>0.221192</td>\n",
       "      <td>-0.101664</td>\n",
       "      <td>1.000000</td>\n",
       "      <td>0.226346</td>\n",
       "      <td>0.191616</td>\n",
       "      <td>0.194925</td>\n",
       "      <td>-0.124532</td>\n",
       "    </tr>\n",
       "    <tr>\n",
       "      <th>revol_util</th>\n",
       "      <td>0.099911</td>\n",
       "      <td>0.293659</td>\n",
       "      <td>0.123915</td>\n",
       "      <td>0.027871</td>\n",
       "      <td>0.088375</td>\n",
       "      <td>-0.131420</td>\n",
       "      <td>-0.075910</td>\n",
       "      <td>0.226346</td>\n",
       "      <td>1.000000</td>\n",
       "      <td>-0.104273</td>\n",
       "      <td>0.007514</td>\n",
       "      <td>-0.086751</td>\n",
       "    </tr>\n",
       "    <tr>\n",
       "      <th>total_acc</th>\n",
       "      <td>0.223886</td>\n",
       "      <td>-0.036404</td>\n",
       "      <td>0.202430</td>\n",
       "      <td>0.193023</td>\n",
       "      <td>0.102128</td>\n",
       "      <td>0.680728</td>\n",
       "      <td>0.019723</td>\n",
       "      <td>0.191616</td>\n",
       "      <td>-0.104273</td>\n",
       "      <td>1.000000</td>\n",
       "      <td>0.381072</td>\n",
       "      <td>0.042035</td>\n",
       "    </tr>\n",
       "    <tr>\n",
       "      <th>mort_acc</th>\n",
       "      <td>0.222315</td>\n",
       "      <td>-0.082583</td>\n",
       "      <td>0.193694</td>\n",
       "      <td>0.236320</td>\n",
       "      <td>-0.025439</td>\n",
       "      <td>0.109205</td>\n",
       "      <td>0.011552</td>\n",
       "      <td>0.194925</td>\n",
       "      <td>0.007514</td>\n",
       "      <td>0.381072</td>\n",
       "      <td>1.000000</td>\n",
       "      <td>0.027239</td>\n",
       "    </tr>\n",
       "    <tr>\n",
       "      <th>pub_rec_bankruptcies</th>\n",
       "      <td>-0.106539</td>\n",
       "      <td>0.057450</td>\n",
       "      <td>-0.098628</td>\n",
       "      <td>-0.050162</td>\n",
       "      <td>-0.014558</td>\n",
       "      <td>-0.027732</td>\n",
       "      <td>0.699408</td>\n",
       "      <td>-0.124532</td>\n",
       "      <td>-0.086751</td>\n",
       "      <td>0.042035</td>\n",
       "      <td>0.027239</td>\n",
       "      <td>1.000000</td>\n",
       "    </tr>\n",
       "  </tbody>\n",
       "</table>\n",
       "</div>"
      ],
      "text/plain": [
       "                      loan_amnt  int_rate  installment  annual_inc       dti  \\\n",
       "loan_amnt              1.000000  0.168921     0.953929    0.336887  0.016636   \n",
       "int_rate               0.168921  1.000000     0.162758   -0.056771  0.079038   \n",
       "installment            0.953929  0.162758     1.000000    0.330381  0.015786   \n",
       "annual_inc             0.336887 -0.056771     0.330381    1.000000 -0.081685   \n",
       "dti                    0.016636  0.079038     0.015786   -0.081685  1.000000   \n",
       "open_acc               0.198556  0.011649     0.188973    0.136150  0.136181   \n",
       "pub_rec               -0.077779  0.060986    -0.067892   -0.013720 -0.017639   \n",
       "revol_bal              0.328320 -0.011280     0.316455    0.299773  0.063571   \n",
       "revol_util             0.099911  0.293659     0.123915    0.027871  0.088375   \n",
       "total_acc              0.223886 -0.036404     0.202430    0.193023  0.102128   \n",
       "mort_acc               0.222315 -0.082583     0.193694    0.236320 -0.025439   \n",
       "pub_rec_bankruptcies  -0.106539  0.057450    -0.098628   -0.050162 -0.014558   \n",
       "\n",
       "                      open_acc   pub_rec  revol_bal  revol_util  total_acc  \\\n",
       "loan_amnt             0.198556 -0.077779   0.328320    0.099911   0.223886   \n",
       "int_rate              0.011649  0.060986  -0.011280    0.293659  -0.036404   \n",
       "installment           0.188973 -0.067892   0.316455    0.123915   0.202430   \n",
       "annual_inc            0.136150 -0.013720   0.299773    0.027871   0.193023   \n",
       "dti                   0.136181 -0.017639   0.063571    0.088375   0.102128   \n",
       "open_acc              1.000000 -0.018392   0.221192   -0.131420   0.680728   \n",
       "pub_rec              -0.018392  1.000000  -0.101664   -0.075910   0.019723   \n",
       "revol_bal             0.221192 -0.101664   1.000000    0.226346   0.191616   \n",
       "revol_util           -0.131420 -0.075910   0.226346    1.000000  -0.104273   \n",
       "total_acc             0.680728  0.019723   0.191616   -0.104273   1.000000   \n",
       "mort_acc              0.109205  0.011552   0.194925    0.007514   0.381072   \n",
       "pub_rec_bankruptcies -0.027732  0.699408  -0.124532   -0.086751   0.042035   \n",
       "\n",
       "                      mort_acc  pub_rec_bankruptcies  \n",
       "loan_amnt             0.222315             -0.106539  \n",
       "int_rate             -0.082583              0.057450  \n",
       "installment           0.193694             -0.098628  \n",
       "annual_inc            0.236320             -0.050162  \n",
       "dti                  -0.025439             -0.014558  \n",
       "open_acc              0.109205             -0.027732  \n",
       "pub_rec               0.011552              0.699408  \n",
       "revol_bal             0.194925             -0.124532  \n",
       "revol_util            0.007514             -0.086751  \n",
       "total_acc             0.381072              0.042035  \n",
       "mort_acc              1.000000              0.027239  \n",
       "pub_rec_bankruptcies  0.027239              1.000000  "
      ]
     },
     "execution_count": 17,
     "metadata": {},
     "output_type": "execute_result"
    }
   ],
   "source": [
    "# Correlation bwtween the data continuous features\n",
    "df.select_dtypes(include=\"number\").corr()"
   ]
  },
  {
   "cell_type": "code",
   "execution_count": 18,
   "metadata": {},
   "outputs": [
    {
     "data": {
      "text/plain": [
       "<AxesSubplot:>"
      ]
     },
     "execution_count": 18,
     "metadata": {},
     "output_type": "execute_result"
    },
    {
     "data": {
      "image/png": "[encoded data removed]",
      "text/plain": [
       "<Figure size 864x576 with 2 Axes>"
      ]
     },
     "metadata": {
      "needs_background": "light"
     },
     "output_type": "display_data"
    }
   ],
   "source": [
    "# Show the correlation heatmap\n",
    "plt.figure(figsize=(12,8))\n",
    "sns.heatmap(df.select_dtypes(include=\"number\").corr(), annot=True)"
   ]
  },
  {
   "cell_type": "markdown",
   "metadata": {},
   "source": [
    "* Conclusions: \n",
    "   - Installment is highly correlated to Loan Amount.  Maybe we can get rid of it."
   ]
  },
  {
   "cell_type": "code",
   "execution_count": 19,
   "metadata": {},
   "outputs": [
    {
     "data": {
      "text/plain": [
       "<AxesSubplot:xlabel='loan_amnt', ylabel='installment'>"
      ]
     },
     "execution_count": 19,
     "metadata": {},
     "output_type": "execute_result"
    },
    {
     "data": {
      "image/png": "[encoded data removed]",
      "text/plain": [
       "<Figure size 432x288 with 1 Axes>"
      ]
     },
     "metadata": {
      "needs_background": "light"
     },
     "output_type": "display_data"
    }
   ],
   "source": [
    "sns.scatterplot(data=df, x='loan_amnt', y='installment')"
   ]
  },
  {
   "cell_type": "markdown",
   "metadata": {},
   "source": [
    "* Conclusion: It makes sense this high correlation. Installments are usually a fraction of the loan amount.  We can get rid of the installment feature"
   ]
  },
  {
   "cell_type": "code",
   "execution_count": 20,
   "metadata": {},
   "outputs": [
    {
     "data": {
      "text/plain": [
       "<AxesSubplot:xlabel='loan_status', ylabel='loan_amnt'>"
      ]
     },
     "execution_count": 20,
     "metadata": {},
     "output_type": "execute_result"
    },
    {
     "data": {
      "image/png": "[encoded data removed]",
      "text/plain": [
       "<Figure size 864x576 with 1 Axes>"
      ]
     },
     "metadata": {
      "needs_background": "light"
     },
     "output_type": "display_data"
    }
   ],
   "source": [
    "# Let see if the loan_status is impacted by the loan amount\n",
    "plt.figure(figsize=(12,8))\n",
    "sns.boxplot(data=df, x='loan_status', y='loan_amnt')"
   ]
  },
  {
   "cell_type": "code",
   "execution_count": 21,
   "metadata": {},
   "outputs": [
    {
     "data": {
      "text/plain": [
       "loan_status\n",
       "Charged Off    15126.300967\n",
       "Fully Paid     13866.878771\n",
       "Name: loan_amnt, dtype: float64"
      ]
     },
     "execution_count": 21,
     "metadata": {},
     "output_type": "execute_result"
    }
   ],
   "source": [
    "# Calculaate the mean of loan amount of each loan status category\n",
    "df[['loan_status', 'loan_amnt']].groupby('loan_status').mean()['loan_amnt']"
   ]
  },
  {
   "cell_type": "code",
   "execution_count": 22,
   "metadata": {},
   "outputs": [
    {
     "data": {
      "text/plain": [
       "grade\n",
       "B    116018\n",
       "C    105987\n",
       "A     64187\n",
       "D     63524\n",
       "E     31488\n",
       "F     11772\n",
       "G      3054\n",
       "Name: count, dtype: int64"
      ]
     },
     "execution_count": 22,
     "metadata": {},
     "output_type": "execute_result"
    }
   ],
   "source": [
    "# Let's explore Grade and Subgrade columns\n",
    "df['grade'].value_counts()"
   ]
  },
  {
   "cell_type": "code",
   "execution_count": 23,
   "metadata": {},
   "outputs": [
    {
     "data": {
      "text/plain": [
       "sub_grade\n",
       "B3    26655\n",
       "B4    25601\n",
       "C1    23662\n",
       "C2    22580\n",
       "B2    22495\n",
       "B5    22085\n",
       "C3    21221\n",
       "C4    20280\n",
       "B1    19182\n",
       "A5    18526\n",
       "C5    18244\n",
       "D1    15993\n",
       "A4    15789\n",
       "D2    13951\n",
       "D3    12223\n",
       "D4    11657\n",
       "A3    10576\n",
       "A1     9729\n",
       "D5     9700\n",
       "A2     9567\n",
       "E1     7917\n",
       "E2     7431\n",
       "E3     6207\n",
       "E4     5361\n",
       "E5     4572\n",
       "F1     3536\n",
       "F2     2766\n",
       "F3     2286\n",
       "F4     1787\n",
       "F5     1397\n",
       "G1     1058\n",
       "G2      754\n",
       "G3      552\n",
       "G4      374\n",
       "G5      316\n",
       "Name: count, dtype: int64"
      ]
     },
     "execution_count": 23,
     "metadata": {},
     "output_type": "execute_result"
    }
   ],
   "source": [
    "df['sub_grade'].value_counts()"
   ]
  },
  {
   "cell_type": "code",
   "execution_count": 24,
   "metadata": {},
   "outputs": [
    {
     "data": {
      "image/png": "[encoded data removed]",
      "text/plain": [
       "<Figure size 1728x360 with 2 Axes>"
      ]
     },
     "metadata": {
      "needs_background": "light"
     },
     "output_type": "display_data"
    }
   ],
   "source": [
    "palette = sns.color_palette('mako', n_colors=2)\n",
    "fig, (ax1, ax2) = plt.subplots(1, 2, figsize=(24, 5))\n",
    "\n",
    "\n",
    "ordered_grade = sorted(df[\"grade\"].unique())\n",
    "ordered_subgrade = sorted(df[\"sub_grade\"].unique())\n",
    "\n",
    "sns.countplot(data=df, x='grade', ax=ax1, order=ordered_grade, hue='loan_status', palette=palette)\n",
    "sns.countplot(data=df, x='sub_grade', ax=ax2, order=ordered_subgrade, hue='loan_status',  palette=palette)\n",
    "# plt.tight_layout()\n",
    "plt.show()"
   ]
  },
  {
   "cell_type": "markdown",
   "metadata": {},
   "source": [
    "* Conclusion: It looks like F and G grades loans are not paid back quite often"
   ]
  },
  {
   "cell_type": "code",
   "execution_count": 25,
   "metadata": {},
   "outputs": [
    {
     "data": {
      "image/png": "[encoded data removed]",
      "text/plain": [
       "<Figure size 864x360 with 1 Axes>"
      ]
     },
     "metadata": {
      "needs_background": "light"
     },
     "output_type": "display_data"
    }
   ],
   "source": [
    "# Take a closer look at those bad subgrades\n",
    "\n",
    "palette = sns.color_palette('mako', n_colors=2)\n",
    "\n",
    "ordered_subgrade = sorted(df[df['grade'].isin([\"F\", \"G\"])][\"sub_grade\"].unique())\n",
    "plt.figure(figsize=(12,5))\n",
    "sns.countplot(data=df[df['grade'].isin([\"F\", \"G\"])], x='sub_grade', order=ordered_subgrade, hue='loan_status',  palette=palette)\n",
    "# plt.tight_layout()\n",
    "plt.show()"
   ]
  },
  {
   "cell_type": "code",
   "execution_count": 26,
   "metadata": {},
   "outputs": [],
   "source": [
    "# Create a column with the loan_status hot-one encoded\n",
    "df['loan_repaid'] = np.where(df[\"loan_status\"] == \"Fully Paid\", 1, 0)"
   ]
  },
  {
   "cell_type": "code",
   "execution_count": 27,
   "metadata": {},
   "outputs": [
    {
     "data": {
      "text/html": [
       "<div>\n",
       "<style scoped>\n",
       "    .dataframe tbody tr th:only-of-type {\n",
       "        vertical-align: middle;\n",
       "    }\n",
       "\n",
       "    .dataframe tbody tr th {\n",
       "        vertical-align: top;\n",
       "    }\n",
       "\n",
       "    .dataframe thead th {\n",
       "        text-align: right;\n",
       "    }\n",
       "</style>\n",
       "<table border=\"1\" class=\"dataframe\">\n",
       "  <thead>\n",
       "    <tr style=\"text-align: right;\">\n",
       "      <th></th>\n",
       "      <th>loan_status</th>\n",
       "      <th>loan_repaid</th>\n",
       "    </tr>\n",
       "  </thead>\n",
       "  <tbody>\n",
       "    <tr>\n",
       "      <th>0</th>\n",
       "      <td>Fully Paid</td>\n",
       "      <td>1</td>\n",
       "    </tr>\n",
       "    <tr>\n",
       "      <th>1</th>\n",
       "      <td>Fully Paid</td>\n",
       "      <td>1</td>\n",
       "    </tr>\n",
       "    <tr>\n",
       "      <th>2</th>\n",
       "      <td>Fully Paid</td>\n",
       "      <td>1</td>\n",
       "    </tr>\n",
       "    <tr>\n",
       "      <th>3</th>\n",
       "      <td>Fully Paid</td>\n",
       "      <td>1</td>\n",
       "    </tr>\n",
       "    <tr>\n",
       "      <th>4</th>\n",
       "      <td>Charged Off</td>\n",
       "      <td>0</td>\n",
       "    </tr>\n",
       "    <tr>\n",
       "      <th>...</th>\n",
       "      <td>...</td>\n",
       "      <td>...</td>\n",
       "    </tr>\n",
       "    <tr>\n",
       "      <th>396025</th>\n",
       "      <td>Fully Paid</td>\n",
       "      <td>1</td>\n",
       "    </tr>\n",
       "    <tr>\n",
       "      <th>396026</th>\n",
       "      <td>Fully Paid</td>\n",
       "      <td>1</td>\n",
       "    </tr>\n",
       "    <tr>\n",
       "      <th>396027</th>\n",
       "      <td>Fully Paid</td>\n",
       "      <td>1</td>\n",
       "    </tr>\n",
       "    <tr>\n",
       "      <th>396028</th>\n",
       "      <td>Fully Paid</td>\n",
       "      <td>1</td>\n",
       "    </tr>\n",
       "    <tr>\n",
       "      <th>396029</th>\n",
       "      <td>Fully Paid</td>\n",
       "      <td>1</td>\n",
       "    </tr>\n",
       "  </tbody>\n",
       "</table>\n",
       "<p>396030 rows × 2 columns</p>\n",
       "</div>"
      ],
      "text/plain": [
       "        loan_status  loan_repaid\n",
       "0        Fully Paid            1\n",
       "1        Fully Paid            1\n",
       "2        Fully Paid            1\n",
       "3        Fully Paid            1\n",
       "4       Charged Off            0\n",
       "...             ...          ...\n",
       "396025   Fully Paid            1\n",
       "396026   Fully Paid            1\n",
       "396027   Fully Paid            1\n",
       "396028   Fully Paid            1\n",
       "396029   Fully Paid            1\n",
       "\n",
       "[396030 rows x 2 columns]"
      ]
     },
     "execution_count": 27,
     "metadata": {},
     "output_type": "execute_result"
    }
   ],
   "source": [
    "df[['loan_status','loan_repaid']]"
   ]
  },
  {
   "cell_type": "code",
   "execution_count": 28,
   "metadata": {},
   "outputs": [
    {
     "data": {
      "text/plain": [
       "int_rate               -0.247758\n",
       "revol_util             -0.082373\n",
       "dti                    -0.062413\n",
       "loan_amnt              -0.059836\n",
       "installment            -0.041082\n",
       "open_acc               -0.028012\n",
       "pub_rec                -0.019933\n",
       "pub_rec_bankruptcies   -0.009383\n",
       "revol_bal               0.010892\n",
       "total_acc               0.017893\n",
       "annual_inc              0.053432\n",
       "mort_acc                0.073111\n",
       "loan_repaid             1.000000\n",
       "Name: loan_repaid, dtype: float64"
      ]
     },
     "execution_count": 28,
     "metadata": {},
     "output_type": "execute_result"
    }
   ],
   "source": [
    "# Let's see how the other numerical columns correlate with 'loan_repaid'\n",
    "df.select_dtypes(include=\"number\").corr()['loan_repaid'].sort_values()\n"
   ]
  },
  {
   "cell_type": "markdown",
   "metadata": {},
   "source": [
    "---\n",
    "---\n",
    "# Section 2: Data PreProcessing\n",
    "\n",
    "**Section Goals: Remove or fill any missing data. Remove unnecessary or repetitive features. Convert categorical string features to dummy variables.**\n",
    "\n"
   ]
  },
  {
   "cell_type": "markdown",
   "metadata": {},
   "source": [
    "### Missing Data\n",
    "\n",
    "**Let's explore this missing data columns. We use a variety of factors to decide whether or not they would be useful, to see if we should keep, discard, or fill in the missing data.**"
   ]
  },
  {
   "cell_type": "code",
   "execution_count": 29,
   "metadata": {},
   "outputs": [
    {
     "data": {
      "text/plain": [
       "396030"
      ]
     },
     "execution_count": 29,
     "metadata": {},
     "output_type": "execute_result"
    }
   ],
   "source": [
    "len(df)"
   ]
  },
  {
   "cell_type": "code",
   "execution_count": 30,
   "metadata": {},
   "outputs": [
    {
     "name": "stdout",
     "output_type": "stream",
     "text": [
      "--- Missing values ---\n",
      "loan_amnt               0.000000\n",
      "term                    0.000000\n",
      "int_rate                0.000000\n",
      "installment             0.000000\n",
      "grade                   0.000000\n",
      "sub_grade               0.000000\n",
      "emp_title               5.789208\n",
      "emp_length              4.621115\n",
      "home_ownership          0.000000\n",
      "annual_inc              0.000000\n",
      "verification_status     0.000000\n",
      "issue_d                 0.000000\n",
      "loan_status             0.000000\n",
      "purpose                 0.000000\n",
      "title                   0.443401\n",
      "dti                     0.000000\n",
      "earliest_cr_line        0.000000\n",
      "open_acc                0.000000\n",
      "pub_rec                 0.000000\n",
      "revol_bal               0.000000\n",
      "revol_util              0.069692\n",
      "total_acc               0.000000\n",
      "initial_list_status     0.000000\n",
      "application_type        0.000000\n",
      "mort_acc                9.543469\n",
      "pub_rec_bankruptcies    0.135091\n",
      "address                 0.000000\n",
      "loan_repaid             0.000000\n",
      "Name: Missing Values, dtype: float64\n"
     ]
    }
   ],
   "source": [
    "print_missing_values(df)"
   ]
  },
  {
   "cell_type": "markdown",
   "metadata": {},
   "source": [
    "* Only columns: emp_title, emp_length, title, revol_util, mort_acc, pub_rec_bankruptcies have missing values."
   ]
  },
  {
   "cell_type": "code",
   "execution_count": 31,
   "metadata": {},
   "outputs": [
    {
     "data": {
      "text/html": [
       "<div>\n",
       "<style scoped>\n",
       "    .dataframe tbody tr th:only-of-type {\n",
       "        vertical-align: middle;\n",
       "    }\n",
       "\n",
       "    .dataframe tbody tr th {\n",
       "        vertical-align: top;\n",
       "    }\n",
       "\n",
       "    .dataframe thead th {\n",
       "        text-align: right;\n",
       "    }\n",
       "</style>\n",
       "<table border=\"1\" class=\"dataframe\">\n",
       "  <thead>\n",
       "    <tr style=\"text-align: right;\">\n",
       "      <th></th>\n",
       "      <th>loan_amnt</th>\n",
       "      <th>term</th>\n",
       "      <th>int_rate</th>\n",
       "      <th>installment</th>\n",
       "      <th>grade</th>\n",
       "      <th>sub_grade</th>\n",
       "      <th>emp_title</th>\n",
       "      <th>emp_length</th>\n",
       "      <th>home_ownership</th>\n",
       "      <th>annual_inc</th>\n",
       "      <th>...</th>\n",
       "      <th>pub_rec</th>\n",
       "      <th>revol_bal</th>\n",
       "      <th>revol_util</th>\n",
       "      <th>total_acc</th>\n",
       "      <th>initial_list_status</th>\n",
       "      <th>application_type</th>\n",
       "      <th>mort_acc</th>\n",
       "      <th>pub_rec_bankruptcies</th>\n",
       "      <th>address</th>\n",
       "      <th>loan_repaid</th>\n",
       "    </tr>\n",
       "  </thead>\n",
       "  <tbody>\n",
       "    <tr>\n",
       "      <th>0</th>\n",
       "      <td>False</td>\n",
       "      <td>False</td>\n",
       "      <td>False</td>\n",
       "      <td>False</td>\n",
       "      <td>False</td>\n",
       "      <td>False</td>\n",
       "      <td>False</td>\n",
       "      <td>False</td>\n",
       "      <td>False</td>\n",
       "      <td>False</td>\n",
       "      <td>...</td>\n",
       "      <td>False</td>\n",
       "      <td>False</td>\n",
       "      <td>False</td>\n",
       "      <td>False</td>\n",
       "      <td>False</td>\n",
       "      <td>False</td>\n",
       "      <td>False</td>\n",
       "      <td>False</td>\n",
       "      <td>False</td>\n",
       "      <td>False</td>\n",
       "    </tr>\n",
       "    <tr>\n",
       "      <th>1</th>\n",
       "      <td>False</td>\n",
       "      <td>False</td>\n",
       "      <td>False</td>\n",
       "      <td>False</td>\n",
       "      <td>False</td>\n",
       "      <td>False</td>\n",
       "      <td>False</td>\n",
       "      <td>False</td>\n",
       "      <td>False</td>\n",
       "      <td>False</td>\n",
       "      <td>...</td>\n",
       "      <td>False</td>\n",
       "      <td>False</td>\n",
       "      <td>False</td>\n",
       "      <td>False</td>\n",
       "      <td>False</td>\n",
       "      <td>False</td>\n",
       "      <td>False</td>\n",
       "      <td>False</td>\n",
       "      <td>False</td>\n",
       "      <td>False</td>\n",
       "    </tr>\n",
       "    <tr>\n",
       "      <th>2</th>\n",
       "      <td>False</td>\n",
       "      <td>False</td>\n",
       "      <td>False</td>\n",
       "      <td>False</td>\n",
       "      <td>False</td>\n",
       "      <td>False</td>\n",
       "      <td>False</td>\n",
       "      <td>False</td>\n",
       "      <td>False</td>\n",
       "      <td>False</td>\n",
       "      <td>...</td>\n",
       "      <td>False</td>\n",
       "      <td>False</td>\n",
       "      <td>False</td>\n",
       "      <td>False</td>\n",
       "      <td>False</td>\n",
       "      <td>False</td>\n",
       "      <td>False</td>\n",
       "      <td>False</td>\n",
       "      <td>False</td>\n",
       "      <td>False</td>\n",
       "    </tr>\n",
       "    <tr>\n",
       "      <th>3</th>\n",
       "      <td>False</td>\n",
       "      <td>False</td>\n",
       "      <td>False</td>\n",
       "      <td>False</td>\n",
       "      <td>False</td>\n",
       "      <td>False</td>\n",
       "      <td>False</td>\n",
       "      <td>False</td>\n",
       "      <td>False</td>\n",
       "      <td>False</td>\n",
       "      <td>...</td>\n",
       "      <td>False</td>\n",
       "      <td>False</td>\n",
       "      <td>False</td>\n",
       "      <td>False</td>\n",
       "      <td>False</td>\n",
       "      <td>False</td>\n",
       "      <td>False</td>\n",
       "      <td>False</td>\n",
       "      <td>False</td>\n",
       "      <td>False</td>\n",
       "    </tr>\n",
       "    <tr>\n",
       "      <th>4</th>\n",
       "      <td>False</td>\n",
       "      <td>False</td>\n",
       "      <td>False</td>\n",
       "      <td>False</td>\n",
       "      <td>False</td>\n",
       "      <td>False</td>\n",
       "      <td>False</td>\n",
       "      <td>False</td>\n",
       "      <td>False</td>\n",
       "      <td>False</td>\n",
       "      <td>...</td>\n",
       "      <td>False</td>\n",
       "      <td>False</td>\n",
       "      <td>False</td>\n",
       "      <td>False</td>\n",
       "      <td>False</td>\n",
       "      <td>False</td>\n",
       "      <td>False</td>\n",
       "      <td>False</td>\n",
       "      <td>False</td>\n",
       "      <td>False</td>\n",
       "    </tr>\n",
       "    <tr>\n",
       "      <th>...</th>\n",
       "      <td>...</td>\n",
       "      <td>...</td>\n",
       "      <td>...</td>\n",
       "      <td>...</td>\n",
       "      <td>...</td>\n",
       "      <td>...</td>\n",
       "      <td>...</td>\n",
       "      <td>...</td>\n",
       "      <td>...</td>\n",
       "      <td>...</td>\n",
       "      <td>...</td>\n",
       "      <td>...</td>\n",
       "      <td>...</td>\n",
       "      <td>...</td>\n",
       "      <td>...</td>\n",
       "      <td>...</td>\n",
       "      <td>...</td>\n",
       "      <td>...</td>\n",
       "      <td>...</td>\n",
       "      <td>...</td>\n",
       "      <td>...</td>\n",
       "    </tr>\n",
       "    <tr>\n",
       "      <th>396025</th>\n",
       "      <td>False</td>\n",
       "      <td>False</td>\n",
       "      <td>False</td>\n",
       "      <td>False</td>\n",
       "      <td>False</td>\n",
       "      <td>False</td>\n",
       "      <td>False</td>\n",
       "      <td>False</td>\n",
       "      <td>False</td>\n",
       "      <td>False</td>\n",
       "      <td>...</td>\n",
       "      <td>False</td>\n",
       "      <td>False</td>\n",
       "      <td>False</td>\n",
       "      <td>False</td>\n",
       "      <td>False</td>\n",
       "      <td>False</td>\n",
       "      <td>False</td>\n",
       "      <td>False</td>\n",
       "      <td>False</td>\n",
       "      <td>False</td>\n",
       "    </tr>\n",
       "    <tr>\n",
       "      <th>396026</th>\n",
       "      <td>False</td>\n",
       "      <td>False</td>\n",
       "      <td>False</td>\n",
       "      <td>False</td>\n",
       "      <td>False</td>\n",
       "      <td>False</td>\n",
       "      <td>False</td>\n",
       "      <td>False</td>\n",
       "      <td>False</td>\n",
       "      <td>False</td>\n",
       "      <td>...</td>\n",
       "      <td>False</td>\n",
       "      <td>False</td>\n",
       "      <td>False</td>\n",
       "      <td>False</td>\n",
       "      <td>False</td>\n",
       "      <td>False</td>\n",
       "      <td>False</td>\n",
       "      <td>False</td>\n",
       "      <td>False</td>\n",
       "      <td>False</td>\n",
       "    </tr>\n",
       "    <tr>\n",
       "      <th>396027</th>\n",
       "      <td>False</td>\n",
       "      <td>False</td>\n",
       "      <td>False</td>\n",
       "      <td>False</td>\n",
       "      <td>False</td>\n",
       "      <td>False</td>\n",
       "      <td>False</td>\n",
       "      <td>False</td>\n",
       "      <td>False</td>\n",
       "      <td>False</td>\n",
       "      <td>...</td>\n",
       "      <td>False</td>\n",
       "      <td>False</td>\n",
       "      <td>False</td>\n",
       "      <td>False</td>\n",
       "      <td>False</td>\n",
       "      <td>False</td>\n",
       "      <td>False</td>\n",
       "      <td>False</td>\n",
       "      <td>False</td>\n",
       "      <td>False</td>\n",
       "    </tr>\n",
       "    <tr>\n",
       "      <th>396028</th>\n",
       "      <td>False</td>\n",
       "      <td>False</td>\n",
       "      <td>False</td>\n",
       "      <td>False</td>\n",
       "      <td>False</td>\n",
       "      <td>False</td>\n",
       "      <td>False</td>\n",
       "      <td>False</td>\n",
       "      <td>False</td>\n",
       "      <td>False</td>\n",
       "      <td>...</td>\n",
       "      <td>False</td>\n",
       "      <td>False</td>\n",
       "      <td>False</td>\n",
       "      <td>False</td>\n",
       "      <td>False</td>\n",
       "      <td>False</td>\n",
       "      <td>False</td>\n",
       "      <td>False</td>\n",
       "      <td>False</td>\n",
       "      <td>False</td>\n",
       "    </tr>\n",
       "    <tr>\n",
       "      <th>396029</th>\n",
       "      <td>False</td>\n",
       "      <td>False</td>\n",
       "      <td>False</td>\n",
       "      <td>False</td>\n",
       "      <td>False</td>\n",
       "      <td>False</td>\n",
       "      <td>False</td>\n",
       "      <td>False</td>\n",
       "      <td>False</td>\n",
       "      <td>False</td>\n",
       "      <td>...</td>\n",
       "      <td>False</td>\n",
       "      <td>False</td>\n",
       "      <td>False</td>\n",
       "      <td>False</td>\n",
       "      <td>False</td>\n",
       "      <td>False</td>\n",
       "      <td>True</td>\n",
       "      <td>False</td>\n",
       "      <td>False</td>\n",
       "      <td>False</td>\n",
       "    </tr>\n",
       "  </tbody>\n",
       "</table>\n",
       "<p>396030 rows × 28 columns</p>\n",
       "</div>"
      ],
      "text/plain": [
       "        loan_amnt   term  int_rate  installment  grade  sub_grade  emp_title  \\\n",
       "0           False  False     False        False  False      False      False   \n",
       "1           False  False     False        False  False      False      False   \n",
       "2           False  False     False        False  False      False      False   \n",
       "3           False  False     False        False  False      False      False   \n",
       "4           False  False     False        False  False      False      False   \n",
       "...           ...    ...       ...          ...    ...        ...        ...   \n",
       "396025      False  False     False        False  False      False      False   \n",
       "396026      False  False     False        False  False      False      False   \n",
       "396027      False  False     False        False  False      False      False   \n",
       "396028      False  False     False        False  False      False      False   \n",
       "396029      False  False     False        False  False      False      False   \n",
       "\n",
       "        emp_length  home_ownership  annual_inc  ...  pub_rec  revol_bal  \\\n",
       "0            False           False       False  ...    False      False   \n",
       "1            False           False       False  ...    False      False   \n",
       "2            False           False       False  ...    False      False   \n",
       "3            False           False       False  ...    False      False   \n",
       "4            False           False       False  ...    False      False   \n",
       "...            ...             ...         ...  ...      ...        ...   \n",
       "396025       False           False       False  ...    False      False   \n",
       "396026       False           False       False  ...    False      False   \n",
       "396027       False           False       False  ...    False      False   \n",
       "396028       False           False       False  ...    False      False   \n",
       "396029       False           False       False  ...    False      False   \n",
       "\n",
       "        revol_util  total_acc  initial_list_status  application_type  \\\n",
       "0            False      False                False             False   \n",
       "1            False      False                False             False   \n",
       "2            False      False                False             False   \n",
       "3            False      False                False             False   \n",
       "4            False      False                False             False   \n",
       "...            ...        ...                  ...               ...   \n",
       "396025       False      False                False             False   \n",
       "396026       False      False                False             False   \n",
       "396027       False      False                False             False   \n",
       "396028       False      False                False             False   \n",
       "396029       False      False                False             False   \n",
       "\n",
       "        mort_acc  pub_rec_bankruptcies  address  loan_repaid  \n",
       "0          False                 False    False        False  \n",
       "1          False                 False    False        False  \n",
       "2          False                 False    False        False  \n",
       "3          False                 False    False        False  \n",
       "4          False                 False    False        False  \n",
       "...          ...                   ...      ...          ...  \n",
       "396025     False                 False    False        False  \n",
       "396026     False                 False    False        False  \n",
       "396027     False                 False    False        False  \n",
       "396028     False                 False    False        False  \n",
       "396029      True                 False    False        False  \n",
       "\n",
       "[396030 rows x 28 columns]"
      ]
     },
     "execution_count": 31,
     "metadata": {},
     "output_type": "execute_result"
    }
   ],
   "source": [
    "df.isna()"
   ]
  },
  {
   "cell_type": "markdown",
   "metadata": {},
   "source": [
    "#### emp_title and emp_length\n",
    "\n",
    "* Let's take care of emp_title and emp_length"
   ]
  },
  {
   "cell_type": "code",
   "execution_count": 32,
   "metadata": {},
   "outputs": [
    {
     "name": "stdout",
     "output_type": "stream",
     "text": [
      "emp_title\n",
      "Teacher                    4389\n",
      "Manager                    4250\n",
      "Registered Nurse           1856\n",
      "RN                         1846\n",
      "Supervisor                 1830\n",
      "                           ... \n",
      "Postman                       1\n",
      "McCarthy & Holthus, LLC       1\n",
      "jp flooring                   1\n",
      "Histology Technologist        1\n",
      "Gracon Services, Inc          1\n",
      "Name: count, Length: 173105, dtype: int64\n",
      "emp_length\n",
      "10+ years    126041\n",
      "2 years       35827\n",
      "< 1 year      31725\n",
      "3 years       31665\n",
      "5 years       26495\n",
      "1 year        25882\n",
      "4 years       23952\n",
      "6 years       20841\n",
      "7 years       20819\n",
      "8 years       19168\n",
      "9 years       15314\n",
      "Name: count, dtype: int64\n"
     ]
    }
   ],
   "source": [
    "print(df['emp_title'].value_counts())\n",
    "print(df['emp_length'].value_counts())"
   ]
  },
  {
   "cell_type": "code",
   "execution_count": 33,
   "metadata": {},
   "outputs": [
    {
     "data": {
      "text/plain": [
       "emp_title\n",
       "Teacher                    4389\n",
       "Manager                    4250\n",
       "Registered Nurse           1856\n",
       "RN                         1846\n",
       "Supervisor                 1830\n",
       "                           ... \n",
       "Postman                       1\n",
       "McCarthy & Holthus, LLC       1\n",
       "jp flooring                   1\n",
       "Histology Technologist        1\n",
       "Gracon Services, Inc          1\n",
       "Name: count, Length: 173105, dtype: int64"
      ]
     },
     "execution_count": 33,
     "metadata": {},
     "output_type": "execute_result"
    }
   ],
   "source": [
    "# Count of every category of emp_title\n",
    "df['emp_title'].value_counts()\n"
   ]
  },
  {
   "cell_type": "markdown",
   "metadata": {},
   "source": [
    "* Realistically there are too many unique job titles to try to convert this to a dummy variable feature. The column emp_title will be removed"
   ]
  },
  {
   "cell_type": "code",
   "execution_count": 34,
   "metadata": {},
   "outputs": [],
   "source": [
    "# Remove emp_title column\n",
    "df = df.drop('emp_title', axis=1)"
   ]
  },
  {
   "cell_type": "markdown",
   "metadata": {},
   "source": [
    "* Let's take care of emp_length"
   ]
  },
  {
   "cell_type": "code",
   "execution_count": 35,
   "metadata": {},
   "outputs": [
    {
     "name": "stdout",
     "output_type": "stream",
     "text": [
      "Employment length in years. Possible values are between 0 and 10 where 0 means less than one year and 10 means ten or more years. \n"
     ]
    }
   ],
   "source": [
    "feat_info('emp_length')"
   ]
  },
  {
   "cell_type": "code",
   "execution_count": 36,
   "metadata": {},
   "outputs": [
    {
     "data": {
      "text/plain": [
       "<bound method IndexOpsMixin.value_counts of 0         10+ years\n",
       "1           4 years\n",
       "2          < 1 year\n",
       "3           6 years\n",
       "4           9 years\n",
       "            ...    \n",
       "396025      2 years\n",
       "396026      5 years\n",
       "396027    10+ years\n",
       "396028    10+ years\n",
       "396029    10+ years\n",
       "Name: emp_length, Length: 396030, dtype: object>"
      ]
     },
     "execution_count": 36,
     "metadata": {},
     "output_type": "execute_result"
    }
   ],
   "source": [
    "df.emp_length.value_counts"
   ]
  },
  {
   "cell_type": "code",
   "execution_count": 37,
   "metadata": {},
   "outputs": [
    {
     "data": {
      "image/png": "[encoded data removed]",
      "text/plain": [
       "<Figure size 864x360 with 1 Axes>"
      ]
     },
     "metadata": {
      "needs_background": "light"
     },
     "output_type": "display_data"
    }
   ],
   "source": [
    "# Take a closer look at emp_length\n",
    "\n",
    "palette = sns.color_palette('mako', n_colors=2)\n",
    "ordered_emplength = [ '< 1 year',\n",
    "                      '1 year',\n",
    "                      '2 years',\n",
    "                      '3 years',\n",
    "                      '4 years',\n",
    "                      '5 years',\n",
    "                      '6 years',\n",
    "                      '7 years',\n",
    "                      '8 years',\n",
    "                      '9 years',\n",
    "                      '10+ years']\n",
    "plt.figure(figsize=(12,5))\n",
    "sns.countplot(data=df, x='emp_length', order=ordered_emplength)\n",
    "# plt.tight_layout()\n",
    "plt.show()"
   ]
  },
  {
   "cell_type": "code",
   "execution_count": 38,
   "metadata": {},
   "outputs": [
    {
     "data": {
      "image/png": "[encoded data removed]",
      "text/plain": [
       "<Figure size 864x360 with 1 Axes>"
      ]
     },
     "metadata": {
      "needs_background": "light"
     },
     "output_type": "display_data"
    }
   ],
   "source": [
    "# Take a closer look at emp_length\n",
    "\n",
    "palette = sns.color_palette('mako', n_colors=2)\n",
    "ordered_emplength = [ '< 1 year',\n",
    "                      '1 year',\n",
    "                      '2 years',\n",
    "                      '3 years',\n",
    "                      '4 years',\n",
    "                      '5 years',\n",
    "                      '6 years',\n",
    "                      '7 years',\n",
    "                      '8 years',\n",
    "                      '9 years',\n",
    "                      '10+ years']\n",
    "plt.figure(figsize=(12,5))\n",
    "sns.countplot(data=df, x='emp_length', order=ordered_emplength, palette=palette, hue='loan_status')\n",
    "# plt.tight_layout()\n",
    "plt.show()"
   ]
  },
  {
   "cell_type": "code",
   "execution_count": 39,
   "metadata": {},
   "outputs": [],
   "source": [
    "# Calculte the ration emp_chargedoff/emp_repaid\n",
    "emp_chargedoff = df[df['loan_status']==\"Charged Off\"].groupby(\"emp_length\").count()['loan_status']\n",
    "emp_repaid = df[df['loan_status']==\"Fully Paid\"].groupby(\"emp_length\").count()['loan_status']\n",
    "emp_len = emp_chargedoff/emp_repaid"
   ]
  },
  {
   "cell_type": "code",
   "execution_count": 40,
   "metadata": {},
   "outputs": [
    {
     "data": {
      "text/plain": [
       "emp_length\n",
       "1 year       0.248649\n",
       "10+ years    0.225770\n",
       "2 years      0.239560\n",
       "3 years      0.242593\n",
       "4 years      0.238213\n",
       "5 years      0.237911\n",
       "6 years      0.233341\n",
       "7 years      0.241887\n",
       "8 years      0.249625\n",
       "9 years      0.250735\n",
       "< 1 year     0.260830\n",
       "Name: loan_status, dtype: float64"
      ]
     },
     "execution_count": 40,
     "metadata": {},
     "output_type": "execute_result"
    }
   ],
   "source": [
    "emp_len"
   ]
  },
  {
   "cell_type": "code",
   "execution_count": 41,
   "metadata": {},
   "outputs": [
    {
     "data": {
      "text/plain": [
       "<AxesSubplot:xlabel='emp_length'>"
      ]
     },
     "execution_count": 41,
     "metadata": {},
     "output_type": "execute_result"
    },
    {
     "data": {
      "image/png": "[encoded data removed]",
      "text/plain": [
       "<Figure size 432x288 with 1 Axes>"
      ]
     },
     "metadata": {
      "needs_background": "light"
     },
     "output_type": "display_data"
    }
   ],
   "source": [
    "emp_len.plot(kind='bar')"
   ]
  },
  {
   "cell_type": "markdown",
   "metadata": {},
   "source": [
    "* The percentage of chargedoff/repaid is almost the same across employment lengths. We can get rid of this feature."
   ]
  },
  {
   "cell_type": "code",
   "execution_count": 42,
   "metadata": {},
   "outputs": [],
   "source": [
    "df = df.drop('emp_length',axis=1)"
   ]
  },
  {
   "cell_type": "markdown",
   "metadata": {},
   "source": [
    "#### intallment\n",
    "* The same happens with installment feature"
   ]
  },
  {
   "cell_type": "code",
   "execution_count": 43,
   "metadata": {},
   "outputs": [
    {
     "data": {
      "text/plain": [
       "<AxesSubplot:>"
      ]
     },
     "execution_count": 43,
     "metadata": {},
     "output_type": "execute_result"
    },
    {
     "data": {
      "image/png": "[encoded data removed]",
      "text/plain": [
       "<Figure size 432x288 with 1 Axes>"
      ]
     },
     "metadata": {
      "needs_background": "light"
     },
     "output_type": "display_data"
    }
   ],
   "source": [
    "df['installment'].plot()"
   ]
  },
  {
   "cell_type": "code",
   "execution_count": 44,
   "metadata": {},
   "outputs": [],
   "source": [
    "# Let's get rid of this useless feature\n",
    "df = df.drop('installment', axis=1)"
   ]
  },
  {
   "cell_type": "code",
   "execution_count": 45,
   "metadata": {},
   "outputs": [
    {
     "name": "stdout",
     "output_type": "stream",
     "text": [
      "--- Missing values ---\n",
      "loan_amnt               0.000000\n",
      "term                    0.000000\n",
      "int_rate                0.000000\n",
      "grade                   0.000000\n",
      "sub_grade               0.000000\n",
      "home_ownership          0.000000\n",
      "annual_inc              0.000000\n",
      "verification_status     0.000000\n",
      "issue_d                 0.000000\n",
      "loan_status             0.000000\n",
      "purpose                 0.000000\n",
      "title                   0.443401\n",
      "dti                     0.000000\n",
      "earliest_cr_line        0.000000\n",
      "open_acc                0.000000\n",
      "pub_rec                 0.000000\n",
      "revol_bal               0.000000\n",
      "revol_util              0.069692\n",
      "total_acc               0.000000\n",
      "initial_list_status     0.000000\n",
      "application_type        0.000000\n",
      "mort_acc                9.543469\n",
      "pub_rec_bankruptcies    0.135091\n",
      "address                 0.000000\n",
      "loan_repaid             0.000000\n",
      "Name: Missing Values, dtype: float64\n"
     ]
    }
   ],
   "source": [
    "# Revisiting  to check missing data columns\n",
    "print_missing_values(df)"
   ]
  },
  {
   "cell_type": "markdown",
   "metadata": {},
   "source": [
    "#### title\n",
    "* Let's check if we need the column title"
   ]
  },
  {
   "cell_type": "code",
   "execution_count": 46,
   "metadata": {},
   "outputs": [
    {
     "name": "stdout",
     "output_type": "stream",
     "text": [
      "The loan title provided by the borrower\n"
     ]
    }
   ],
   "source": [
    "feat_info('title')"
   ]
  },
  {
   "cell_type": "code",
   "execution_count": 47,
   "metadata": {},
   "outputs": [
    {
     "name": "stdout",
     "output_type": "stream",
     "text": [
      "A category provided by the borrower for the loan request. \n"
     ]
    }
   ],
   "source": [
    "feat_info('purpose')"
   ]
  },
  {
   "cell_type": "markdown",
   "metadata": {},
   "source": [
    "* The title column is simply a string subcategory/description of the purpose column. Go ahead and drop the title column.**\n"
   ]
  },
  {
   "cell_type": "code",
   "execution_count": 48,
   "metadata": {},
   "outputs": [],
   "source": [
    "# Removing the 'title' column\n",
    "df = df.drop('title',axis=1)"
   ]
  },
  {
   "cell_type": "code",
   "execution_count": 49,
   "metadata": {},
   "outputs": [
    {
     "name": "stdout",
     "output_type": "stream",
     "text": [
      "--- Missing values ---\n",
      "loan_amnt               0.000000\n",
      "term                    0.000000\n",
      "int_rate                0.000000\n",
      "grade                   0.000000\n",
      "sub_grade               0.000000\n",
      "home_ownership          0.000000\n",
      "annual_inc              0.000000\n",
      "verification_status     0.000000\n",
      "issue_d                 0.000000\n",
      "loan_status             0.000000\n",
      "purpose                 0.000000\n",
      "dti                     0.000000\n",
      "earliest_cr_line        0.000000\n",
      "open_acc                0.000000\n",
      "pub_rec                 0.000000\n",
      "revol_bal               0.000000\n",
      "revol_util              0.069692\n",
      "total_acc               0.000000\n",
      "initial_list_status     0.000000\n",
      "application_type        0.000000\n",
      "mort_acc                9.543469\n",
      "pub_rec_bankruptcies    0.135091\n",
      "address                 0.000000\n",
      "loan_repaid             0.000000\n",
      "Name: Missing Values, dtype: float64\n"
     ]
    }
   ],
   "source": [
    "# Revisiting  to check missing data columns\n",
    "print_missing_values(df)"
   ]
  },
  {
   "cell_type": "code",
   "execution_count": 50,
   "metadata": {},
   "outputs": [
    {
     "name": "stdout",
     "output_type": "stream",
     "text": [
      "Number of mortgage accounts.\n"
     ]
    }
   ],
   "source": [
    "feat_info('mort_acc')"
   ]
  },
  {
   "cell_type": "code",
   "execution_count": 51,
   "metadata": {},
   "outputs": [
    {
     "data": {
      "text/plain": [
       "<AxesSubplot:xlabel='mort_acc'>"
      ]
     },
     "execution_count": 51,
     "metadata": {},
     "output_type": "execute_result"
    },
    {
     "data": {
      "image/png": "[encoded data removed]",
      "text/plain": [
       "<Figure size 432x288 with 1 Axes>"
      ]
     },
     "metadata": {
      "needs_background": "light"
     },
     "output_type": "display_data"
    }
   ],
   "source": [
    "df['mort_acc'].value_counts().plot()"
   ]
  },
  {
   "cell_type": "code",
   "execution_count": 52,
   "metadata": {},
   "outputs": [
    {
     "data": {
      "text/plain": [
       "int_rate               -0.082583\n",
       "dti                    -0.025439\n",
       "revol_util              0.007514\n",
       "pub_rec                 0.011552\n",
       "pub_rec_bankruptcies    0.027239\n",
       "loan_repaid             0.073111\n",
       "open_acc                0.109205\n",
       "revol_bal               0.194925\n",
       "loan_amnt               0.222315\n",
       "annual_inc              0.236320\n",
       "total_acc               0.381072\n",
       "mort_acc                1.000000\n",
       "Name: mort_acc, dtype: float64"
      ]
     },
     "execution_count": 52,
     "metadata": {},
     "output_type": "execute_result"
    }
   ],
   "source": [
    "# Let's see how the other numerical columns correlate with 'loan_repaid'\n",
    "df.select_dtypes(include=\"number\").corr()['mort_acc'].sort_values()"
   ]
  },
  {
   "cell_type": "code",
   "execution_count": 53,
   "metadata": {},
   "outputs": [
    {
     "name": "stdout",
     "output_type": "stream",
     "text": [
      "The total number of credit lines currently in the borrower's credit file\n"
     ]
    }
   ],
   "source": [
    "feat_info('total_acc')"
   ]
  },
  {
   "cell_type": "code",
   "execution_count": 54,
   "metadata": {},
   "outputs": [
    {
     "name": "stdout",
     "output_type": "stream",
     "text": [
      "<class 'pandas.core.series.Series'>\n",
      "RangeIndex: 396030 entries, 0 to 396029\n",
      "Series name: mort_acc\n",
      "Non-Null Count   Dtype  \n",
      "--------------   -----  \n",
      "358235 non-null  float64\n",
      "dtypes: float64(1)\n",
      "memory usage: 3.0 MB\n"
     ]
    }
   ],
   "source": [
    "df['mort_acc'].info()"
   ]
  },
  {
   "cell_type": "code",
   "execution_count": 55,
   "metadata": {},
   "outputs": [
    {
     "name": "stdout",
     "output_type": "stream",
     "text": [
      "Mean of mort_acc column per total_acc\n"
     ]
    },
    {
     "data": {
      "text/html": [
       "<div>\n",
       "<style scoped>\n",
       "    .dataframe tbody tr th:only-of-type {\n",
       "        vertical-align: middle;\n",
       "    }\n",
       "\n",
       "    .dataframe tbody tr th {\n",
       "        vertical-align: top;\n",
       "    }\n",
       "\n",
       "    .dataframe thead th {\n",
       "        text-align: right;\n",
       "    }\n",
       "</style>\n",
       "<table border=\"1\" class=\"dataframe\">\n",
       "  <thead>\n",
       "    <tr style=\"text-align: right;\">\n",
       "      <th></th>\n",
       "      <th>loan_amnt</th>\n",
       "      <th>int_rate</th>\n",
       "      <th>annual_inc</th>\n",
       "      <th>dti</th>\n",
       "      <th>open_acc</th>\n",
       "      <th>pub_rec</th>\n",
       "      <th>revol_bal</th>\n",
       "      <th>revol_util</th>\n",
       "      <th>mort_acc</th>\n",
       "      <th>pub_rec_bankruptcies</th>\n",
       "      <th>loan_repaid</th>\n",
       "    </tr>\n",
       "    <tr>\n",
       "      <th>total_acc</th>\n",
       "      <th></th>\n",
       "      <th></th>\n",
       "      <th></th>\n",
       "      <th></th>\n",
       "      <th></th>\n",
       "      <th></th>\n",
       "      <th></th>\n",
       "      <th></th>\n",
       "      <th></th>\n",
       "      <th></th>\n",
       "      <th></th>\n",
       "    </tr>\n",
       "  </thead>\n",
       "  <tbody>\n",
       "    <tr>\n",
       "      <th>2.0</th>\n",
       "      <td>6672.222222</td>\n",
       "      <td>15.801111</td>\n",
       "      <td>64277.777778</td>\n",
       "      <td>2.279444</td>\n",
       "      <td>1.611111</td>\n",
       "      <td>0.000000</td>\n",
       "      <td>2860.166667</td>\n",
       "      <td>53.527778</td>\n",
       "      <td>0.000000</td>\n",
       "      <td>0.000000</td>\n",
       "      <td>0.777778</td>\n",
       "    </tr>\n",
       "    <tr>\n",
       "      <th>3.0</th>\n",
       "      <td>6042.966361</td>\n",
       "      <td>15.615566</td>\n",
       "      <td>41270.753884</td>\n",
       "      <td>6.502813</td>\n",
       "      <td>2.611621</td>\n",
       "      <td>0.045872</td>\n",
       "      <td>3382.807339</td>\n",
       "      <td>49.991022</td>\n",
       "      <td>0.052023</td>\n",
       "      <td>0.015480</td>\n",
       "      <td>0.779817</td>\n",
       "    </tr>\n",
       "    <tr>\n",
       "      <th>4.0</th>\n",
       "      <td>7587.399031</td>\n",
       "      <td>15.069491</td>\n",
       "      <td>42426.565969</td>\n",
       "      <td>8.411963</td>\n",
       "      <td>3.324717</td>\n",
       "      <td>0.041195</td>\n",
       "      <td>4874.231826</td>\n",
       "      <td>58.477400</td>\n",
       "      <td>0.066743</td>\n",
       "      <td>0.022951</td>\n",
       "      <td>0.785945</td>\n",
       "    </tr>\n",
       "    <tr>\n",
       "      <th>5.0</th>\n",
       "      <td>7845.734714</td>\n",
       "      <td>14.917564</td>\n",
       "      <td>44394.098003</td>\n",
       "      <td>10.118328</td>\n",
       "      <td>3.921598</td>\n",
       "      <td>0.071499</td>\n",
       "      <td>5475.253452</td>\n",
       "      <td>56.890311</td>\n",
       "      <td>0.103289</td>\n",
       "      <td>0.041171</td>\n",
       "      <td>0.796844</td>\n",
       "    </tr>\n",
       "    <tr>\n",
       "      <th>6.0</th>\n",
       "      <td>8529.019843</td>\n",
       "      <td>14.651752</td>\n",
       "      <td>48470.001156</td>\n",
       "      <td>11.222542</td>\n",
       "      <td>4.511119</td>\n",
       "      <td>0.104003</td>\n",
       "      <td>6546.374957</td>\n",
       "      <td>57.812483</td>\n",
       "      <td>0.151293</td>\n",
       "      <td>0.055077</td>\n",
       "      <td>0.784126</td>\n",
       "    </tr>\n",
       "    <tr>\n",
       "      <th>...</th>\n",
       "      <td>...</td>\n",
       "      <td>...</td>\n",
       "      <td>...</td>\n",
       "      <td>...</td>\n",
       "      <td>...</td>\n",
       "      <td>...</td>\n",
       "      <td>...</td>\n",
       "      <td>...</td>\n",
       "      <td>...</td>\n",
       "      <td>...</td>\n",
       "      <td>...</td>\n",
       "    </tr>\n",
       "    <tr>\n",
       "      <th>124.0</th>\n",
       "      <td>23200.000000</td>\n",
       "      <td>17.860000</td>\n",
       "      <td>66000.000000</td>\n",
       "      <td>14.040000</td>\n",
       "      <td>43.000000</td>\n",
       "      <td>0.000000</td>\n",
       "      <td>25497.000000</td>\n",
       "      <td>75.400000</td>\n",
       "      <td>1.000000</td>\n",
       "      <td>0.000000</td>\n",
       "      <td>0.000000</td>\n",
       "    </tr>\n",
       "    <tr>\n",
       "      <th>129.0</th>\n",
       "      <td>25000.000000</td>\n",
       "      <td>7.890000</td>\n",
       "      <td>200000.000000</td>\n",
       "      <td>8.900000</td>\n",
       "      <td>48.000000</td>\n",
       "      <td>0.000000</td>\n",
       "      <td>27659.000000</td>\n",
       "      <td>8.300000</td>\n",
       "      <td>1.000000</td>\n",
       "      <td>0.000000</td>\n",
       "      <td>1.000000</td>\n",
       "    </tr>\n",
       "    <tr>\n",
       "      <th>135.0</th>\n",
       "      <td>24000.000000</td>\n",
       "      <td>15.410000</td>\n",
       "      <td>82000.000000</td>\n",
       "      <td>33.850000</td>\n",
       "      <td>57.000000</td>\n",
       "      <td>0.000000</td>\n",
       "      <td>35715.000000</td>\n",
       "      <td>50.800000</td>\n",
       "      <td>3.000000</td>\n",
       "      <td>0.000000</td>\n",
       "      <td>1.000000</td>\n",
       "    </tr>\n",
       "    <tr>\n",
       "      <th>150.0</th>\n",
       "      <td>35000.000000</td>\n",
       "      <td>8.670000</td>\n",
       "      <td>189000.000000</td>\n",
       "      <td>6.630000</td>\n",
       "      <td>40.000000</td>\n",
       "      <td>0.000000</td>\n",
       "      <td>39065.000000</td>\n",
       "      <td>44.400000</td>\n",
       "      <td>2.000000</td>\n",
       "      <td>0.000000</td>\n",
       "      <td>1.000000</td>\n",
       "    </tr>\n",
       "    <tr>\n",
       "      <th>151.0</th>\n",
       "      <td>35000.000000</td>\n",
       "      <td>13.990000</td>\n",
       "      <td>160000.000000</td>\n",
       "      <td>12.650000</td>\n",
       "      <td>26.000000</td>\n",
       "      <td>0.000000</td>\n",
       "      <td>46643.000000</td>\n",
       "      <td>71.500000</td>\n",
       "      <td>0.000000</td>\n",
       "      <td>0.000000</td>\n",
       "      <td>0.000000</td>\n",
       "    </tr>\n",
       "  </tbody>\n",
       "</table>\n",
       "<p>118 rows × 11 columns</p>\n",
       "</div>"
      ],
      "text/plain": [
       "              loan_amnt   int_rate     annual_inc        dti   open_acc  \\\n",
       "total_acc                                                                 \n",
       "2.0         6672.222222  15.801111   64277.777778   2.279444   1.611111   \n",
       "3.0         6042.966361  15.615566   41270.753884   6.502813   2.611621   \n",
       "4.0         7587.399031  15.069491   42426.565969   8.411963   3.324717   \n",
       "5.0         7845.734714  14.917564   44394.098003  10.118328   3.921598   \n",
       "6.0         8529.019843  14.651752   48470.001156  11.222542   4.511119   \n",
       "...                 ...        ...            ...        ...        ...   \n",
       "124.0      23200.000000  17.860000   66000.000000  14.040000  43.000000   \n",
       "129.0      25000.000000   7.890000  200000.000000   8.900000  48.000000   \n",
       "135.0      24000.000000  15.410000   82000.000000  33.850000  57.000000   \n",
       "150.0      35000.000000   8.670000  189000.000000   6.630000  40.000000   \n",
       "151.0      35000.000000  13.990000  160000.000000  12.650000  26.000000   \n",
       "\n",
       "            pub_rec     revol_bal  revol_util  mort_acc  pub_rec_bankruptcies  \\\n",
       "total_acc                                                                       \n",
       "2.0        0.000000   2860.166667   53.527778  0.000000              0.000000   \n",
       "3.0        0.045872   3382.807339   49.991022  0.052023              0.015480   \n",
       "4.0        0.041195   4874.231826   58.477400  0.066743              0.022951   \n",
       "5.0        0.071499   5475.253452   56.890311  0.103289              0.041171   \n",
       "6.0        0.104003   6546.374957   57.812483  0.151293              0.055077   \n",
       "...             ...           ...         ...       ...                   ...   \n",
       "124.0      0.000000  25497.000000   75.400000  1.000000              0.000000   \n",
       "129.0      0.000000  27659.000000    8.300000  1.000000              0.000000   \n",
       "135.0      0.000000  35715.000000   50.800000  3.000000              0.000000   \n",
       "150.0      0.000000  39065.000000   44.400000  2.000000              0.000000   \n",
       "151.0      0.000000  46643.000000   71.500000  0.000000              0.000000   \n",
       "\n",
       "           loan_repaid  \n",
       "total_acc               \n",
       "2.0           0.777778  \n",
       "3.0           0.779817  \n",
       "4.0           0.785945  \n",
       "5.0           0.796844  \n",
       "6.0           0.784126  \n",
       "...                ...  \n",
       "124.0         0.000000  \n",
       "129.0         1.000000  \n",
       "135.0         1.000000  \n",
       "150.0         1.000000  \n",
       "151.0         0.000000  \n",
       "\n",
       "[118 rows x 11 columns]"
      ]
     },
     "execution_count": 55,
     "metadata": {},
     "output_type": "execute_result"
    }
   ],
   "source": [
    "print(\"Mean of mort_acc column per total_acc\")\n",
    "df.groupby('total_acc').mean(['mort_acc'])"
   ]
  },
  {
   "cell_type": "markdown",
   "metadata": {},
   "source": [
    "* acc_avg_df is a groupby('total_acc') of df with the mean mort_acc calculated"
   ]
  },
  {
   "cell_type": "code",
   "execution_count": 56,
   "metadata": {},
   "outputs": [
    {
     "name": "stdout",
     "output_type": "stream",
     "text": [
      "Mean of mort_acc column per total_acc\n"
     ]
    }
   ],
   "source": [
    "print(\"Mean of mort_acc column per total_acc\")\n",
    "# Create a dataframe to calculate the mean mort_acc grouped by total_acc values\n",
    "acc_avg_df = pd.DataFrame(columns=['sum', 'count'])\n",
    "acc_avg_df['sum'] = df.groupby('total_acc').sum()['mort_acc']\n",
    "acc_avg_df['count'] = df.groupby('total_acc').count()['mort_acc']\n",
    "acc_avg_df['mean_mort_acc'] = acc_avg_df['sum'] / acc_avg_df['count']\n",
    "acc_avg_df.drop(['sum', 'count'], axis=1, inplace=True)\n",
    "\n",
    "# Let's fix the index of acc_avg_df\n",
    "acc_avg_df['total_acc'] = acc_avg_df.index\n",
    "acc_avg_df.reset_index(drop=True, inplace=True)\n",
    "\n",
    "\n",
    "new_order = ['total_acc', 'mean_mort_acc']\n",
    "acc_avg_df = acc_avg_df[new_order]\n"
   ]
  },
  {
   "cell_type": "code",
   "execution_count": 57,
   "metadata": {},
   "outputs": [
    {
     "data": {
      "text/html": [
       "<div>\n",
       "<style scoped>\n",
       "    .dataframe tbody tr th:only-of-type {\n",
       "        vertical-align: middle;\n",
       "    }\n",
       "\n",
       "    .dataframe tbody tr th {\n",
       "        vertical-align: top;\n",
       "    }\n",
       "\n",
       "    .dataframe thead th {\n",
       "        text-align: right;\n",
       "    }\n",
       "</style>\n",
       "<table border=\"1\" class=\"dataframe\">\n",
       "  <thead>\n",
       "    <tr style=\"text-align: right;\">\n",
       "      <th></th>\n",
       "      <th>total_acc</th>\n",
       "      <th>mean_mort_acc</th>\n",
       "    </tr>\n",
       "  </thead>\n",
       "  <tbody>\n",
       "    <tr>\n",
       "      <th>108</th>\n",
       "      <td>111.0</td>\n",
       "      <td>2.0</td>\n",
       "    </tr>\n",
       "    <tr>\n",
       "      <th>109</th>\n",
       "      <td>115.0</td>\n",
       "      <td>8.0</td>\n",
       "    </tr>\n",
       "    <tr>\n",
       "      <th>110</th>\n",
       "      <td>116.0</td>\n",
       "      <td>4.5</td>\n",
       "    </tr>\n",
       "    <tr>\n",
       "      <th>111</th>\n",
       "      <td>117.0</td>\n",
       "      <td>0.0</td>\n",
       "    </tr>\n",
       "    <tr>\n",
       "      <th>112</th>\n",
       "      <td>118.0</td>\n",
       "      <td>1.0</td>\n",
       "    </tr>\n",
       "    <tr>\n",
       "      <th>113</th>\n",
       "      <td>124.0</td>\n",
       "      <td>1.0</td>\n",
       "    </tr>\n",
       "    <tr>\n",
       "      <th>114</th>\n",
       "      <td>129.0</td>\n",
       "      <td>1.0</td>\n",
       "    </tr>\n",
       "    <tr>\n",
       "      <th>115</th>\n",
       "      <td>135.0</td>\n",
       "      <td>3.0</td>\n",
       "    </tr>\n",
       "    <tr>\n",
       "      <th>116</th>\n",
       "      <td>150.0</td>\n",
       "      <td>2.0</td>\n",
       "    </tr>\n",
       "    <tr>\n",
       "      <th>117</th>\n",
       "      <td>151.0</td>\n",
       "      <td>0.0</td>\n",
       "    </tr>\n",
       "  </tbody>\n",
       "</table>\n",
       "</div>"
      ],
      "text/plain": [
       "     total_acc  mean_mort_acc\n",
       "108      111.0            2.0\n",
       "109      115.0            8.0\n",
       "110      116.0            4.5\n",
       "111      117.0            0.0\n",
       "112      118.0            1.0\n",
       "113      124.0            1.0\n",
       "114      129.0            1.0\n",
       "115      135.0            3.0\n",
       "116      150.0            2.0\n",
       "117      151.0            0.0"
      ]
     },
     "execution_count": 57,
     "metadata": {},
     "output_type": "execute_result"
    }
   ],
   "source": [
    "# How does it look?\n",
    "acc_avg_df.tail(10)            "
   ]
  },
  {
   "cell_type": "markdown",
   "metadata": {},
   "source": []
  },
  {
   "cell_type": "code",
   "execution_count": 58,
   "metadata": {},
   "outputs": [],
   "source": [
    "# Function to be applied as lambda to fill mort_acc nan values\n",
    "def fill_mort_acc(total_acc,mort_acc):\n",
    "    '''\n",
    "    Accepts the total_acc and mort_acc values for the row.\n",
    "    Checks if the mort_acc is NaN , if so, it returns the avg mort_acc value\n",
    "    for the corresponding total_acc value for that row.\n",
    "    \n",
    "    total_acc_avg here should be a Series or dictionary containing the mapping of the\n",
    "    groupby averages of mort_acc per total_acc values.\n",
    "    '''\n",
    "    if np.isnan(mort_acc):\n",
    "        mean_mort = acc_avg_df[acc_avg_df['total_acc'] == total_acc]['mean_mort_acc'].values[0]\n",
    "        return mean_mort\n",
    "    else:\n",
    "        return mort_acc"
   ]
  },
  {
   "cell_type": "code",
   "execution_count": 59,
   "metadata": {},
   "outputs": [
    {
     "data": {
      "text/plain": [
       "37795"
      ]
     },
     "execution_count": 59,
     "metadata": {},
     "output_type": "execute_result"
    }
   ],
   "source": [
    "nan_rows = df[df['mort_acc'].isnull()]\n",
    "len(nan_rows)"
   ]
  },
  {
   "cell_type": "code",
   "execution_count": 60,
   "metadata": {},
   "outputs": [
    {
     "data": {
      "text/html": [
       "<div>\n",
       "<style scoped>\n",
       "    .dataframe tbody tr th:only-of-type {\n",
       "        vertical-align: middle;\n",
       "    }\n",
       "\n",
       "    .dataframe tbody tr th {\n",
       "        vertical-align: top;\n",
       "    }\n",
       "\n",
       "    .dataframe thead th {\n",
       "        text-align: right;\n",
       "    }\n",
       "</style>\n",
       "<table border=\"1\" class=\"dataframe\">\n",
       "  <thead>\n",
       "    <tr style=\"text-align: right;\">\n",
       "      <th></th>\n",
       "      <th>loan_amnt</th>\n",
       "      <th>term</th>\n",
       "      <th>int_rate</th>\n",
       "      <th>grade</th>\n",
       "      <th>sub_grade</th>\n",
       "      <th>home_ownership</th>\n",
       "      <th>annual_inc</th>\n",
       "      <th>verification_status</th>\n",
       "      <th>issue_d</th>\n",
       "      <th>loan_status</th>\n",
       "      <th>...</th>\n",
       "      <th>pub_rec</th>\n",
       "      <th>revol_bal</th>\n",
       "      <th>revol_util</th>\n",
       "      <th>total_acc</th>\n",
       "      <th>initial_list_status</th>\n",
       "      <th>application_type</th>\n",
       "      <th>mort_acc</th>\n",
       "      <th>pub_rec_bankruptcies</th>\n",
       "      <th>address</th>\n",
       "      <th>loan_repaid</th>\n",
       "    </tr>\n",
       "  </thead>\n",
       "  <tbody>\n",
       "    <tr>\n",
       "      <th>22</th>\n",
       "      <td>4200.0</td>\n",
       "      <td>36 months</td>\n",
       "      <td>6.99</td>\n",
       "      <td>A</td>\n",
       "      <td>A3</td>\n",
       "      <td>OWN</td>\n",
       "      <td>24000.0</td>\n",
       "      <td>Not Verified</td>\n",
       "      <td>Jun-2011</td>\n",
       "      <td>Fully Paid</td>\n",
       "      <td>...</td>\n",
       "      <td>0.0</td>\n",
       "      <td>0.0</td>\n",
       "      <td>0.0</td>\n",
       "      <td>7.0</td>\n",
       "      <td>f</td>\n",
       "      <td>INDIVIDUAL</td>\n",
       "      <td>NaN</td>\n",
       "      <td>0.0</td>\n",
       "      <td>54395 Melissa Walks\\nJenniferbury, AL 05113</td>\n",
       "      <td>1</td>\n",
       "    </tr>\n",
       "    <tr>\n",
       "      <th>25</th>\n",
       "      <td>6000.0</td>\n",
       "      <td>36 months</td>\n",
       "      <td>11.36</td>\n",
       "      <td>B</td>\n",
       "      <td>B5</td>\n",
       "      <td>RENT</td>\n",
       "      <td>46680.0</td>\n",
       "      <td>Not Verified</td>\n",
       "      <td>Apr-2010</td>\n",
       "      <td>Charged Off</td>\n",
       "      <td>...</td>\n",
       "      <td>0.0</td>\n",
       "      <td>4370.0</td>\n",
       "      <td>40.1</td>\n",
       "      <td>10.0</td>\n",
       "      <td>f</td>\n",
       "      <td>INDIVIDUAL</td>\n",
       "      <td>NaN</td>\n",
       "      <td>0.0</td>\n",
       "      <td>44130 Powers Course Suite 880\\nEast Preston, A...</td>\n",
       "      <td>0</td>\n",
       "    </tr>\n",
       "    <tr>\n",
       "      <th>32</th>\n",
       "      <td>3000.0</td>\n",
       "      <td>36 months</td>\n",
       "      <td>6.03</td>\n",
       "      <td>A</td>\n",
       "      <td>A1</td>\n",
       "      <td>OWN</td>\n",
       "      <td>64000.0</td>\n",
       "      <td>Source Verified</td>\n",
       "      <td>Oct-2011</td>\n",
       "      <td>Fully Paid</td>\n",
       "      <td>...</td>\n",
       "      <td>0.0</td>\n",
       "      <td>4912.0</td>\n",
       "      <td>13.4</td>\n",
       "      <td>18.0</td>\n",
       "      <td>f</td>\n",
       "      <td>INDIVIDUAL</td>\n",
       "      <td>NaN</td>\n",
       "      <td>0.0</td>\n",
       "      <td>2722 Smith Branch Suite 131\\nShaunbury, NH 22690</td>\n",
       "      <td>1</td>\n",
       "    </tr>\n",
       "    <tr>\n",
       "      <th>41</th>\n",
       "      <td>28000.0</td>\n",
       "      <td>60 months</td>\n",
       "      <td>19.91</td>\n",
       "      <td>E</td>\n",
       "      <td>E4</td>\n",
       "      <td>RENT</td>\n",
       "      <td>52000.0</td>\n",
       "      <td>Verified</td>\n",
       "      <td>Dec-2011</td>\n",
       "      <td>Charged Off</td>\n",
       "      <td>...</td>\n",
       "      <td>0.0</td>\n",
       "      <td>29178.0</td>\n",
       "      <td>87.6</td>\n",
       "      <td>16.0</td>\n",
       "      <td>f</td>\n",
       "      <td>INDIVIDUAL</td>\n",
       "      <td>NaN</td>\n",
       "      <td>0.0</td>\n",
       "      <td>5836 Garcia Falls Apt. 525\\nMatthewtown, CT 22690</td>\n",
       "      <td>0</td>\n",
       "    </tr>\n",
       "    <tr>\n",
       "      <th>62</th>\n",
       "      <td>5000.0</td>\n",
       "      <td>36 months</td>\n",
       "      <td>10.39</td>\n",
       "      <td>B</td>\n",
       "      <td>B4</td>\n",
       "      <td>RENT</td>\n",
       "      <td>66000.0</td>\n",
       "      <td>Not Verified</td>\n",
       "      <td>May-2008</td>\n",
       "      <td>Fully Paid</td>\n",
       "      <td>...</td>\n",
       "      <td>0.0</td>\n",
       "      <td>15807.0</td>\n",
       "      <td>20.0</td>\n",
       "      <td>17.0</td>\n",
       "      <td>f</td>\n",
       "      <td>INDIVIDUAL</td>\n",
       "      <td>NaN</td>\n",
       "      <td>0.0</td>\n",
       "      <td>USS Goodman\\nFPO AE 22690</td>\n",
       "      <td>1</td>\n",
       "    </tr>\n",
       "    <tr>\n",
       "      <th>...</th>\n",
       "      <td>...</td>\n",
       "      <td>...</td>\n",
       "      <td>...</td>\n",
       "      <td>...</td>\n",
       "      <td>...</td>\n",
       "      <td>...</td>\n",
       "      <td>...</td>\n",
       "      <td>...</td>\n",
       "      <td>...</td>\n",
       "      <td>...</td>\n",
       "      <td>...</td>\n",
       "      <td>...</td>\n",
       "      <td>...</td>\n",
       "      <td>...</td>\n",
       "      <td>...</td>\n",
       "      <td>...</td>\n",
       "      <td>...</td>\n",
       "      <td>...</td>\n",
       "      <td>...</td>\n",
       "      <td>...</td>\n",
       "      <td>...</td>\n",
       "    </tr>\n",
       "    <tr>\n",
       "      <th>395991</th>\n",
       "      <td>5600.0</td>\n",
       "      <td>36 months</td>\n",
       "      <td>9.63</td>\n",
       "      <td>B</td>\n",
       "      <td>B1</td>\n",
       "      <td>RENT</td>\n",
       "      <td>54000.0</td>\n",
       "      <td>Verified</td>\n",
       "      <td>Mar-2011</td>\n",
       "      <td>Fully Paid</td>\n",
       "      <td>...</td>\n",
       "      <td>0.0</td>\n",
       "      <td>2776.0</td>\n",
       "      <td>33.0</td>\n",
       "      <td>21.0</td>\n",
       "      <td>f</td>\n",
       "      <td>INDIVIDUAL</td>\n",
       "      <td>NaN</td>\n",
       "      <td>0.0</td>\n",
       "      <td>USNS Brewer\\nFPO AA 29597</td>\n",
       "      <td>1</td>\n",
       "    </tr>\n",
       "    <tr>\n",
       "      <th>395995</th>\n",
       "      <td>10000.0</td>\n",
       "      <td>36 months</td>\n",
       "      <td>10.25</td>\n",
       "      <td>B</td>\n",
       "      <td>B2</td>\n",
       "      <td>RENT</td>\n",
       "      <td>55000.0</td>\n",
       "      <td>Not Verified</td>\n",
       "      <td>Apr-2010</td>\n",
       "      <td>Fully Paid</td>\n",
       "      <td>...</td>\n",
       "      <td>0.0</td>\n",
       "      <td>5571.0</td>\n",
       "      <td>42.2</td>\n",
       "      <td>20.0</td>\n",
       "      <td>f</td>\n",
       "      <td>INDIVIDUAL</td>\n",
       "      <td>NaN</td>\n",
       "      <td>0.0</td>\n",
       "      <td>PSC 0897, Box 0320\\nAPO AP 22690</td>\n",
       "      <td>1</td>\n",
       "    </tr>\n",
       "    <tr>\n",
       "      <th>396016</th>\n",
       "      <td>3000.0</td>\n",
       "      <td>36 months</td>\n",
       "      <td>5.42</td>\n",
       "      <td>A</td>\n",
       "      <td>A1</td>\n",
       "      <td>MORTGAGE</td>\n",
       "      <td>70000.0</td>\n",
       "      <td>Source Verified</td>\n",
       "      <td>Aug-2011</td>\n",
       "      <td>Fully Paid</td>\n",
       "      <td>...</td>\n",
       "      <td>0.0</td>\n",
       "      <td>4062.0</td>\n",
       "      <td>12.6</td>\n",
       "      <td>23.0</td>\n",
       "      <td>f</td>\n",
       "      <td>INDIVIDUAL</td>\n",
       "      <td>NaN</td>\n",
       "      <td>0.0</td>\n",
       "      <td>2672 Jennifer River\\nJoannemouth, AK 70466</td>\n",
       "      <td>1</td>\n",
       "    </tr>\n",
       "    <tr>\n",
       "      <th>396021</th>\n",
       "      <td>3200.0</td>\n",
       "      <td>36 months</td>\n",
       "      <td>5.42</td>\n",
       "      <td>A</td>\n",
       "      <td>A1</td>\n",
       "      <td>RENT</td>\n",
       "      <td>33000.0</td>\n",
       "      <td>Not Verified</td>\n",
       "      <td>Feb-2011</td>\n",
       "      <td>Fully Paid</td>\n",
       "      <td>...</td>\n",
       "      <td>0.0</td>\n",
       "      <td>3985.0</td>\n",
       "      <td>7.6</td>\n",
       "      <td>50.0</td>\n",
       "      <td>f</td>\n",
       "      <td>INDIVIDUAL</td>\n",
       "      <td>NaN</td>\n",
       "      <td>0.0</td>\n",
       "      <td>309 John Mission\\nWest Marc, NY 00813</td>\n",
       "      <td>1</td>\n",
       "    </tr>\n",
       "    <tr>\n",
       "      <th>396029</th>\n",
       "      <td>2000.0</td>\n",
       "      <td>36 months</td>\n",
       "      <td>13.61</td>\n",
       "      <td>C</td>\n",
       "      <td>C2</td>\n",
       "      <td>RENT</td>\n",
       "      <td>42996.0</td>\n",
       "      <td>Verified</td>\n",
       "      <td>Jun-2010</td>\n",
       "      <td>Fully Paid</td>\n",
       "      <td>...</td>\n",
       "      <td>0.0</td>\n",
       "      <td>4292.0</td>\n",
       "      <td>91.3</td>\n",
       "      <td>19.0</td>\n",
       "      <td>f</td>\n",
       "      <td>INDIVIDUAL</td>\n",
       "      <td>NaN</td>\n",
       "      <td>0.0</td>\n",
       "      <td>787 Michelle Causeway\\nBriannaton, AR 48052</td>\n",
       "      <td>1</td>\n",
       "    </tr>\n",
       "  </tbody>\n",
       "</table>\n",
       "<p>37795 rows × 24 columns</p>\n",
       "</div>"
      ],
      "text/plain": [
       "        loan_amnt        term  int_rate grade sub_grade home_ownership  \\\n",
       "22         4200.0   36 months      6.99     A        A3            OWN   \n",
       "25         6000.0   36 months     11.36     B        B5           RENT   \n",
       "32         3000.0   36 months      6.03     A        A1            OWN   \n",
       "41        28000.0   60 months     19.91     E        E4           RENT   \n",
       "62         5000.0   36 months     10.39     B        B4           RENT   \n",
       "...           ...         ...       ...   ...       ...            ...   \n",
       "395991     5600.0   36 months      9.63     B        B1           RENT   \n",
       "395995    10000.0   36 months     10.25     B        B2           RENT   \n",
       "396016     3000.0   36 months      5.42     A        A1       MORTGAGE   \n",
       "396021     3200.0   36 months      5.42     A        A1           RENT   \n",
       "396029     2000.0   36 months     13.61     C        C2           RENT   \n",
       "\n",
       "        annual_inc verification_status   issue_d  loan_status  ... pub_rec  \\\n",
       "22         24000.0        Not Verified  Jun-2011   Fully Paid  ...     0.0   \n",
       "25         46680.0        Not Verified  Apr-2010  Charged Off  ...     0.0   \n",
       "32         64000.0     Source Verified  Oct-2011   Fully Paid  ...     0.0   \n",
       "41         52000.0            Verified  Dec-2011  Charged Off  ...     0.0   \n",
       "62         66000.0        Not Verified  May-2008   Fully Paid  ...     0.0   \n",
       "...            ...                 ...       ...          ...  ...     ...   \n",
       "395991     54000.0            Verified  Mar-2011   Fully Paid  ...     0.0   \n",
       "395995     55000.0        Not Verified  Apr-2010   Fully Paid  ...     0.0   \n",
       "396016     70000.0     Source Verified  Aug-2011   Fully Paid  ...     0.0   \n",
       "396021     33000.0        Not Verified  Feb-2011   Fully Paid  ...     0.0   \n",
       "396029     42996.0            Verified  Jun-2010   Fully Paid  ...     0.0   \n",
       "\n",
       "        revol_bal revol_util  total_acc  initial_list_status  \\\n",
       "22            0.0        0.0        7.0                    f   \n",
       "25         4370.0       40.1       10.0                    f   \n",
       "32         4912.0       13.4       18.0                    f   \n",
       "41        29178.0       87.6       16.0                    f   \n",
       "62        15807.0       20.0       17.0                    f   \n",
       "...           ...        ...        ...                  ...   \n",
       "395991     2776.0       33.0       21.0                    f   \n",
       "395995     5571.0       42.2       20.0                    f   \n",
       "396016     4062.0       12.6       23.0                    f   \n",
       "396021     3985.0        7.6       50.0                    f   \n",
       "396029     4292.0       91.3       19.0                    f   \n",
       "\n",
       "        application_type  mort_acc  pub_rec_bankruptcies  \\\n",
       "22            INDIVIDUAL       NaN                   0.0   \n",
       "25            INDIVIDUAL       NaN                   0.0   \n",
       "32            INDIVIDUAL       NaN                   0.0   \n",
       "41            INDIVIDUAL       NaN                   0.0   \n",
       "62            INDIVIDUAL       NaN                   0.0   \n",
       "...                  ...       ...                   ...   \n",
       "395991        INDIVIDUAL       NaN                   0.0   \n",
       "395995        INDIVIDUAL       NaN                   0.0   \n",
       "396016        INDIVIDUAL       NaN                   0.0   \n",
       "396021        INDIVIDUAL       NaN                   0.0   \n",
       "396029        INDIVIDUAL       NaN                   0.0   \n",
       "\n",
       "                                                  address loan_repaid  \n",
       "22            54395 Melissa Walks\\nJenniferbury, AL 05113           1  \n",
       "25      44130 Powers Course Suite 880\\nEast Preston, A...           0  \n",
       "32       2722 Smith Branch Suite 131\\nShaunbury, NH 22690           1  \n",
       "41      5836 Garcia Falls Apt. 525\\nMatthewtown, CT 22690           0  \n",
       "62                              USS Goodman\\nFPO AE 22690           1  \n",
       "...                                                   ...         ...  \n",
       "395991                          USNS Brewer\\nFPO AA 29597           1  \n",
       "395995                   PSC 0897, Box 0320\\nAPO AP 22690           1  \n",
       "396016         2672 Jennifer River\\nJoannemouth, AK 70466           1  \n",
       "396021              309 John Mission\\nWest Marc, NY 00813           1  \n",
       "396029        787 Michelle Causeway\\nBriannaton, AR 48052           1  \n",
       "\n",
       "[37795 rows x 24 columns]"
      ]
     },
     "execution_count": 60,
     "metadata": {},
     "output_type": "execute_result"
    }
   ],
   "source": [
    "nan_rows"
   ]
  },
  {
   "cell_type": "code",
   "execution_count": 61,
   "metadata": {},
   "outputs": [
    {
     "name": "stderr",
     "output_type": "stream",
     "text": [
      "/var/folders/d4/fq7vg26j3cq60g4fsv7_99jc0000gn/T/ipykernel_12981/3812793434.py:3: SettingWithCopyWarning: \n",
      "A value is trying to be set on a copy of a slice from a DataFrame.\n",
      "Try using .loc[row_indexer,col_indexer] = value instead\n",
      "\n",
      "See the caveats in the documentation: https://pandas.pydata.org/pandas-docs/stable/user_guide/indexing.html#returning-a-view-versus-a-copy\n",
      "  nan_rows['mort_acc'] = nan_rows.apply(lambda x: fill_mort_acc(x['total_acc'], x['mort_acc']), axis=1)\n"
     ]
    }
   ],
   "source": [
    "# WATCHOUT: I takes several minutes to run \n",
    "nan_rows = df[df['mort_acc'].isnull()]\n",
    "nan_rows['mort_acc'] = nan_rows.apply(lambda x: fill_mort_acc(x['total_acc'], x['mort_acc']), axis=1)\n",
    "df.update(nan_rows)"
   ]
  },
  {
   "cell_type": "code",
   "execution_count": 62,
   "metadata": {},
   "outputs": [
    {
     "name": "stdout",
     "output_type": "stream",
     "text": [
      "--- Missing values ---\n",
      "loan_amnt               0.000000\n",
      "term                    0.000000\n",
      "int_rate                0.000000\n",
      "grade                   0.000000\n",
      "sub_grade               0.000000\n",
      "home_ownership          0.000000\n",
      "annual_inc              0.000000\n",
      "verification_status     0.000000\n",
      "issue_d                 0.000000\n",
      "loan_status             0.000000\n",
      "purpose                 0.000000\n",
      "dti                     0.000000\n",
      "earliest_cr_line        0.000000\n",
      "open_acc                0.000000\n",
      "pub_rec                 0.000000\n",
      "revol_bal               0.000000\n",
      "revol_util              0.069692\n",
      "total_acc               0.000000\n",
      "initial_list_status     0.000000\n",
      "application_type        0.000000\n",
      "mort_acc                0.000000\n",
      "pub_rec_bankruptcies    0.135091\n",
      "address                 0.000000\n",
      "loan_repaid             0.000000\n",
      "Name: Missing Values, dtype: float64\n"
     ]
    }
   ],
   "source": [
    "# Revisiting  to check missing data columns\n",
    "print_missing_values(df)"
   ]
  },
  {
   "cell_type": "code",
   "execution_count": 63,
   "metadata": {},
   "outputs": [
    {
     "name": "stdout",
     "output_type": "stream",
     "text": [
      "Total records 396030\n",
      "Total registros a volar:  811\n",
      "Porcentaje de registros con valores nules: 0.2048%\n"
     ]
    }
   ],
   "source": [
    "print('Total records', len(df))\n",
    "total_recs = int((0.135091 + 0.069692)*len(df)/100)\n",
    "print('Total registros a volar: ', total_recs)\n",
    "print('Porcentaje de registros con valores nules: {:.4f}%'.format(100*total_recs/len(df)))\n",
    "\n"
   ]
  },
  {
   "cell_type": "code",
   "execution_count": 64,
   "metadata": {},
   "outputs": [
    {
     "name": "stdout",
     "output_type": "stream",
     "text": [
      "Eliminados =  811\n"
     ]
    }
   ],
   "source": [
    "# Getting rid of revol_util and pub_rec_bankruptcies, as their missing values account for less than 0.3% of the total data records\n",
    "\n",
    "# Remove the missing values\n",
    "df2 = df\n",
    "\n",
    "# Removes the rows where EITHER 'revol_util' OR 'pub_rec_bankruptcies' are None\n",
    "df2 = df.dropna(subset=['revol_util','pub_rec_bankruptcies'])\n",
    "print ('Eliminados = ', len(df) - len(df2))\n"
   ]
  },
  {
   "cell_type": "code",
   "execution_count": 65,
   "metadata": {},
   "outputs": [],
   "source": [
    "df = df2"
   ]
  },
  {
   "cell_type": "code",
   "execution_count": 66,
   "metadata": {},
   "outputs": [
    {
     "data": {
      "text/plain": [
       "loan_amnt               0\n",
       "term                    0\n",
       "int_rate                0\n",
       "grade                   0\n",
       "sub_grade               0\n",
       "home_ownership          0\n",
       "annual_inc              0\n",
       "verification_status     0\n",
       "issue_d                 0\n",
       "loan_status             0\n",
       "purpose                 0\n",
       "dti                     0\n",
       "earliest_cr_line        0\n",
       "open_acc                0\n",
       "pub_rec                 0\n",
       "revol_bal               0\n",
       "revol_util              0\n",
       "total_acc               0\n",
       "initial_list_status     0\n",
       "application_type        0\n",
       "mort_acc                0\n",
       "pub_rec_bankruptcies    0\n",
       "address                 0\n",
       "loan_repaid             0\n",
       "dtype: int64"
      ]
     },
     "execution_count": 66,
     "metadata": {},
     "output_type": "execute_result"
    }
   ],
   "source": [
    "# Check if there are columns with null values\n",
    "df.isnull().sum()"
   ]
  },
  {
   "cell_type": "markdown",
   "metadata": {},
   "source": [
    "* Ready!  We already have a clean dataset with no columns with null values"
   ]
  },
  {
   "cell_type": "markdown",
   "metadata": {},
   "source": [
    "## Processing Categorical Variables and Dummy Variables\n",
    "\n",
    "\n",
    "\n",
    "* List all the columns that are currently non-numeric. \n",
    "\n",
    "[Another very useful method call](https://pandas.pydata.org/pandas-docs/stable/reference/api/pandas.DataFrame.select_dtypes.html)"
   ]
  },
  {
   "cell_type": "code",
   "execution_count": 67,
   "metadata": {},
   "outputs": [
    {
     "name": "stdout",
     "output_type": "stream",
     "text": [
      "Column: term: 2\n",
      "Column: grade: 7\n",
      "Column: sub_grade: 35\n",
      "Column: home_ownership: 6\n",
      "Column: verification_status: 3\n",
      "Column: issue_d: 112\n",
      "Column: loan_status: 2\n",
      "Column: purpose: 14\n",
      "Column: earliest_cr_line: 684\n",
      "Column: initial_list_status: 2\n",
      "Column: application_type: 3\n",
      "Column: address: 392898\n"
     ]
    }
   ],
   "source": [
    "# Show all categorical features with the number of categories of each one\n",
    "print_categorical_features(df)"
   ]
  },
  {
   "cell_type": "markdown",
   "metadata": {},
   "source": [
    "#### * Feature: 'term'"
   ]
  },
  {
   "cell_type": "code",
   "execution_count": 68,
   "metadata": {},
   "outputs": [
    {
     "name": "stdout",
     "output_type": "stream",
     "text": [
      "The number of payments on the loan. Values are in months and can be either 36 or 60.\n"
     ]
    }
   ],
   "source": [
    "feat_info('term')"
   ]
  },
  {
   "cell_type": "code",
   "execution_count": 69,
   "metadata": {},
   "outputs": [
    {
     "data": {
      "text/plain": [
       "<AxesSubplot:xlabel='term', ylabel='count'>"
      ]
     },
     "execution_count": 69,
     "metadata": {},
     "output_type": "execute_result"
    },
    {
     "data": {
      "image/png": "[encoded data removed]",
      "text/plain": [
       "<Figure size 432x288 with 1 Axes>"
      ]
     },
     "metadata": {
      "needs_background": "light"
     },
     "output_type": "display_data"
    }
   ],
   "source": [
    "sns.countplot(data=df,x='term', hue='term')"
   ]
  },
  {
   "cell_type": "code",
   "execution_count": 70,
   "metadata": {},
   "outputs": [],
   "source": [
    "# Convert a categorical value to a numeric value\n",
    "df['term'] = df['term'].apply(lambda x: 36 if x.strip() == '36 months' else 60)\n",
    "# df['term2'] = df['term'].apply(lambda x: x[:3])"
   ]
  },
  {
   "cell_type": "code",
   "execution_count": 71,
   "metadata": {},
   "outputs": [
    {
     "data": {
      "text/plain": [
       "term\n",
       "36    301247\n",
       "60     93972\n",
       "Name: count, dtype: int64"
      ]
     },
     "execution_count": 71,
     "metadata": {},
     "output_type": "execute_result"
    }
   ],
   "source": [
    "df['term'].value_counts()"
   ]
  },
  {
   "cell_type": "markdown",
   "metadata": {},
   "source": [
    "#### * Feature: 'grade'\n",
    "\n",
    "* We already know that the 'subgrade' feature is enough.  There's no need to keep the 'grade' feature"
   ]
  },
  {
   "cell_type": "code",
   "execution_count": 72,
   "metadata": {},
   "outputs": [],
   "source": [
    "df = df.drop('grade', axis=1)"
   ]
  },
  {
   "cell_type": "code",
   "execution_count": 73,
   "metadata": {},
   "outputs": [
    {
     "data": {
      "text/plain": [
       "23"
      ]
     },
     "execution_count": 73,
     "metadata": {},
     "output_type": "execute_result"
    }
   ],
   "source": [
    "len(df.columns)"
   ]
  },
  {
   "cell_type": "markdown",
   "metadata": {},
   "source": [
    "#### * Feature: 'sub_grade'\n",
    "\n",
    "*  Convert the subgrade into dummy variables. Then concatenate these new columns to the original dataframe. Remember to drop the original subgrade column and to add drop_first=True to your get_dummies call.*"
   ]
  },
  {
   "cell_type": "code",
   "execution_count": 74,
   "metadata": {},
   "outputs": [
    {
     "data": {
      "text/html": [
       "<div>\n",
       "<style scoped>\n",
       "    .dataframe tbody tr th:only-of-type {\n",
       "        vertical-align: middle;\n",
       "    }\n",
       "\n",
       "    .dataframe tbody tr th {\n",
       "        vertical-align: top;\n",
       "    }\n",
       "\n",
       "    .dataframe thead th {\n",
       "        text-align: right;\n",
       "    }\n",
       "</style>\n",
       "<table border=\"1\" class=\"dataframe\">\n",
       "  <thead>\n",
       "    <tr style=\"text-align: right;\">\n",
       "      <th></th>\n",
       "      <th>sub_grade_A2</th>\n",
       "      <th>sub_grade_A3</th>\n",
       "      <th>sub_grade_A4</th>\n",
       "      <th>sub_grade_A5</th>\n",
       "      <th>sub_grade_B1</th>\n",
       "      <th>sub_grade_B2</th>\n",
       "      <th>sub_grade_B3</th>\n",
       "      <th>sub_grade_B4</th>\n",
       "      <th>sub_grade_B5</th>\n",
       "      <th>sub_grade_C1</th>\n",
       "      <th>...</th>\n",
       "      <th>sub_grade_F1</th>\n",
       "      <th>sub_grade_F2</th>\n",
       "      <th>sub_grade_F3</th>\n",
       "      <th>sub_grade_F4</th>\n",
       "      <th>sub_grade_F5</th>\n",
       "      <th>sub_grade_G1</th>\n",
       "      <th>sub_grade_G2</th>\n",
       "      <th>sub_grade_G3</th>\n",
       "      <th>sub_grade_G4</th>\n",
       "      <th>sub_grade_G5</th>\n",
       "    </tr>\n",
       "  </thead>\n",
       "  <tbody>\n",
       "    <tr>\n",
       "      <th>0</th>\n",
       "      <td>False</td>\n",
       "      <td>False</td>\n",
       "      <td>False</td>\n",
       "      <td>False</td>\n",
       "      <td>False</td>\n",
       "      <td>False</td>\n",
       "      <td>False</td>\n",
       "      <td>True</td>\n",
       "      <td>False</td>\n",
       "      <td>False</td>\n",
       "      <td>...</td>\n",
       "      <td>False</td>\n",
       "      <td>False</td>\n",
       "      <td>False</td>\n",
       "      <td>False</td>\n",
       "      <td>False</td>\n",
       "      <td>False</td>\n",
       "      <td>False</td>\n",
       "      <td>False</td>\n",
       "      <td>False</td>\n",
       "      <td>False</td>\n",
       "    </tr>\n",
       "    <tr>\n",
       "      <th>1</th>\n",
       "      <td>False</td>\n",
       "      <td>False</td>\n",
       "      <td>False</td>\n",
       "      <td>False</td>\n",
       "      <td>False</td>\n",
       "      <td>False</td>\n",
       "      <td>False</td>\n",
       "      <td>False</td>\n",
       "      <td>True</td>\n",
       "      <td>False</td>\n",
       "      <td>...</td>\n",
       "      <td>False</td>\n",
       "      <td>False</td>\n",
       "      <td>False</td>\n",
       "      <td>False</td>\n",
       "      <td>False</td>\n",
       "      <td>False</td>\n",
       "      <td>False</td>\n",
       "      <td>False</td>\n",
       "      <td>False</td>\n",
       "      <td>False</td>\n",
       "    </tr>\n",
       "    <tr>\n",
       "      <th>2</th>\n",
       "      <td>False</td>\n",
       "      <td>False</td>\n",
       "      <td>False</td>\n",
       "      <td>False</td>\n",
       "      <td>False</td>\n",
       "      <td>False</td>\n",
       "      <td>True</td>\n",
       "      <td>False</td>\n",
       "      <td>False</td>\n",
       "      <td>False</td>\n",
       "      <td>...</td>\n",
       "      <td>False</td>\n",
       "      <td>False</td>\n",
       "      <td>False</td>\n",
       "      <td>False</td>\n",
       "      <td>False</td>\n",
       "      <td>False</td>\n",
       "      <td>False</td>\n",
       "      <td>False</td>\n",
       "      <td>False</td>\n",
       "      <td>False</td>\n",
       "    </tr>\n",
       "    <tr>\n",
       "      <th>3</th>\n",
       "      <td>True</td>\n",
       "      <td>False</td>\n",
       "      <td>False</td>\n",
       "      <td>False</td>\n",
       "      <td>False</td>\n",
       "      <td>False</td>\n",
       "      <td>False</td>\n",
       "      <td>False</td>\n",
       "      <td>False</td>\n",
       "      <td>False</td>\n",
       "      <td>...</td>\n",
       "      <td>False</td>\n",
       "      <td>False</td>\n",
       "      <td>False</td>\n",
       "      <td>False</td>\n",
       "      <td>False</td>\n",
       "      <td>False</td>\n",
       "      <td>False</td>\n",
       "      <td>False</td>\n",
       "      <td>False</td>\n",
       "      <td>False</td>\n",
       "    </tr>\n",
       "    <tr>\n",
       "      <th>4</th>\n",
       "      <td>False</td>\n",
       "      <td>False</td>\n",
       "      <td>False</td>\n",
       "      <td>False</td>\n",
       "      <td>False</td>\n",
       "      <td>False</td>\n",
       "      <td>False</td>\n",
       "      <td>False</td>\n",
       "      <td>False</td>\n",
       "      <td>False</td>\n",
       "      <td>...</td>\n",
       "      <td>False</td>\n",
       "      <td>False</td>\n",
       "      <td>False</td>\n",
       "      <td>False</td>\n",
       "      <td>False</td>\n",
       "      <td>False</td>\n",
       "      <td>False</td>\n",
       "      <td>False</td>\n",
       "      <td>False</td>\n",
       "      <td>False</td>\n",
       "    </tr>\n",
       "    <tr>\n",
       "      <th>...</th>\n",
       "      <td>...</td>\n",
       "      <td>...</td>\n",
       "      <td>...</td>\n",
       "      <td>...</td>\n",
       "      <td>...</td>\n",
       "      <td>...</td>\n",
       "      <td>...</td>\n",
       "      <td>...</td>\n",
       "      <td>...</td>\n",
       "      <td>...</td>\n",
       "      <td>...</td>\n",
       "      <td>...</td>\n",
       "      <td>...</td>\n",
       "      <td>...</td>\n",
       "      <td>...</td>\n",
       "      <td>...</td>\n",
       "      <td>...</td>\n",
       "      <td>...</td>\n",
       "      <td>...</td>\n",
       "      <td>...</td>\n",
       "      <td>...</td>\n",
       "    </tr>\n",
       "    <tr>\n",
       "      <th>396025</th>\n",
       "      <td>False</td>\n",
       "      <td>False</td>\n",
       "      <td>False</td>\n",
       "      <td>False</td>\n",
       "      <td>False</td>\n",
       "      <td>False</td>\n",
       "      <td>False</td>\n",
       "      <td>True</td>\n",
       "      <td>False</td>\n",
       "      <td>False</td>\n",
       "      <td>...</td>\n",
       "      <td>False</td>\n",
       "      <td>False</td>\n",
       "      <td>False</td>\n",
       "      <td>False</td>\n",
       "      <td>False</td>\n",
       "      <td>False</td>\n",
       "      <td>False</td>\n",
       "      <td>False</td>\n",
       "      <td>False</td>\n",
       "      <td>False</td>\n",
       "    </tr>\n",
       "    <tr>\n",
       "      <th>396026</th>\n",
       "      <td>False</td>\n",
       "      <td>False</td>\n",
       "      <td>False</td>\n",
       "      <td>False</td>\n",
       "      <td>False</td>\n",
       "      <td>False</td>\n",
       "      <td>False</td>\n",
       "      <td>False</td>\n",
       "      <td>False</td>\n",
       "      <td>True</td>\n",
       "      <td>...</td>\n",
       "      <td>False</td>\n",
       "      <td>False</td>\n",
       "      <td>False</td>\n",
       "      <td>False</td>\n",
       "      <td>False</td>\n",
       "      <td>False</td>\n",
       "      <td>False</td>\n",
       "      <td>False</td>\n",
       "      <td>False</td>\n",
       "      <td>False</td>\n",
       "    </tr>\n",
       "    <tr>\n",
       "      <th>396027</th>\n",
       "      <td>False</td>\n",
       "      <td>False</td>\n",
       "      <td>False</td>\n",
       "      <td>False</td>\n",
       "      <td>True</td>\n",
       "      <td>False</td>\n",
       "      <td>False</td>\n",
       "      <td>False</td>\n",
       "      <td>False</td>\n",
       "      <td>False</td>\n",
       "      <td>...</td>\n",
       "      <td>False</td>\n",
       "      <td>False</td>\n",
       "      <td>False</td>\n",
       "      <td>False</td>\n",
       "      <td>False</td>\n",
       "      <td>False</td>\n",
       "      <td>False</td>\n",
       "      <td>False</td>\n",
       "      <td>False</td>\n",
       "      <td>False</td>\n",
       "    </tr>\n",
       "    <tr>\n",
       "      <th>396028</th>\n",
       "      <td>False</td>\n",
       "      <td>False</td>\n",
       "      <td>False</td>\n",
       "      <td>False</td>\n",
       "      <td>False</td>\n",
       "      <td>False</td>\n",
       "      <td>False</td>\n",
       "      <td>False</td>\n",
       "      <td>False</td>\n",
       "      <td>False</td>\n",
       "      <td>...</td>\n",
       "      <td>False</td>\n",
       "      <td>False</td>\n",
       "      <td>False</td>\n",
       "      <td>False</td>\n",
       "      <td>False</td>\n",
       "      <td>False</td>\n",
       "      <td>False</td>\n",
       "      <td>False</td>\n",
       "      <td>False</td>\n",
       "      <td>False</td>\n",
       "    </tr>\n",
       "    <tr>\n",
       "      <th>396029</th>\n",
       "      <td>False</td>\n",
       "      <td>False</td>\n",
       "      <td>False</td>\n",
       "      <td>False</td>\n",
       "      <td>False</td>\n",
       "      <td>False</td>\n",
       "      <td>False</td>\n",
       "      <td>False</td>\n",
       "      <td>False</td>\n",
       "      <td>False</td>\n",
       "      <td>...</td>\n",
       "      <td>False</td>\n",
       "      <td>False</td>\n",
       "      <td>False</td>\n",
       "      <td>False</td>\n",
       "      <td>False</td>\n",
       "      <td>False</td>\n",
       "      <td>False</td>\n",
       "      <td>False</td>\n",
       "      <td>False</td>\n",
       "      <td>False</td>\n",
       "    </tr>\n",
       "  </tbody>\n",
       "</table>\n",
       "<p>395219 rows × 34 columns</p>\n",
       "</div>"
      ],
      "text/plain": [
       "        sub_grade_A2  sub_grade_A3  sub_grade_A4  sub_grade_A5  sub_grade_B1  \\\n",
       "0              False         False         False         False         False   \n",
       "1              False         False         False         False         False   \n",
       "2              False         False         False         False         False   \n",
       "3               True         False         False         False         False   \n",
       "4              False         False         False         False         False   \n",
       "...              ...           ...           ...           ...           ...   \n",
       "396025         False         False         False         False         False   \n",
       "396026         False         False         False         False         False   \n",
       "396027         False         False         False         False          True   \n",
       "396028         False         False         False         False         False   \n",
       "396029         False         False         False         False         False   \n",
       "\n",
       "        sub_grade_B2  sub_grade_B3  sub_grade_B4  sub_grade_B5  sub_grade_C1  \\\n",
       "0              False         False          True         False         False   \n",
       "1              False         False         False          True         False   \n",
       "2              False          True         False         False         False   \n",
       "3              False         False         False         False         False   \n",
       "4              False         False         False         False         False   \n",
       "...              ...           ...           ...           ...           ...   \n",
       "396025         False         False          True         False         False   \n",
       "396026         False         False         False         False          True   \n",
       "396027         False         False         False         False         False   \n",
       "396028         False         False         False         False         False   \n",
       "396029         False         False         False         False         False   \n",
       "\n",
       "        ...  sub_grade_F1  sub_grade_F2  sub_grade_F3  sub_grade_F4  \\\n",
       "0       ...         False         False         False         False   \n",
       "1       ...         False         False         False         False   \n",
       "2       ...         False         False         False         False   \n",
       "3       ...         False         False         False         False   \n",
       "4       ...         False         False         False         False   \n",
       "...     ...           ...           ...           ...           ...   \n",
       "396025  ...         False         False         False         False   \n",
       "396026  ...         False         False         False         False   \n",
       "396027  ...         False         False         False         False   \n",
       "396028  ...         False         False         False         False   \n",
       "396029  ...         False         False         False         False   \n",
       "\n",
       "        sub_grade_F5  sub_grade_G1  sub_grade_G2  sub_grade_G3  sub_grade_G4  \\\n",
       "0              False         False         False         False         False   \n",
       "1              False         False         False         False         False   \n",
       "2              False         False         False         False         False   \n",
       "3              False         False         False         False         False   \n",
       "4              False         False         False         False         False   \n",
       "...              ...           ...           ...           ...           ...   \n",
       "396025         False         False         False         False         False   \n",
       "396026         False         False         False         False         False   \n",
       "396027         False         False         False         False         False   \n",
       "396028         False         False         False         False         False   \n",
       "396029         False         False         False         False         False   \n",
       "\n",
       "        sub_grade_G5  \n",
       "0              False  \n",
       "1              False  \n",
       "2              False  \n",
       "3              False  \n",
       "4              False  \n",
       "...              ...  \n",
       "396025         False  \n",
       "396026         False  \n",
       "396027         False  \n",
       "396028         False  \n",
       "396029         False  \n",
       "\n",
       "[395219 rows x 34 columns]"
      ]
     },
     "execution_count": 74,
     "metadata": {},
     "output_type": "execute_result"
    }
   ],
   "source": [
    "dummies = pd.get_dummies(df['sub_grade'], prefix='sub_grade', drop_first=True)\n",
    "dummies"
   ]
  },
  {
   "cell_type": "code",
   "execution_count": 75,
   "metadata": {},
   "outputs": [],
   "source": [
    "df = pd.concat([df, dummies], axis=1)\n"
   ]
  },
  {
   "cell_type": "code",
   "execution_count": 76,
   "metadata": {},
   "outputs": [],
   "source": [
    "df = df.drop('sub_grade', axis=1)"
   ]
  },
  {
   "cell_type": "code",
   "execution_count": 77,
   "metadata": {},
   "outputs": [
    {
     "name": "stdout",
     "output_type": "stream",
     "text": [
      "Column: home_ownership: 6\n",
      "Column: verification_status: 3\n",
      "Column: issue_d: 112\n",
      "Column: loan_status: 2\n",
      "Column: purpose: 14\n",
      "Column: earliest_cr_line: 684\n",
      "Column: initial_list_status: 2\n",
      "Column: application_type: 3\n",
      "Column: address: 392898\n"
     ]
    }
   ],
   "source": [
    "# Show all categorical features with the number of categories of each one\n",
    "print_categorical_features(df)"
   ]
  },
  {
   "cell_type": "markdown",
   "metadata": {},
   "source": [
    "#### * Feature: 'home_ownership'\n",
    "\n",
    "* We already know that the 'subgrade' feature is enough.  There's no need to keep the 'grade' feature"
   ]
  },
  {
   "cell_type": "code",
   "execution_count": 78,
   "metadata": {},
   "outputs": [
    {
     "data": {
      "text/plain": [
       "home_ownership\n",
       "MORTGAGE    198022\n",
       "RENT        159395\n",
       "OWN          37660\n",
       "OTHER          110\n",
       "NONE            29\n",
       "ANY              3\n",
       "Name: count, dtype: int64"
      ]
     },
     "execution_count": 78,
     "metadata": {},
     "output_type": "execute_result"
    }
   ],
   "source": [
    "df['home_ownership'].value_counts()"
   ]
  },
  {
   "cell_type": "code",
   "execution_count": 79,
   "metadata": {},
   "outputs": [
    {
     "data": {
      "text/html": [
       "<div>\n",
       "<style scoped>\n",
       "    .dataframe tbody tr th:only-of-type {\n",
       "        vertical-align: middle;\n",
       "    }\n",
       "\n",
       "    .dataframe tbody tr th {\n",
       "        vertical-align: top;\n",
       "    }\n",
       "\n",
       "    .dataframe thead th {\n",
       "        text-align: right;\n",
       "    }\n",
       "</style>\n",
       "<table border=\"1\" class=\"dataframe\">\n",
       "  <thead>\n",
       "    <tr style=\"text-align: right;\">\n",
       "      <th></th>\n",
       "      <th>home_MORTGAGE</th>\n",
       "      <th>home_NONE</th>\n",
       "      <th>home_OTHER</th>\n",
       "      <th>home_OWN</th>\n",
       "      <th>home_RENT</th>\n",
       "    </tr>\n",
       "  </thead>\n",
       "  <tbody>\n",
       "    <tr>\n",
       "      <th>0</th>\n",
       "      <td>False</td>\n",
       "      <td>False</td>\n",
       "      <td>False</td>\n",
       "      <td>False</td>\n",
       "      <td>True</td>\n",
       "    </tr>\n",
       "    <tr>\n",
       "      <th>1</th>\n",
       "      <td>True</td>\n",
       "      <td>False</td>\n",
       "      <td>False</td>\n",
       "      <td>False</td>\n",
       "      <td>False</td>\n",
       "    </tr>\n",
       "    <tr>\n",
       "      <th>2</th>\n",
       "      <td>False</td>\n",
       "      <td>False</td>\n",
       "      <td>False</td>\n",
       "      <td>False</td>\n",
       "      <td>True</td>\n",
       "    </tr>\n",
       "    <tr>\n",
       "      <th>3</th>\n",
       "      <td>False</td>\n",
       "      <td>False</td>\n",
       "      <td>False</td>\n",
       "      <td>False</td>\n",
       "      <td>True</td>\n",
       "    </tr>\n",
       "    <tr>\n",
       "      <th>4</th>\n",
       "      <td>True</td>\n",
       "      <td>False</td>\n",
       "      <td>False</td>\n",
       "      <td>False</td>\n",
       "      <td>False</td>\n",
       "    </tr>\n",
       "    <tr>\n",
       "      <th>...</th>\n",
       "      <td>...</td>\n",
       "      <td>...</td>\n",
       "      <td>...</td>\n",
       "      <td>...</td>\n",
       "      <td>...</td>\n",
       "    </tr>\n",
       "    <tr>\n",
       "      <th>396025</th>\n",
       "      <td>False</td>\n",
       "      <td>False</td>\n",
       "      <td>False</td>\n",
       "      <td>False</td>\n",
       "      <td>True</td>\n",
       "    </tr>\n",
       "    <tr>\n",
       "      <th>396026</th>\n",
       "      <td>True</td>\n",
       "      <td>False</td>\n",
       "      <td>False</td>\n",
       "      <td>False</td>\n",
       "      <td>False</td>\n",
       "    </tr>\n",
       "    <tr>\n",
       "      <th>396027</th>\n",
       "      <td>False</td>\n",
       "      <td>False</td>\n",
       "      <td>False</td>\n",
       "      <td>False</td>\n",
       "      <td>True</td>\n",
       "    </tr>\n",
       "    <tr>\n",
       "      <th>396028</th>\n",
       "      <td>True</td>\n",
       "      <td>False</td>\n",
       "      <td>False</td>\n",
       "      <td>False</td>\n",
       "      <td>False</td>\n",
       "    </tr>\n",
       "    <tr>\n",
       "      <th>396029</th>\n",
       "      <td>False</td>\n",
       "      <td>False</td>\n",
       "      <td>False</td>\n",
       "      <td>False</td>\n",
       "      <td>True</td>\n",
       "    </tr>\n",
       "  </tbody>\n",
       "</table>\n",
       "<p>395219 rows × 5 columns</p>\n",
       "</div>"
      ],
      "text/plain": [
       "        home_MORTGAGE  home_NONE  home_OTHER  home_OWN  home_RENT\n",
       "0               False      False       False     False       True\n",
       "1                True      False       False     False      False\n",
       "2               False      False       False     False       True\n",
       "3               False      False       False     False       True\n",
       "4                True      False       False     False      False\n",
       "...               ...        ...         ...       ...        ...\n",
       "396025          False      False       False     False       True\n",
       "396026           True      False       False     False      False\n",
       "396027          False      False       False     False       True\n",
       "396028           True      False       False     False      False\n",
       "396029          False      False       False     False       True\n",
       "\n",
       "[395219 rows x 5 columns]"
      ]
     },
     "execution_count": 79,
     "metadata": {},
     "output_type": "execute_result"
    }
   ],
   "source": [
    "dummies = pd.get_dummies(df['home_ownership'], prefix='home', drop_first=True)\n",
    "dummies"
   ]
  },
  {
   "cell_type": "code",
   "execution_count": 80,
   "metadata": {},
   "outputs": [],
   "source": [
    "df = pd.concat([df, dummies], axis=1)\n",
    "df = df.drop('home_ownership', axis=1)"
   ]
  },
  {
   "cell_type": "code",
   "execution_count": 81,
   "metadata": {},
   "outputs": [
    {
     "name": "stdout",
     "output_type": "stream",
     "text": [
      "Column: verification_status: 3\n",
      "Column: issue_d: 112\n",
      "Column: loan_status: 2\n",
      "Column: purpose: 14\n",
      "Column: earliest_cr_line: 684\n",
      "Column: initial_list_status: 2\n",
      "Column: application_type: 3\n",
      "Column: address: 392898\n"
     ]
    }
   ],
   "source": [
    "# Show all categorical features with the number of categories of each one\n",
    "print_categorical_features(df)"
   ]
  },
  {
   "cell_type": "markdown",
   "metadata": {},
   "source": [
    "### * Features: verification_status, application_type,initial_list_status,purpose \n",
    "**TASK: Convert these columns: ['verification_status', 'application_type','initial_list_status','purpose'] into dummy variables and concatenate them with the original dataframe. Remember to set drop_first=True and to drop the original columns.**"
   ]
  },
  {
   "cell_type": "code",
   "execution_count": 82,
   "metadata": {},
   "outputs": [
    {
     "data": {
      "text/html": [
       "<div>\n",
       "<style scoped>\n",
       "    .dataframe tbody tr th:only-of-type {\n",
       "        vertical-align: middle;\n",
       "    }\n",
       "\n",
       "    .dataframe tbody tr th {\n",
       "        vertical-align: top;\n",
       "    }\n",
       "\n",
       "    .dataframe thead th {\n",
       "        text-align: right;\n",
       "    }\n",
       "</style>\n",
       "<table border=\"1\" class=\"dataframe\">\n",
       "  <thead>\n",
       "    <tr style=\"text-align: right;\">\n",
       "      <th></th>\n",
       "      <th>VS_Source Verified</th>\n",
       "      <th>VS_Verified</th>\n",
       "    </tr>\n",
       "  </thead>\n",
       "  <tbody>\n",
       "    <tr>\n",
       "      <th>0</th>\n",
       "      <td>False</td>\n",
       "      <td>False</td>\n",
       "    </tr>\n",
       "    <tr>\n",
       "      <th>1</th>\n",
       "      <td>False</td>\n",
       "      <td>False</td>\n",
       "    </tr>\n",
       "    <tr>\n",
       "      <th>2</th>\n",
       "      <td>True</td>\n",
       "      <td>False</td>\n",
       "    </tr>\n",
       "    <tr>\n",
       "      <th>3</th>\n",
       "      <td>False</td>\n",
       "      <td>False</td>\n",
       "    </tr>\n",
       "    <tr>\n",
       "      <th>4</th>\n",
       "      <td>False</td>\n",
       "      <td>True</td>\n",
       "    </tr>\n",
       "    <tr>\n",
       "      <th>...</th>\n",
       "      <td>...</td>\n",
       "      <td>...</td>\n",
       "    </tr>\n",
       "    <tr>\n",
       "      <th>396025</th>\n",
       "      <td>True</td>\n",
       "      <td>False</td>\n",
       "    </tr>\n",
       "    <tr>\n",
       "      <th>396026</th>\n",
       "      <td>True</td>\n",
       "      <td>False</td>\n",
       "    </tr>\n",
       "    <tr>\n",
       "      <th>396027</th>\n",
       "      <td>False</td>\n",
       "      <td>True</td>\n",
       "    </tr>\n",
       "    <tr>\n",
       "      <th>396028</th>\n",
       "      <td>False</td>\n",
       "      <td>True</td>\n",
       "    </tr>\n",
       "    <tr>\n",
       "      <th>396029</th>\n",
       "      <td>False</td>\n",
       "      <td>True</td>\n",
       "    </tr>\n",
       "  </tbody>\n",
       "</table>\n",
       "<p>395219 rows × 2 columns</p>\n",
       "</div>"
      ],
      "text/plain": [
       "        VS_Source Verified  VS_Verified\n",
       "0                    False        False\n",
       "1                    False        False\n",
       "2                     True        False\n",
       "3                    False        False\n",
       "4                    False         True\n",
       "...                    ...          ...\n",
       "396025                True        False\n",
       "396026                True        False\n",
       "396027               False         True\n",
       "396028               False         True\n",
       "396029               False         True\n",
       "\n",
       "[395219 rows x 2 columns]"
      ]
     },
     "execution_count": 82,
     "metadata": {},
     "output_type": "execute_result"
    }
   ],
   "source": [
    "dummies = pd.get_dummies(df['verification_status'], prefix='VS', drop_first=True)\n",
    "dummies"
   ]
  },
  {
   "cell_type": "code",
   "execution_count": 83,
   "metadata": {},
   "outputs": [],
   "source": [
    "df = pd.concat([df, dummies], axis=1)\n",
    "df = df.drop('verification_status', axis=1)"
   ]
  },
  {
   "cell_type": "code",
   "execution_count": 84,
   "metadata": {},
   "outputs": [
    {
     "data": {
      "text/html": [
       "<div>\n",
       "<style scoped>\n",
       "    .dataframe tbody tr th:only-of-type {\n",
       "        vertical-align: middle;\n",
       "    }\n",
       "\n",
       "    .dataframe tbody tr th {\n",
       "        vertical-align: top;\n",
       "    }\n",
       "\n",
       "    .dataframe thead th {\n",
       "        text-align: right;\n",
       "    }\n",
       "</style>\n",
       "<table border=\"1\" class=\"dataframe\">\n",
       "  <thead>\n",
       "    <tr style=\"text-align: right;\">\n",
       "      <th></th>\n",
       "      <th>AT_INDIVIDUAL</th>\n",
       "      <th>AT_JOINT</th>\n",
       "    </tr>\n",
       "  </thead>\n",
       "  <tbody>\n",
       "    <tr>\n",
       "      <th>0</th>\n",
       "      <td>True</td>\n",
       "      <td>False</td>\n",
       "    </tr>\n",
       "    <tr>\n",
       "      <th>1</th>\n",
       "      <td>True</td>\n",
       "      <td>False</td>\n",
       "    </tr>\n",
       "    <tr>\n",
       "      <th>2</th>\n",
       "      <td>True</td>\n",
       "      <td>False</td>\n",
       "    </tr>\n",
       "    <tr>\n",
       "      <th>3</th>\n",
       "      <td>True</td>\n",
       "      <td>False</td>\n",
       "    </tr>\n",
       "    <tr>\n",
       "      <th>4</th>\n",
       "      <td>True</td>\n",
       "      <td>False</td>\n",
       "    </tr>\n",
       "    <tr>\n",
       "      <th>...</th>\n",
       "      <td>...</td>\n",
       "      <td>...</td>\n",
       "    </tr>\n",
       "    <tr>\n",
       "      <th>396025</th>\n",
       "      <td>True</td>\n",
       "      <td>False</td>\n",
       "    </tr>\n",
       "    <tr>\n",
       "      <th>396026</th>\n",
       "      <td>True</td>\n",
       "      <td>False</td>\n",
       "    </tr>\n",
       "    <tr>\n",
       "      <th>396027</th>\n",
       "      <td>True</td>\n",
       "      <td>False</td>\n",
       "    </tr>\n",
       "    <tr>\n",
       "      <th>396028</th>\n",
       "      <td>True</td>\n",
       "      <td>False</td>\n",
       "    </tr>\n",
       "    <tr>\n",
       "      <th>396029</th>\n",
       "      <td>True</td>\n",
       "      <td>False</td>\n",
       "    </tr>\n",
       "  </tbody>\n",
       "</table>\n",
       "<p>395219 rows × 2 columns</p>\n",
       "</div>"
      ],
      "text/plain": [
       "        AT_INDIVIDUAL  AT_JOINT\n",
       "0                True     False\n",
       "1                True     False\n",
       "2                True     False\n",
       "3                True     False\n",
       "4                True     False\n",
       "...               ...       ...\n",
       "396025           True     False\n",
       "396026           True     False\n",
       "396027           True     False\n",
       "396028           True     False\n",
       "396029           True     False\n",
       "\n",
       "[395219 rows x 2 columns]"
      ]
     },
     "execution_count": 84,
     "metadata": {},
     "output_type": "execute_result"
    }
   ],
   "source": [
    "dummies = pd.get_dummies(df['application_type'], prefix='AT', drop_first=True)\n",
    "dummies"
   ]
  },
  {
   "cell_type": "code",
   "execution_count": 85,
   "metadata": {},
   "outputs": [],
   "source": [
    "df = pd.concat([df, dummies], axis=1)\n",
    "df = df.drop('application_type', axis=1)"
   ]
  },
  {
   "cell_type": "code",
   "execution_count": 86,
   "metadata": {},
   "outputs": [
    {
     "data": {
      "text/plain": [
       "initial_list_status\n",
       "f    237346\n",
       "w    157873\n",
       "Name: count, dtype: int64"
      ]
     },
     "execution_count": 86,
     "metadata": {},
     "output_type": "execute_result"
    }
   ],
   "source": [
    "df['initial_list_status'].value_counts()"
   ]
  },
  {
   "cell_type": "code",
   "execution_count": 87,
   "metadata": {},
   "outputs": [
    {
     "name": "stdout",
     "output_type": "stream",
     "text": [
      "The initial listing status of the loan. Possible values are – W, F\n"
     ]
    }
   ],
   "source": [
    "feat_info('initial_list_status')"
   ]
  },
  {
   "cell_type": "code",
   "execution_count": 88,
   "metadata": {},
   "outputs": [
    {
     "data": {
      "text/html": [
       "<div>\n",
       "<style scoped>\n",
       "    .dataframe tbody tr th:only-of-type {\n",
       "        vertical-align: middle;\n",
       "    }\n",
       "\n",
       "    .dataframe tbody tr th {\n",
       "        vertical-align: top;\n",
       "    }\n",
       "\n",
       "    .dataframe thead th {\n",
       "        text-align: right;\n",
       "    }\n",
       "</style>\n",
       "<table border=\"1\" class=\"dataframe\">\n",
       "  <thead>\n",
       "    <tr style=\"text-align: right;\">\n",
       "      <th></th>\n",
       "      <th>ILS_w</th>\n",
       "    </tr>\n",
       "  </thead>\n",
       "  <tbody>\n",
       "    <tr>\n",
       "      <th>0</th>\n",
       "      <td>True</td>\n",
       "    </tr>\n",
       "    <tr>\n",
       "      <th>1</th>\n",
       "      <td>False</td>\n",
       "    </tr>\n",
       "    <tr>\n",
       "      <th>2</th>\n",
       "      <td>False</td>\n",
       "    </tr>\n",
       "    <tr>\n",
       "      <th>3</th>\n",
       "      <td>False</td>\n",
       "    </tr>\n",
       "    <tr>\n",
       "      <th>4</th>\n",
       "      <td>False</td>\n",
       "    </tr>\n",
       "    <tr>\n",
       "      <th>...</th>\n",
       "      <td>...</td>\n",
       "    </tr>\n",
       "    <tr>\n",
       "      <th>396025</th>\n",
       "      <td>True</td>\n",
       "    </tr>\n",
       "    <tr>\n",
       "      <th>396026</th>\n",
       "      <td>False</td>\n",
       "    </tr>\n",
       "    <tr>\n",
       "      <th>396027</th>\n",
       "      <td>False</td>\n",
       "    </tr>\n",
       "    <tr>\n",
       "      <th>396028</th>\n",
       "      <td>False</td>\n",
       "    </tr>\n",
       "    <tr>\n",
       "      <th>396029</th>\n",
       "      <td>False</td>\n",
       "    </tr>\n",
       "  </tbody>\n",
       "</table>\n",
       "<p>395219 rows × 1 columns</p>\n",
       "</div>"
      ],
      "text/plain": [
       "        ILS_w\n",
       "0        True\n",
       "1       False\n",
       "2       False\n",
       "3       False\n",
       "4       False\n",
       "...       ...\n",
       "396025   True\n",
       "396026  False\n",
       "396027  False\n",
       "396028  False\n",
       "396029  False\n",
       "\n",
       "[395219 rows x 1 columns]"
      ]
     },
     "execution_count": 88,
     "metadata": {},
     "output_type": "execute_result"
    }
   ],
   "source": [
    "dummies = pd.get_dummies(df['initial_list_status'], prefix='ILS', drop_first=True)\n",
    "dummies"
   ]
  },
  {
   "cell_type": "code",
   "execution_count": 89,
   "metadata": {},
   "outputs": [],
   "source": [
    "df = pd.concat([df, dummies], axis=1)\n",
    "df = df.drop('initial_list_status', axis=1)"
   ]
  },
  {
   "cell_type": "code",
   "execution_count": 90,
   "metadata": {},
   "outputs": [
    {
     "name": "stdout",
     "output_type": "stream",
     "text": [
      "A category provided by the borrower for the loan request. \n"
     ]
    }
   ],
   "source": [
    "feat_info('purpose')"
   ]
  },
  {
   "cell_type": "code",
   "execution_count": 91,
   "metadata": {},
   "outputs": [
    {
     "data": {
      "text/plain": [
       "purpose\n",
       "debt_consolidation    234169\n",
       "credit_card            82923\n",
       "home_improvement       23961\n",
       "other                  21059\n",
       "major_purchase          8756\n",
       "small_business          5656\n",
       "car                     4670\n",
       "medical                 4175\n",
       "moving                  2842\n",
       "vacation                2442\n",
       "house                   2197\n",
       "wedding                 1794\n",
       "renewable_energy         329\n",
       "educational              246\n",
       "Name: count, dtype: int64"
      ]
     },
     "execution_count": 91,
     "metadata": {},
     "output_type": "execute_result"
    }
   ],
   "source": [
    "df['purpose'].value_counts()"
   ]
  },
  {
   "cell_type": "code",
   "execution_count": 92,
   "metadata": {},
   "outputs": [
    {
     "data": {
      "text/html": [
       "<div>\n",
       "<style scoped>\n",
       "    .dataframe tbody tr th:only-of-type {\n",
       "        vertical-align: middle;\n",
       "    }\n",
       "\n",
       "    .dataframe tbody tr th {\n",
       "        vertical-align: top;\n",
       "    }\n",
       "\n",
       "    .dataframe thead th {\n",
       "        text-align: right;\n",
       "    }\n",
       "</style>\n",
       "<table border=\"1\" class=\"dataframe\">\n",
       "  <thead>\n",
       "    <tr style=\"text-align: right;\">\n",
       "      <th></th>\n",
       "      <th>purpose_credit_card</th>\n",
       "      <th>purpose_debt_consolidation</th>\n",
       "      <th>purpose_educational</th>\n",
       "      <th>purpose_home_improvement</th>\n",
       "      <th>purpose_house</th>\n",
       "      <th>purpose_major_purchase</th>\n",
       "      <th>purpose_medical</th>\n",
       "      <th>purpose_moving</th>\n",
       "      <th>purpose_other</th>\n",
       "      <th>purpose_renewable_energy</th>\n",
       "      <th>purpose_small_business</th>\n",
       "      <th>purpose_vacation</th>\n",
       "      <th>purpose_wedding</th>\n",
       "    </tr>\n",
       "  </thead>\n",
       "  <tbody>\n",
       "    <tr>\n",
       "      <th>0</th>\n",
       "      <td>False</td>\n",
       "      <td>False</td>\n",
       "      <td>False</td>\n",
       "      <td>False</td>\n",
       "      <td>False</td>\n",
       "      <td>False</td>\n",
       "      <td>False</td>\n",
       "      <td>False</td>\n",
       "      <td>False</td>\n",
       "      <td>False</td>\n",
       "      <td>False</td>\n",
       "      <td>True</td>\n",
       "      <td>False</td>\n",
       "    </tr>\n",
       "    <tr>\n",
       "      <th>1</th>\n",
       "      <td>False</td>\n",
       "      <td>True</td>\n",
       "      <td>False</td>\n",
       "      <td>False</td>\n",
       "      <td>False</td>\n",
       "      <td>False</td>\n",
       "      <td>False</td>\n",
       "      <td>False</td>\n",
       "      <td>False</td>\n",
       "      <td>False</td>\n",
       "      <td>False</td>\n",
       "      <td>False</td>\n",
       "      <td>False</td>\n",
       "    </tr>\n",
       "    <tr>\n",
       "      <th>2</th>\n",
       "      <td>True</td>\n",
       "      <td>False</td>\n",
       "      <td>False</td>\n",
       "      <td>False</td>\n",
       "      <td>False</td>\n",
       "      <td>False</td>\n",
       "      <td>False</td>\n",
       "      <td>False</td>\n",
       "      <td>False</td>\n",
       "      <td>False</td>\n",
       "      <td>False</td>\n",
       "      <td>False</td>\n",
       "      <td>False</td>\n",
       "    </tr>\n",
       "    <tr>\n",
       "      <th>3</th>\n",
       "      <td>True</td>\n",
       "      <td>False</td>\n",
       "      <td>False</td>\n",
       "      <td>False</td>\n",
       "      <td>False</td>\n",
       "      <td>False</td>\n",
       "      <td>False</td>\n",
       "      <td>False</td>\n",
       "      <td>False</td>\n",
       "      <td>False</td>\n",
       "      <td>False</td>\n",
       "      <td>False</td>\n",
       "      <td>False</td>\n",
       "    </tr>\n",
       "    <tr>\n",
       "      <th>4</th>\n",
       "      <td>True</td>\n",
       "      <td>False</td>\n",
       "      <td>False</td>\n",
       "      <td>False</td>\n",
       "      <td>False</td>\n",
       "      <td>False</td>\n",
       "      <td>False</td>\n",
       "      <td>False</td>\n",
       "      <td>False</td>\n",
       "      <td>False</td>\n",
       "      <td>False</td>\n",
       "      <td>False</td>\n",
       "      <td>False</td>\n",
       "    </tr>\n",
       "    <tr>\n",
       "      <th>...</th>\n",
       "      <td>...</td>\n",
       "      <td>...</td>\n",
       "      <td>...</td>\n",
       "      <td>...</td>\n",
       "      <td>...</td>\n",
       "      <td>...</td>\n",
       "      <td>...</td>\n",
       "      <td>...</td>\n",
       "      <td>...</td>\n",
       "      <td>...</td>\n",
       "      <td>...</td>\n",
       "      <td>...</td>\n",
       "      <td>...</td>\n",
       "    </tr>\n",
       "    <tr>\n",
       "      <th>396025</th>\n",
       "      <td>False</td>\n",
       "      <td>True</td>\n",
       "      <td>False</td>\n",
       "      <td>False</td>\n",
       "      <td>False</td>\n",
       "      <td>False</td>\n",
       "      <td>False</td>\n",
       "      <td>False</td>\n",
       "      <td>False</td>\n",
       "      <td>False</td>\n",
       "      <td>False</td>\n",
       "      <td>False</td>\n",
       "      <td>False</td>\n",
       "    </tr>\n",
       "    <tr>\n",
       "      <th>396026</th>\n",
       "      <td>False</td>\n",
       "      <td>True</td>\n",
       "      <td>False</td>\n",
       "      <td>False</td>\n",
       "      <td>False</td>\n",
       "      <td>False</td>\n",
       "      <td>False</td>\n",
       "      <td>False</td>\n",
       "      <td>False</td>\n",
       "      <td>False</td>\n",
       "      <td>False</td>\n",
       "      <td>False</td>\n",
       "      <td>False</td>\n",
       "    </tr>\n",
       "    <tr>\n",
       "      <th>396027</th>\n",
       "      <td>False</td>\n",
       "      <td>True</td>\n",
       "      <td>False</td>\n",
       "      <td>False</td>\n",
       "      <td>False</td>\n",
       "      <td>False</td>\n",
       "      <td>False</td>\n",
       "      <td>False</td>\n",
       "      <td>False</td>\n",
       "      <td>False</td>\n",
       "      <td>False</td>\n",
       "      <td>False</td>\n",
       "      <td>False</td>\n",
       "    </tr>\n",
       "    <tr>\n",
       "      <th>396028</th>\n",
       "      <td>False</td>\n",
       "      <td>True</td>\n",
       "      <td>False</td>\n",
       "      <td>False</td>\n",
       "      <td>False</td>\n",
       "      <td>False</td>\n",
       "      <td>False</td>\n",
       "      <td>False</td>\n",
       "      <td>False</td>\n",
       "      <td>False</td>\n",
       "      <td>False</td>\n",
       "      <td>False</td>\n",
       "      <td>False</td>\n",
       "    </tr>\n",
       "    <tr>\n",
       "      <th>396029</th>\n",
       "      <td>False</td>\n",
       "      <td>True</td>\n",
       "      <td>False</td>\n",
       "      <td>False</td>\n",
       "      <td>False</td>\n",
       "      <td>False</td>\n",
       "      <td>False</td>\n",
       "      <td>False</td>\n",
       "      <td>False</td>\n",
       "      <td>False</td>\n",
       "      <td>False</td>\n",
       "      <td>False</td>\n",
       "      <td>False</td>\n",
       "    </tr>\n",
       "  </tbody>\n",
       "</table>\n",
       "<p>395219 rows × 13 columns</p>\n",
       "</div>"
      ],
      "text/plain": [
       "        purpose_credit_card  purpose_debt_consolidation  purpose_educational  \\\n",
       "0                     False                       False                False   \n",
       "1                     False                        True                False   \n",
       "2                      True                       False                False   \n",
       "3                      True                       False                False   \n",
       "4                      True                       False                False   \n",
       "...                     ...                         ...                  ...   \n",
       "396025                False                        True                False   \n",
       "396026                False                        True                False   \n",
       "396027                False                        True                False   \n",
       "396028                False                        True                False   \n",
       "396029                False                        True                False   \n",
       "\n",
       "        purpose_home_improvement  purpose_house  purpose_major_purchase  \\\n",
       "0                          False          False                   False   \n",
       "1                          False          False                   False   \n",
       "2                          False          False                   False   \n",
       "3                          False          False                   False   \n",
       "4                          False          False                   False   \n",
       "...                          ...            ...                     ...   \n",
       "396025                     False          False                   False   \n",
       "396026                     False          False                   False   \n",
       "396027                     False          False                   False   \n",
       "396028                     False          False                   False   \n",
       "396029                     False          False                   False   \n",
       "\n",
       "        purpose_medical  purpose_moving  purpose_other  \\\n",
       "0                 False           False          False   \n",
       "1                 False           False          False   \n",
       "2                 False           False          False   \n",
       "3                 False           False          False   \n",
       "4                 False           False          False   \n",
       "...                 ...             ...            ...   \n",
       "396025            False           False          False   \n",
       "396026            False           False          False   \n",
       "396027            False           False          False   \n",
       "396028            False           False          False   \n",
       "396029            False           False          False   \n",
       "\n",
       "        purpose_renewable_energy  purpose_small_business  purpose_vacation  \\\n",
       "0                          False                   False              True   \n",
       "1                          False                   False             False   \n",
       "2                          False                   False             False   \n",
       "3                          False                   False             False   \n",
       "4                          False                   False             False   \n",
       "...                          ...                     ...               ...   \n",
       "396025                     False                   False             False   \n",
       "396026                     False                   False             False   \n",
       "396027                     False                   False             False   \n",
       "396028                     False                   False             False   \n",
       "396029                     False                   False             False   \n",
       "\n",
       "        purpose_wedding  \n",
       "0                 False  \n",
       "1                 False  \n",
       "2                 False  \n",
       "3                 False  \n",
       "4                 False  \n",
       "...                 ...  \n",
       "396025            False  \n",
       "396026            False  \n",
       "396027            False  \n",
       "396028            False  \n",
       "396029            False  \n",
       "\n",
       "[395219 rows x 13 columns]"
      ]
     },
     "execution_count": 92,
     "metadata": {},
     "output_type": "execute_result"
    }
   ],
   "source": [
    "dummies = pd.get_dummies(df['purpose'], prefix='purpose', drop_first=True)\n",
    "dummies"
   ]
  },
  {
   "cell_type": "code",
   "execution_count": 93,
   "metadata": {},
   "outputs": [],
   "source": [
    "df = pd.concat([df, dummies], axis=1)\n",
    "df = df.drop('purpose', axis=1)"
   ]
  },
  {
   "cell_type": "code",
   "execution_count": 94,
   "metadata": {},
   "outputs": [
    {
     "name": "stdout",
     "output_type": "stream",
     "text": [
      "Column: issue_d: 112\n",
      "Column: loan_status: 2\n",
      "Column: earliest_cr_line: 684\n",
      "Column: address: 392898\n"
     ]
    }
   ],
   "source": [
    "# Show all categorical features with the number of categories of each one\n",
    "print_categorical_features(df)"
   ]
  },
  {
   "cell_type": "markdown",
   "metadata": {},
   "source": [
    "### * Feature: address\n",
    "* Let's feature engineer a zip code column from the address in the data set. Let's create a column called 'zip_code' that extracts the zip code from the address column."
   ]
  },
  {
   "cell_type": "code",
   "execution_count": 95,
   "metadata": {},
   "outputs": [
    {
     "data": {
      "text/plain": [
       "0              0174 Michelle Gateway\\nMendozaberg, OK 22690\n",
       "1           1076 Carney Fort Apt. 347\\nLoganmouth, SD 05113\n",
       "2           87025 Mark Dale Apt. 269\\nNew Sabrina, WV 05113\n",
       "3                     823 Reid Ford\\nDelacruzside, MA 00813\n",
       "4                      679 Luna Roads\\nGreggshire, VA 11650\n",
       "                                ...                        \n",
       "396025       12951 Williams Crossing\\nJohnnyville, DC 30723\n",
       "396026    0114 Fowler Field Suite 028\\nRachelborough, LA...\n",
       "396027     953 Matthew Points Suite 414\\nReedfort, NY 70466\n",
       "396028    7843 Blake Freeway Apt. 229\\nNew Michael, FL 2...\n",
       "396029          787 Michelle Causeway\\nBriannaton, AR 48052\n",
       "Name: address, Length: 395219, dtype: object"
      ]
     },
     "execution_count": 95,
     "metadata": {},
     "output_type": "execute_result"
    }
   ],
   "source": [
    "df['address']"
   ]
  },
  {
   "cell_type": "code",
   "execution_count": 96,
   "metadata": {},
   "outputs": [],
   "source": [
    "df['zip_code'] = df['address'].str[-5:]"
   ]
  },
  {
   "cell_type": "code",
   "execution_count": 97,
   "metadata": {},
   "outputs": [
    {
     "data": {
      "text/plain": [
       "0         22690\n",
       "1         05113\n",
       "2         05113\n",
       "3         00813\n",
       "4         11650\n",
       "          ...  \n",
       "396025    30723\n",
       "396026    05113\n",
       "396027    70466\n",
       "396028    29597\n",
       "396029    48052\n",
       "Name: zip_code, Length: 395219, dtype: object"
      ]
     },
     "execution_count": 97,
     "metadata": {},
     "output_type": "execute_result"
    }
   ],
   "source": [
    "df['zip_code']"
   ]
  },
  {
   "cell_type": "code",
   "execution_count": 98,
   "metadata": {},
   "outputs": [
    {
     "data": {
      "text/html": [
       "<div>\n",
       "<style scoped>\n",
       "    .dataframe tbody tr th:only-of-type {\n",
       "        vertical-align: middle;\n",
       "    }\n",
       "\n",
       "    .dataframe tbody tr th {\n",
       "        vertical-align: top;\n",
       "    }\n",
       "\n",
       "    .dataframe thead th {\n",
       "        text-align: right;\n",
       "    }\n",
       "</style>\n",
       "<table border=\"1\" class=\"dataframe\">\n",
       "  <thead>\n",
       "    <tr style=\"text-align: right;\">\n",
       "      <th></th>\n",
       "      <th>zip_05113</th>\n",
       "      <th>zip_11650</th>\n",
       "      <th>zip_22690</th>\n",
       "      <th>zip_29597</th>\n",
       "      <th>zip_30723</th>\n",
       "      <th>zip_48052</th>\n",
       "      <th>zip_70466</th>\n",
       "      <th>zip_86630</th>\n",
       "      <th>zip_93700</th>\n",
       "    </tr>\n",
       "  </thead>\n",
       "  <tbody>\n",
       "    <tr>\n",
       "      <th>0</th>\n",
       "      <td>False</td>\n",
       "      <td>False</td>\n",
       "      <td>True</td>\n",
       "      <td>False</td>\n",
       "      <td>False</td>\n",
       "      <td>False</td>\n",
       "      <td>False</td>\n",
       "      <td>False</td>\n",
       "      <td>False</td>\n",
       "    </tr>\n",
       "    <tr>\n",
       "      <th>1</th>\n",
       "      <td>True</td>\n",
       "      <td>False</td>\n",
       "      <td>False</td>\n",
       "      <td>False</td>\n",
       "      <td>False</td>\n",
       "      <td>False</td>\n",
       "      <td>False</td>\n",
       "      <td>False</td>\n",
       "      <td>False</td>\n",
       "    </tr>\n",
       "    <tr>\n",
       "      <th>2</th>\n",
       "      <td>True</td>\n",
       "      <td>False</td>\n",
       "      <td>False</td>\n",
       "      <td>False</td>\n",
       "      <td>False</td>\n",
       "      <td>False</td>\n",
       "      <td>False</td>\n",
       "      <td>False</td>\n",
       "      <td>False</td>\n",
       "    </tr>\n",
       "    <tr>\n",
       "      <th>3</th>\n",
       "      <td>False</td>\n",
       "      <td>False</td>\n",
       "      <td>False</td>\n",
       "      <td>False</td>\n",
       "      <td>False</td>\n",
       "      <td>False</td>\n",
       "      <td>False</td>\n",
       "      <td>False</td>\n",
       "      <td>False</td>\n",
       "    </tr>\n",
       "    <tr>\n",
       "      <th>4</th>\n",
       "      <td>False</td>\n",
       "      <td>True</td>\n",
       "      <td>False</td>\n",
       "      <td>False</td>\n",
       "      <td>False</td>\n",
       "      <td>False</td>\n",
       "      <td>False</td>\n",
       "      <td>False</td>\n",
       "      <td>False</td>\n",
       "    </tr>\n",
       "    <tr>\n",
       "      <th>...</th>\n",
       "      <td>...</td>\n",
       "      <td>...</td>\n",
       "      <td>...</td>\n",
       "      <td>...</td>\n",
       "      <td>...</td>\n",
       "      <td>...</td>\n",
       "      <td>...</td>\n",
       "      <td>...</td>\n",
       "      <td>...</td>\n",
       "    </tr>\n",
       "    <tr>\n",
       "      <th>396025</th>\n",
       "      <td>False</td>\n",
       "      <td>False</td>\n",
       "      <td>False</td>\n",
       "      <td>False</td>\n",
       "      <td>True</td>\n",
       "      <td>False</td>\n",
       "      <td>False</td>\n",
       "      <td>False</td>\n",
       "      <td>False</td>\n",
       "    </tr>\n",
       "    <tr>\n",
       "      <th>396026</th>\n",
       "      <td>True</td>\n",
       "      <td>False</td>\n",
       "      <td>False</td>\n",
       "      <td>False</td>\n",
       "      <td>False</td>\n",
       "      <td>False</td>\n",
       "      <td>False</td>\n",
       "      <td>False</td>\n",
       "      <td>False</td>\n",
       "    </tr>\n",
       "    <tr>\n",
       "      <th>396027</th>\n",
       "      <td>False</td>\n",
       "      <td>False</td>\n",
       "      <td>False</td>\n",
       "      <td>False</td>\n",
       "      <td>False</td>\n",
       "      <td>False</td>\n",
       "      <td>True</td>\n",
       "      <td>False</td>\n",
       "      <td>False</td>\n",
       "    </tr>\n",
       "    <tr>\n",
       "      <th>396028</th>\n",
       "      <td>False</td>\n",
       "      <td>False</td>\n",
       "      <td>False</td>\n",
       "      <td>True</td>\n",
       "      <td>False</td>\n",
       "      <td>False</td>\n",
       "      <td>False</td>\n",
       "      <td>False</td>\n",
       "      <td>False</td>\n",
       "    </tr>\n",
       "    <tr>\n",
       "      <th>396029</th>\n",
       "      <td>False</td>\n",
       "      <td>False</td>\n",
       "      <td>False</td>\n",
       "      <td>False</td>\n",
       "      <td>False</td>\n",
       "      <td>True</td>\n",
       "      <td>False</td>\n",
       "      <td>False</td>\n",
       "      <td>False</td>\n",
       "    </tr>\n",
       "  </tbody>\n",
       "</table>\n",
       "<p>395219 rows × 9 columns</p>\n",
       "</div>"
      ],
      "text/plain": [
       "        zip_05113  zip_11650  zip_22690  zip_29597  zip_30723  zip_48052  \\\n",
       "0           False      False       True      False      False      False   \n",
       "1            True      False      False      False      False      False   \n",
       "2            True      False      False      False      False      False   \n",
       "3           False      False      False      False      False      False   \n",
       "4           False       True      False      False      False      False   \n",
       "...           ...        ...        ...        ...        ...        ...   \n",
       "396025      False      False      False      False       True      False   \n",
       "396026       True      False      False      False      False      False   \n",
       "396027      False      False      False      False      False      False   \n",
       "396028      False      False      False       True      False      False   \n",
       "396029      False      False      False      False      False       True   \n",
       "\n",
       "        zip_70466  zip_86630  zip_93700  \n",
       "0           False      False      False  \n",
       "1           False      False      False  \n",
       "2           False      False      False  \n",
       "3           False      False      False  \n",
       "4           False      False      False  \n",
       "...           ...        ...        ...  \n",
       "396025      False      False      False  \n",
       "396026      False      False      False  \n",
       "396027       True      False      False  \n",
       "396028      False      False      False  \n",
       "396029      False      False      False  \n",
       "\n",
       "[395219 rows x 9 columns]"
      ]
     },
     "execution_count": 98,
     "metadata": {},
     "output_type": "execute_result"
    }
   ],
   "source": [
    "dummies = pd.get_dummies(df['zip_code'], prefix='zip', drop_first=True)\n",
    "dummies"
   ]
  },
  {
   "cell_type": "code",
   "execution_count": 99,
   "metadata": {},
   "outputs": [],
   "source": [
    "df = pd.concat([df, dummies], axis=1)\n",
    "df = df.drop('address', axis=1)\n",
    "df = df.drop('zip_code', axis=1)"
   ]
  },
  {
   "cell_type": "code",
   "execution_count": 100,
   "metadata": {},
   "outputs": [
    {
     "name": "stdout",
     "output_type": "stream",
     "text": [
      "Column: issue_d: 112\n",
      "Column: loan_status: 2\n",
      "Column: earliest_cr_line: 684\n"
     ]
    }
   ],
   "source": [
    "# Show all categorical features with the number of categories of each one\n",
    "print_categorical_features(df)"
   ]
  },
  {
   "cell_type": "markdown",
   "metadata": {},
   "source": [
    "### * Feature: issue_d "
   ]
  },
  {
   "cell_type": "code",
   "execution_count": 101,
   "metadata": {},
   "outputs": [
    {
     "name": "stdout",
     "output_type": "stream",
     "text": [
      "The month which the loan was funded\n"
     ]
    },
    {
     "data": {
      "text/plain": [
       "<AxesSubplot:xlabel='issue_d'>"
      ]
     },
     "execution_count": 101,
     "metadata": {},
     "output_type": "execute_result"
    },
    {
     "data": {
      "image/png": "[encoded data removed]",
      "text/plain": [
       "<Figure size 432x288 with 1 Axes>"
      ]
     },
     "metadata": {
      "needs_background": "light"
     },
     "output_type": "display_data"
    }
   ],
   "source": [
    "feat_info('issue_d')\n",
    "\n",
    "sns.boxplot(data=df, x='issue_d', hue='loan_repaid')"
   ]
  },
  {
   "cell_type": "markdown",
   "metadata": {},
   "source": [
    "* It seems to be a data that is not affecting much the outcome. We don't undertand it well. So, for now we are going to drop it."
   ]
  },
  {
   "cell_type": "code",
   "execution_count": 102,
   "metadata": {},
   "outputs": [],
   "source": [
    "df.drop('issue_d', axis=1, inplace=True)"
   ]
  },
  {
   "cell_type": "markdown",
   "metadata": {},
   "source": [
    "### earliest_cr_line\n",
    "* Here we extract the year from this feature using a .apply function, then convert it to a numeric feature. This new data goes to a feature column called 'earliest_cr_year'. Then we drop the earliest_cr_line feature.**"
   ]
  },
  {
   "cell_type": "code",
   "execution_count": 103,
   "metadata": {},
   "outputs": [],
   "source": [
    "df['earliest_cr_line'] = df['earliest_cr_line'].str[-4:]"
   ]
  },
  {
   "cell_type": "code",
   "execution_count": 104,
   "metadata": {},
   "outputs": [
    {
     "data": {
      "text/plain": [
       "0         1990\n",
       "1         2004\n",
       "2         2007\n",
       "3         2006\n",
       "4         1999\n",
       "          ... \n",
       "396025    2004\n",
       "396026    2006\n",
       "396027    1997\n",
       "396028    1990\n",
       "396029    1998\n",
       "Name: earliest_cr_line, Length: 395219, dtype: object"
      ]
     },
     "execution_count": 104,
     "metadata": {},
     "output_type": "execute_result"
    }
   ],
   "source": [
    "df['earliest_cr_line'] "
   ]
  },
  {
   "cell_type": "code",
   "execution_count": 105,
   "metadata": {},
   "outputs": [],
   "source": [
    "df['earliest_cr_year'] = df['earliest_cr_line'].astype(int)"
   ]
  },
  {
   "cell_type": "code",
   "execution_count": 106,
   "metadata": {},
   "outputs": [],
   "source": [
    "df.drop('earliest_cr_line', axis=1, inplace=True)"
   ]
  },
  {
   "cell_type": "code",
   "execution_count": 107,
   "metadata": {},
   "outputs": [
    {
     "data": {
      "text/plain": [
       "0         1990\n",
       "1         2004\n",
       "2         2007\n",
       "3         2006\n",
       "4         1999\n",
       "          ... \n",
       "396025    2004\n",
       "396026    2006\n",
       "396027    1997\n",
       "396028    1990\n",
       "396029    1998\n",
       "Name: earliest_cr_year, Length: 395219, dtype: int64"
      ]
     },
     "execution_count": 107,
     "metadata": {},
     "output_type": "execute_result"
    }
   ],
   "source": [
    "df['earliest_cr_year']"
   ]
  },
  {
   "cell_type": "code",
   "execution_count": 108,
   "metadata": {},
   "outputs": [
    {
     "name": "stdout",
     "output_type": "stream",
     "text": [
      "Column: loan_status: 2\n"
     ]
    }
   ],
   "source": [
    "# Show all categorical features with the number of categories of each one\n",
    "print_categorical_features(df)"
   ]
  },
  {
   "cell_type": "code",
   "execution_count": 109,
   "metadata": {},
   "outputs": [],
   "source": [
    "# Drop the orignal loan_status since we already have loan_repaid\n",
    "df = df.drop('loan_status',axis=1)"
   ]
  },
  {
   "cell_type": "markdown",
   "metadata": {},
   "source": [
    "* We are now free of categorical values"
   ]
  },
  {
   "cell_type": "markdown",
   "metadata": {},
   "source": [
    "----\n",
    "----\n",
    "\n",
    "# OPTIONAL\n",
    "\n",
    "## Grabbing a Sample for Training Time\n",
    "\n",
    "### OPTIONAL: Use .sample() to grab a sample of the 490k+ entries to save time on training. Highly recommended for lower RAM computers or if you are not using GPU.\n",
    "\n",
    "----\n",
    "----"
   ]
  },
  {
   "cell_type": "code",
   "execution_count": 110,
   "metadata": {},
   "outputs": [
    {
     "name": "stdout",
     "output_type": "stream",
     "text": [
      "3952\n"
     ]
    }
   ],
   "source": [
    "# WACHOUT!: This instruction is destructive and if we run it several times it shrinks the dataframe more & more.\n",
    "df2 = df\n",
    "df = df2.sample(frac=0.01,random_state=101)\n",
    "print(len(df))"
   ]
  },
  {
   "cell_type": "markdown",
   "metadata": {},
   "source": [
    "---\n",
    "---\n",
    "# Section 3: Training the Deep Learning Model\n",
    "\n",
    "**Section Goals: Train and Test Data Split, Use of Tensorflow Libraries to create a Deep Learning Model.**\n",
    "\n"
   ]
  },
  {
   "cell_type": "markdown",
   "metadata": {},
   "source": [
    "## Train Test Split"
   ]
  },
  {
   "cell_type": "markdown",
   "metadata": {},
   "source": [
    "* Create the train test sets"
   ]
  },
  {
   "cell_type": "code",
   "execution_count": 111,
   "metadata": {},
   "outputs": [],
   "source": [
    "from sklearn.model_selection import train_test_split"
   ]
  },
  {
   "cell_type": "code",
   "execution_count": 112,
   "metadata": {},
   "outputs": [],
   "source": [
    "X = df.drop('loan_repaid', axis=1).values\n",
    "y = df['loan_repaid'].values\n"
   ]
  },
  {
   "cell_type": "code",
   "execution_count": 113,
   "metadata": {},
   "outputs": [
    {
     "data": {
      "text/plain": [
       "((3952, 79), (3952,))"
      ]
     },
     "execution_count": 113,
     "metadata": {},
     "output_type": "execute_result"
    }
   ],
   "source": [
    "X.shape, y.shape"
   ]
  },
  {
   "cell_type": "code",
   "execution_count": 114,
   "metadata": {},
   "outputs": [],
   "source": [
    "X_train, X_test, y_train, y_test = train_test_split(X, y, test_size=0.2, random_state=101)"
   ]
  },
  {
   "cell_type": "code",
   "execution_count": 115,
   "metadata": {},
   "outputs": [],
   "source": [
    "from sklearn.preprocessing import MinMaxScaler, StandardScaler\n",
    "from sklearn.pipeline import Pipeline"
   ]
  },
  {
   "cell_type": "markdown",
   "metadata": {},
   "source": [
    "## Normalizing the Data\n",
    "\n",
    "* Uss of MinMaxScaler to normalize the feature data X_train and X_test. "
   ]
  },
  {
   "cell_type": "code",
   "execution_count": 116,
   "metadata": {},
   "outputs": [],
   "source": [
    "scaler = MinMaxScaler()\n",
    "X_train = scaler.fit_transform(X_train) \n",
    "X_test = scaler.fit_transform(X_test) "
   ]
  },
  {
   "cell_type": "markdown",
   "metadata": {},
   "source": [
    "## Training the Deep Learning Model\n",
    "\n",
    "**TASK: Run the cell below to import the necessary Keras functions.**"
   ]
  },
  {
   "cell_type": "code",
   "execution_count": 117,
   "metadata": {},
   "outputs": [],
   "source": [
    "import tensorflow as tf\n",
    "from tensorflow.keras.models import Sequential\n",
    "from tensorflow.keras.layers import Dense, Dropout\n",
    "from tensorflow.keras.callbacks import EarlyStopping\n",
    "\n"
   ]
  },
  {
   "cell_type": "code",
   "execution_count": 118,
   "metadata": {},
   "outputs": [
    {
     "data": {
      "text/plain": [
       "(3161, 79)"
      ]
     },
     "execution_count": 118,
     "metadata": {},
     "output_type": "execute_result"
    }
   ],
   "source": [
    "X_train.shape"
   ]
  },
  {
   "cell_type": "markdown",
   "metadata": {},
   "source": [
    "* MODEL 1: model\n",
    "* Epochs: 200\n",
    "* Training with a configuration \n",
    "  - 158 - relu, \n",
    "  -  79 - relu\n",
    "  -   1 - sigmoid\n",
    "* No Early Stoping\n",
    "* No Dropout"
   ]
  },
  {
   "cell_type": "code",
   "execution_count": 119,
   "metadata": {},
   "outputs": [],
   "source": [
    "model = Sequential()\n",
    "\n",
    "model.add(Dense(79,activation='relu'))\n",
    "model.add(Dense(40,activation='relu'))\n",
    "model.add(Dense(1, 'sigmoid'))\n",
    "\n",
    "\n",
    "model.compile(loss='binary_crossentropy', optimizer='adam')\n"
   ]
  },
  {
   "cell_type": "code",
   "execution_count": 120,
   "metadata": {},
   "outputs": [
    {
     "name": "stdout",
     "output_type": "stream",
     "text": [
      "Epoch 1/200\n"
     ]
    },
    {
     "name": "stdout",
     "output_type": "stream",
     "text": [
      "99/99 [==============================] - 1s 4ms/step - loss: 0.4863 - val_loss: 0.3981\n",
      "Epoch 2/200\n",
      "99/99 [==============================] - 0s 2ms/step - loss: 0.3635 - val_loss: 0.3108\n",
      "Epoch 3/200\n",
      "99/99 [==============================] - 0s 2ms/step - loss: 0.3063 - val_loss: 0.2938\n",
      "Epoch 4/200\n",
      "99/99 [==============================] - 0s 2ms/step - loss: 0.2827 - val_loss: 0.2764\n",
      "Epoch 5/200\n",
      "99/99 [==============================] - 0s 2ms/step - loss: 0.2734 - val_loss: 0.2802\n",
      "Epoch 6/200\n",
      "99/99 [==============================] - 0s 2ms/step - loss: 0.2629 - val_loss: 0.2829\n",
      "Epoch 7/200\n",
      "99/99 [==============================] - 0s 2ms/step - loss: 0.2551 - val_loss: 0.2731\n",
      "Epoch 8/200\n",
      "99/99 [==============================] - 0s 2ms/step - loss: 0.2472 - val_loss: 0.2968\n",
      "Epoch 9/200\n",
      "99/99 [==============================] - 0s 2ms/step - loss: 0.2395 - val_loss: 0.2673\n",
      "Epoch 10/200\n",
      "99/99 [==============================] - 0s 2ms/step - loss: 0.2270 - val_loss: 0.2658\n",
      "Epoch 11/200\n",
      "99/99 [==============================] - 0s 2ms/step - loss: 0.2209 - val_loss: 0.2748\n",
      "Epoch 12/200\n",
      "99/99 [==============================] - 0s 2ms/step - loss: 0.2111 - val_loss: 0.3010\n",
      "Epoch 13/200\n",
      "99/99 [==============================] - 0s 2ms/step - loss: 0.2038 - val_loss: 0.2721\n",
      "Epoch 14/200\n",
      "99/99 [==============================] - 0s 3ms/step - loss: 0.1965 - val_loss: 0.2758\n",
      "Epoch 15/200\n",
      "99/99 [==============================] - 0s 2ms/step - loss: 0.1994 - val_loss: 0.2801\n",
      "Epoch 16/200\n",
      "99/99 [==============================] - 0s 2ms/step - loss: 0.1820 - val_loss: 0.2815\n",
      "Epoch 17/200\n",
      "99/99 [==============================] - 0s 2ms/step - loss: 0.1741 - val_loss: 0.2934\n",
      "Epoch 18/200\n",
      "99/99 [==============================] - 0s 2ms/step - loss: 0.1706 - val_loss: 0.2797\n",
      "Epoch 19/200\n",
      "99/99 [==============================] - 0s 2ms/step - loss: 0.1626 - val_loss: 0.2947\n",
      "Epoch 20/200\n",
      "99/99 [==============================] - 0s 2ms/step - loss: 0.1563 - val_loss: 0.3057\n",
      "Epoch 21/200\n",
      "99/99 [==============================] - 0s 2ms/step - loss: 0.1479 - val_loss: 0.2996\n",
      "Epoch 22/200\n",
      "99/99 [==============================] - 0s 2ms/step - loss: 0.1428 - val_loss: 0.3164\n",
      "Epoch 23/200\n",
      "99/99 [==============================] - 0s 2ms/step - loss: 0.1383 - val_loss: 0.3088\n",
      "Epoch 24/200\n",
      "99/99 [==============================] - 0s 3ms/step - loss: 0.1412 - val_loss: 0.3177\n",
      "Epoch 25/200\n",
      "99/99 [==============================] - 0s 2ms/step - loss: 0.1344 - val_loss: 0.3469\n",
      "Epoch 26/200\n",
      "99/99 [==============================] - 0s 2ms/step - loss: 0.1217 - val_loss: 0.3374\n",
      "Epoch 27/200\n",
      "99/99 [==============================] - 0s 2ms/step - loss: 0.1157 - val_loss: 0.3473\n",
      "Epoch 28/200\n",
      "99/99 [==============================] - 0s 2ms/step - loss: 0.1126 - val_loss: 0.3332\n",
      "Epoch 29/200\n",
      "99/99 [==============================] - 0s 2ms/step - loss: 0.1056 - val_loss: 0.3507\n",
      "Epoch 30/200\n",
      "99/99 [==============================] - 0s 2ms/step - loss: 0.1071 - val_loss: 0.3615\n",
      "Epoch 31/200\n",
      "99/99 [==============================] - 0s 2ms/step - loss: 0.1022 - val_loss: 0.3595\n",
      "Epoch 32/200\n",
      "99/99 [==============================] - 0s 2ms/step - loss: 0.0945 - val_loss: 0.3770\n",
      "Epoch 33/200\n",
      "99/99 [==============================] - 0s 2ms/step - loss: 0.0945 - val_loss: 0.3953\n",
      "Epoch 34/200\n",
      "99/99 [==============================] - 0s 2ms/step - loss: 0.0893 - val_loss: 0.3823\n",
      "Epoch 35/200\n",
      "99/99 [==============================] - 0s 2ms/step - loss: 0.0803 - val_loss: 0.4202\n",
      "Epoch 36/200\n",
      "99/99 [==============================] - 0s 2ms/step - loss: 0.0816 - val_loss: 0.4839\n",
      "Epoch 37/200\n",
      "99/99 [==============================] - 0s 2ms/step - loss: 0.0739 - val_loss: 0.4302\n",
      "Epoch 38/200\n",
      "99/99 [==============================] - 0s 2ms/step - loss: 0.0727 - val_loss: 0.4492\n",
      "Epoch 39/200\n",
      "99/99 [==============================] - 0s 3ms/step - loss: 0.0682 - val_loss: 0.5217\n",
      "Epoch 40/200\n",
      "99/99 [==============================] - 0s 2ms/step - loss: 0.0685 - val_loss: 0.4964\n",
      "Epoch 41/200\n",
      "99/99 [==============================] - 0s 2ms/step - loss: 0.0610 - val_loss: 0.4883\n",
      "Epoch 42/200\n",
      "99/99 [==============================] - 0s 2ms/step - loss: 0.0576 - val_loss: 0.5112\n",
      "Epoch 43/200\n",
      "99/99 [==============================] - 0s 2ms/step - loss: 0.0655 - val_loss: 0.4975\n",
      "Epoch 44/200\n",
      "99/99 [==============================] - 0s 2ms/step - loss: 0.0560 - val_loss: 0.5774\n",
      "Epoch 45/200\n",
      "99/99 [==============================] - 0s 2ms/step - loss: 0.0536 - val_loss: 0.5156\n",
      "Epoch 46/200\n",
      "99/99 [==============================] - 0s 2ms/step - loss: 0.0544 - val_loss: 0.5560\n",
      "Epoch 47/200\n",
      "99/99 [==============================] - 0s 2ms/step - loss: 0.0501 - val_loss: 0.5774\n",
      "Epoch 48/200\n",
      "99/99 [==============================] - 0s 2ms/step - loss: 0.0467 - val_loss: 0.5533\n",
      "Epoch 49/200\n",
      "99/99 [==============================] - 0s 2ms/step - loss: 0.0440 - val_loss: 0.5706\n",
      "Epoch 50/200\n",
      "99/99 [==============================] - 0s 2ms/step - loss: 0.0390 - val_loss: 0.5821\n",
      "Epoch 51/200\n",
      "99/99 [==============================] - 0s 2ms/step - loss: 0.0372 - val_loss: 0.6048\n",
      "Epoch 52/200\n",
      "99/99 [==============================] - 0s 3ms/step - loss: 0.0341 - val_loss: 0.6147\n",
      "Epoch 53/200\n",
      "99/99 [==============================] - 0s 2ms/step - loss: 0.0331 - val_loss: 0.6661\n",
      "Epoch 54/200\n",
      "99/99 [==============================] - 0s 2ms/step - loss: 0.0409 - val_loss: 0.6915\n",
      "Epoch 55/200\n",
      "99/99 [==============================] - 0s 2ms/step - loss: 0.0375 - val_loss: 0.6458\n",
      "Epoch 56/200\n",
      "99/99 [==============================] - 0s 3ms/step - loss: 0.0333 - val_loss: 0.6814\n",
      "Epoch 57/200\n",
      "99/99 [==============================] - 0s 3ms/step - loss: 0.0289 - val_loss: 0.6841\n",
      "Epoch 58/200\n",
      "99/99 [==============================] - 0s 3ms/step - loss: 0.0273 - val_loss: 0.7188\n",
      "Epoch 59/200\n",
      "99/99 [==============================] - 0s 3ms/step - loss: 0.0272 - val_loss: 0.7201\n",
      "Epoch 60/200\n",
      "99/99 [==============================] - 0s 2ms/step - loss: 0.0278 - val_loss: 0.7311\n",
      "Epoch 61/200\n",
      "99/99 [==============================] - 0s 2ms/step - loss: 0.0242 - val_loss: 0.7324\n",
      "Epoch 62/200\n",
      "99/99 [==============================] - 0s 3ms/step - loss: 0.0257 - val_loss: 0.7349\n",
      "Epoch 63/200\n",
      "99/99 [==============================] - 0s 2ms/step - loss: 0.0198 - val_loss: 0.7592\n",
      "Epoch 64/200\n",
      "99/99 [==============================] - 0s 2ms/step - loss: 0.0239 - val_loss: 0.7638\n",
      "Epoch 65/200\n",
      "99/99 [==============================] - 0s 2ms/step - loss: 0.0274 - val_loss: 0.7667\n",
      "Epoch 66/200\n",
      "99/99 [==============================] - 0s 2ms/step - loss: 0.0240 - val_loss: 0.8074\n",
      "Epoch 67/200\n",
      "99/99 [==============================] - 0s 2ms/step - loss: 0.0229 - val_loss: 0.7835\n",
      "Epoch 68/200\n",
      "99/99 [==============================] - 0s 2ms/step - loss: 0.0224 - val_loss: 0.8112\n",
      "Epoch 69/200\n",
      "99/99 [==============================] - 0s 3ms/step - loss: 0.0241 - val_loss: 0.8329\n",
      "Epoch 70/200\n",
      "99/99 [==============================] - 0s 2ms/step - loss: 0.0169 - val_loss: 0.8863\n",
      "Epoch 71/200\n",
      "99/99 [==============================] - 0s 2ms/step - loss: 0.0178 - val_loss: 0.8648\n",
      "Epoch 72/200\n",
      "99/99 [==============================] - 0s 2ms/step - loss: 0.0158 - val_loss: 0.8827\n",
      "Epoch 73/200\n",
      "99/99 [==============================] - 0s 2ms/step - loss: 0.0156 - val_loss: 0.8691\n",
      "Epoch 74/200\n",
      "99/99 [==============================] - 0s 2ms/step - loss: 0.0179 - val_loss: 0.8907\n",
      "Epoch 75/200\n",
      "99/99 [==============================] - 0s 2ms/step - loss: 0.0171 - val_loss: 0.8687\n",
      "Epoch 76/200\n",
      "99/99 [==============================] - 0s 3ms/step - loss: 0.0152 - val_loss: 0.9062\n",
      "Epoch 77/200\n",
      "99/99 [==============================] - 0s 2ms/step - loss: 0.0162 - val_loss: 0.9283\n",
      "Epoch 78/200\n",
      "99/99 [==============================] - 0s 2ms/step - loss: 0.0124 - val_loss: 0.9286\n",
      "Epoch 79/200\n",
      "99/99 [==============================] - 0s 2ms/step - loss: 0.0158 - val_loss: 0.9422\n",
      "Epoch 80/200\n",
      "99/99 [==============================] - 0s 2ms/step - loss: 0.0168 - val_loss: 1.0129\n",
      "Epoch 81/200\n",
      "99/99 [==============================] - 0s 2ms/step - loss: 0.0162 - val_loss: 0.9527\n",
      "Epoch 82/200\n",
      "99/99 [==============================] - 0s 2ms/step - loss: 0.0168 - val_loss: 0.9853\n",
      "Epoch 83/200\n",
      "99/99 [==============================] - 0s 4ms/step - loss: 0.0133 - val_loss: 1.0102\n",
      "Epoch 84/200\n",
      "99/99 [==============================] - 0s 2ms/step - loss: 0.0140 - val_loss: 0.9863\n",
      "Epoch 85/200\n",
      "99/99 [==============================] - 0s 2ms/step - loss: 0.0229 - val_loss: 1.0464\n",
      "Epoch 86/200\n",
      "99/99 [==============================] - 0s 2ms/step - loss: 0.0133 - val_loss: 1.0203\n",
      "Epoch 87/200\n",
      "99/99 [==============================] - 0s 3ms/step - loss: 0.0094 - val_loss: 1.0299\n",
      "Epoch 88/200\n",
      "99/99 [==============================] - 0s 2ms/step - loss: 0.0125 - val_loss: 1.0341\n",
      "Epoch 89/200\n",
      "99/99 [==============================] - 0s 2ms/step - loss: 0.0059 - val_loss: 1.0582\n",
      "Epoch 90/200\n",
      "99/99 [==============================] - 0s 2ms/step - loss: 0.0170 - val_loss: 1.0721\n",
      "Epoch 91/200\n",
      "99/99 [==============================] - 0s 3ms/step - loss: 0.0084 - val_loss: 1.0600\n",
      "Epoch 92/200\n",
      "99/99 [==============================] - 0s 2ms/step - loss: 0.0114 - val_loss: 1.1624\n",
      "Epoch 93/200\n",
      "99/99 [==============================] - 0s 2ms/step - loss: 0.0122 - val_loss: 1.1242\n",
      "Epoch 94/200\n",
      "99/99 [==============================] - 0s 2ms/step - loss: 0.0142 - val_loss: 1.1356\n",
      "Epoch 95/200\n",
      "99/99 [==============================] - 0s 2ms/step - loss: 0.0106 - val_loss: 1.0963\n",
      "Epoch 96/200\n",
      "99/99 [==============================] - 0s 3ms/step - loss: 0.0154 - val_loss: 1.1035\n",
      "Epoch 97/200\n",
      "99/99 [==============================] - 0s 2ms/step - loss: 0.0495 - val_loss: 1.1049\n",
      "Epoch 98/200\n",
      "99/99 [==============================] - 0s 2ms/step - loss: 0.0179 - val_loss: 1.0931\n",
      "Epoch 99/200\n",
      "99/99 [==============================] - 0s 2ms/step - loss: 0.0195 - val_loss: 1.0858\n",
      "Epoch 100/200\n",
      "99/99 [==============================] - 0s 2ms/step - loss: 0.0102 - val_loss: 1.1094\n",
      "Epoch 101/200\n",
      "99/99 [==============================] - 0s 2ms/step - loss: 0.0069 - val_loss: 1.0929\n",
      "Epoch 102/200\n",
      "99/99 [==============================] - 0s 2ms/step - loss: 0.0041 - val_loss: 1.1711\n",
      "Epoch 103/200\n",
      "99/99 [==============================] - 0s 2ms/step - loss: 0.0051 - val_loss: 1.1822\n",
      "Epoch 104/200\n",
      "99/99 [==============================] - 0s 2ms/step - loss: 0.0091 - val_loss: 1.0907\n",
      "Epoch 105/200\n",
      "99/99 [==============================] - 0s 2ms/step - loss: 0.0077 - val_loss: 1.1392\n",
      "Epoch 106/200\n",
      "99/99 [==============================] - 0s 2ms/step - loss: 0.0044 - val_loss: 1.1693\n",
      "Epoch 107/200\n",
      "99/99 [==============================] - 0s 3ms/step - loss: 0.0060 - val_loss: 1.1717\n",
      "Epoch 108/200\n",
      "99/99 [==============================] - 0s 2ms/step - loss: 0.0037 - val_loss: 1.1951\n",
      "Epoch 109/200\n",
      "99/99 [==============================] - 0s 2ms/step - loss: 0.0041 - val_loss: 1.1884\n",
      "Epoch 110/200\n",
      "99/99 [==============================] - 0s 2ms/step - loss: 0.0043 - val_loss: 1.1746\n",
      "Epoch 111/200\n",
      "99/99 [==============================] - 0s 2ms/step - loss: 0.0040 - val_loss: 1.1899\n",
      "Epoch 112/200\n",
      "99/99 [==============================] - 0s 2ms/step - loss: 0.0058 - val_loss: 1.3220\n",
      "Epoch 113/200\n",
      "99/99 [==============================] - 0s 2ms/step - loss: 0.0873 - val_loss: 1.0886\n",
      "Epoch 114/200\n",
      "99/99 [==============================] - 0s 2ms/step - loss: 0.0326 - val_loss: 1.1132\n",
      "Epoch 115/200\n",
      "99/99 [==============================] - 0s 2ms/step - loss: 0.0090 - val_loss: 1.1321\n",
      "Epoch 116/200\n",
      "99/99 [==============================] - 0s 2ms/step - loss: 0.0035 - val_loss: 1.1473\n",
      "Epoch 117/200\n",
      "99/99 [==============================] - 0s 3ms/step - loss: 0.0030 - val_loss: 1.1463\n",
      "Epoch 118/200\n",
      "99/99 [==============================] - 0s 2ms/step - loss: 0.0026 - val_loss: 1.1531\n",
      "Epoch 119/200\n",
      "99/99 [==============================] - 0s 2ms/step - loss: 0.0048 - val_loss: 1.1796\n",
      "Epoch 120/200\n",
      "99/99 [==============================] - 0s 2ms/step - loss: 0.0038 - val_loss: 1.1706\n",
      "Epoch 121/200\n",
      "99/99 [==============================] - 0s 2ms/step - loss: 0.0022 - val_loss: 1.2367\n",
      "Epoch 122/200\n",
      "99/99 [==============================] - 0s 2ms/step - loss: 0.0018 - val_loss: 1.2021\n",
      "Epoch 123/200\n",
      "99/99 [==============================] - 0s 2ms/step - loss: 0.0021 - val_loss: 1.2396\n",
      "Epoch 124/200\n",
      "99/99 [==============================] - 0s 2ms/step - loss: 0.0026 - val_loss: 1.2113\n",
      "Epoch 125/200\n",
      "99/99 [==============================] - 0s 2ms/step - loss: 0.0038 - val_loss: 1.3123\n",
      "Epoch 126/200\n",
      "99/99 [==============================] - 0s 2ms/step - loss: 0.0071 - val_loss: 1.2877\n",
      "Epoch 127/200\n",
      "99/99 [==============================] - 0s 2ms/step - loss: 0.0038 - val_loss: 1.2470\n",
      "Epoch 128/200\n",
      "99/99 [==============================] - 0s 3ms/step - loss: 0.0077 - val_loss: 1.3449\n",
      "Epoch 129/200\n",
      "99/99 [==============================] - 0s 2ms/step - loss: 0.0118 - val_loss: 1.2815\n",
      "Epoch 130/200\n",
      "99/99 [==============================] - 0s 2ms/step - loss: 0.0165 - val_loss: 1.3585\n",
      "Epoch 131/200\n",
      "99/99 [==============================] - 0s 2ms/step - loss: 0.0321 - val_loss: 1.2173\n",
      "Epoch 132/200\n",
      "99/99 [==============================] - 0s 2ms/step - loss: 0.0132 - val_loss: 1.2529\n",
      "Epoch 133/200\n",
      "99/99 [==============================] - 0s 2ms/step - loss: 0.0118 - val_loss: 1.2605\n",
      "Epoch 134/200\n",
      "99/99 [==============================] - 0s 2ms/step - loss: 0.0037 - val_loss: 1.2951\n",
      "Epoch 135/200\n",
      "99/99 [==============================] - 0s 2ms/step - loss: 0.0025 - val_loss: 1.2451\n",
      "Epoch 136/200\n",
      "99/99 [==============================] - 0s 2ms/step - loss: 0.0036 - val_loss: 1.2853\n",
      "Epoch 137/200\n",
      "99/99 [==============================] - 0s 3ms/step - loss: 0.0024 - val_loss: 1.3100\n",
      "Epoch 138/200\n",
      "99/99 [==============================] - 0s 2ms/step - loss: 0.0012 - val_loss: 1.2883\n",
      "Epoch 139/200\n",
      "99/99 [==============================] - 0s 2ms/step - loss: 8.8875e-04 - val_loss: 1.3038\n",
      "Epoch 140/200\n",
      "99/99 [==============================] - 0s 2ms/step - loss: 8.7894e-04 - val_loss: 1.3026\n",
      "Epoch 141/200\n",
      "99/99 [==============================] - 0s 2ms/step - loss: 0.0011 - val_loss: 1.3105\n",
      "Epoch 142/200\n",
      "99/99 [==============================] - 0s 2ms/step - loss: 0.0057 - val_loss: 1.4517\n",
      "Epoch 143/200\n",
      "99/99 [==============================] - 0s 2ms/step - loss: 0.0316 - val_loss: 1.3760\n",
      "Epoch 144/200\n",
      "99/99 [==============================] - 0s 2ms/step - loss: 0.0275 - val_loss: 1.3352\n",
      "Epoch 145/200\n",
      "99/99 [==============================] - 0s 2ms/step - loss: 0.0193 - val_loss: 1.3304\n",
      "Epoch 146/200\n",
      "99/99 [==============================] - 0s 2ms/step - loss: 0.0094 - val_loss: 1.2784\n",
      "Epoch 147/200\n",
      "99/99 [==============================] - 0s 2ms/step - loss: 0.0027 - val_loss: 1.2780\n",
      "Epoch 148/200\n",
      "99/99 [==============================] - 0s 2ms/step - loss: 0.0018 - val_loss: 1.3035\n",
      "Epoch 149/200\n",
      "99/99 [==============================] - 0s 2ms/step - loss: 0.0034 - val_loss: 1.3664\n",
      "Epoch 150/200\n",
      "99/99 [==============================] - 0s 2ms/step - loss: 0.0021 - val_loss: 1.3139\n",
      "Epoch 151/200\n",
      "99/99 [==============================] - 0s 2ms/step - loss: 0.0028 - val_loss: 1.3279\n",
      "Epoch 152/200\n",
      "99/99 [==============================] - 0s 2ms/step - loss: 0.0095 - val_loss: 1.3447\n",
      "Epoch 153/200\n",
      "99/99 [==============================] - 0s 2ms/step - loss: 0.0065 - val_loss: 1.3668\n",
      "Epoch 154/200\n",
      "99/99 [==============================] - 0s 2ms/step - loss: 0.0092 - val_loss: 1.3385\n",
      "Epoch 155/200\n",
      "99/99 [==============================] - 0s 2ms/step - loss: 0.0065 - val_loss: 1.3505\n",
      "Epoch 156/200\n",
      "99/99 [==============================] - 0s 2ms/step - loss: 0.0050 - val_loss: 1.3754\n",
      "Epoch 157/200\n",
      "99/99 [==============================] - 0s 2ms/step - loss: 0.0027 - val_loss: 1.3755\n",
      "Epoch 158/200\n",
      "99/99 [==============================] - 0s 2ms/step - loss: 0.0058 - val_loss: 1.4227\n",
      "Epoch 159/200\n",
      "99/99 [==============================] - 0s 2ms/step - loss: 0.0118 - val_loss: 1.4066\n",
      "Epoch 160/200\n",
      "99/99 [==============================] - 0s 3ms/step - loss: 0.0263 - val_loss: 1.4120\n",
      "Epoch 161/200\n",
      "99/99 [==============================] - 0s 2ms/step - loss: 0.0081 - val_loss: 1.4624\n",
      "Epoch 162/200\n",
      "99/99 [==============================] - 0s 2ms/step - loss: 0.0107 - val_loss: 1.4065\n",
      "Epoch 163/200\n",
      "99/99 [==============================] - 0s 2ms/step - loss: 0.0051 - val_loss: 1.4385\n",
      "Epoch 164/200\n",
      "99/99 [==============================] - 0s 2ms/step - loss: 0.0031 - val_loss: 1.4111\n",
      "Epoch 165/200\n",
      "99/99 [==============================] - 0s 2ms/step - loss: 0.0036 - val_loss: 1.4332\n",
      "Epoch 166/200\n",
      "99/99 [==============================] - 0s 2ms/step - loss: 0.0039 - val_loss: 1.4442\n",
      "Epoch 167/200\n",
      "99/99 [==============================] - 0s 2ms/step - loss: 0.0019 - val_loss: 1.4157\n",
      "Epoch 168/200\n",
      "99/99 [==============================] - 0s 3ms/step - loss: 0.0031 - val_loss: 1.4547\n",
      "Epoch 169/200\n",
      "99/99 [==============================] - 0s 2ms/step - loss: 0.0057 - val_loss: 1.4354\n",
      "Epoch 170/200\n",
      "99/99 [==============================] - 0s 2ms/step - loss: 0.0035 - val_loss: 1.4762\n",
      "Epoch 171/200\n",
      "99/99 [==============================] - 0s 2ms/step - loss: 0.0033 - val_loss: 1.4806\n",
      "Epoch 172/200\n",
      "99/99 [==============================] - 0s 2ms/step - loss: 0.0017 - val_loss: 1.4778\n",
      "Epoch 173/200\n",
      "99/99 [==============================] - 0s 2ms/step - loss: 0.0033 - val_loss: 1.4508\n",
      "Epoch 174/200\n",
      "99/99 [==============================] - 0s 2ms/step - loss: 0.0067 - val_loss: 1.5247\n",
      "Epoch 175/200\n",
      "99/99 [==============================] - 0s 2ms/step - loss: 0.0235 - val_loss: 1.4169\n",
      "Epoch 176/200\n",
      "99/99 [==============================] - 0s 2ms/step - loss: 0.0097 - val_loss: 1.4824\n",
      "Epoch 177/200\n",
      "99/99 [==============================] - 0s 2ms/step - loss: 0.0033 - val_loss: 1.4635\n",
      "Epoch 178/200\n",
      "99/99 [==============================] - 0s 2ms/step - loss: 0.0036 - val_loss: 1.4889\n",
      "Epoch 179/200\n",
      "99/99 [==============================] - 0s 2ms/step - loss: 0.0023 - val_loss: 1.4944\n",
      "Epoch 180/200\n",
      "99/99 [==============================] - 0s 2ms/step - loss: 0.0013 - val_loss: 1.5147\n",
      "Epoch 181/200\n",
      "99/99 [==============================] - 0s 2ms/step - loss: 9.3991e-04 - val_loss: 1.4919\n",
      "Epoch 182/200\n",
      "99/99 [==============================] - 0s 2ms/step - loss: 4.1205e-04 - val_loss: 1.5041\n",
      "Epoch 183/200\n",
      "99/99 [==============================] - 0s 2ms/step - loss: 3.3670e-04 - val_loss: 1.5042\n",
      "Epoch 184/200\n",
      "99/99 [==============================] - 0s 2ms/step - loss: 3.4150e-04 - val_loss: 1.5058\n",
      "Epoch 185/200\n",
      "99/99 [==============================] - 0s 2ms/step - loss: 2.9114e-04 - val_loss: 1.5188\n",
      "Epoch 186/200\n",
      "99/99 [==============================] - 0s 2ms/step - loss: 2.8449e-04 - val_loss: 1.5209\n",
      "Epoch 187/200\n",
      "99/99 [==============================] - 0s 3ms/step - loss: 2.8331e-04 - val_loss: 1.5267\n",
      "Epoch 188/200\n",
      "99/99 [==============================] - 0s 3ms/step - loss: 2.6065e-04 - val_loss: 1.5363\n",
      "Epoch 189/200\n",
      "99/99 [==============================] - 0s 2ms/step - loss: 2.8189e-04 - val_loss: 1.5389\n",
      "Epoch 190/200\n",
      "99/99 [==============================] - 0s 2ms/step - loss: 5.9248e-04 - val_loss: 1.5820\n",
      "Epoch 191/200\n",
      "99/99 [==============================] - 0s 3ms/step - loss: 0.0279 - val_loss: 1.6546\n",
      "Epoch 192/200\n",
      "99/99 [==============================] - 0s 2ms/step - loss: 0.0432 - val_loss: 1.4643\n",
      "Epoch 193/200\n",
      "99/99 [==============================] - 0s 2ms/step - loss: 0.0296 - val_loss: 1.5057\n",
      "Epoch 194/200\n",
      "99/99 [==============================] - 0s 2ms/step - loss: 0.0091 - val_loss: 1.5853\n",
      "Epoch 195/200\n",
      "99/99 [==============================] - 0s 3ms/step - loss: 0.0055 - val_loss: 1.5394\n",
      "Epoch 196/200\n",
      "99/99 [==============================] - 0s 3ms/step - loss: 0.0025 - val_loss: 1.5540\n",
      "Epoch 197/200\n",
      "99/99 [==============================] - 0s 3ms/step - loss: 7.4787e-04 - val_loss: 1.5803\n",
      "Epoch 198/200\n",
      "99/99 [==============================] - 0s 2ms/step - loss: 5.1253e-04 - val_loss: 1.5685\n",
      "Epoch 199/200\n",
      "99/99 [==============================] - 0s 2ms/step - loss: 4.5804e-04 - val_loss: 1.5780\n",
      "Epoch 200/200\n",
      "99/99 [==============================] - 0s 2ms/step - loss: 4.0236e-04 - val_loss: 1.5791\n"
     ]
    },
    {
     "data": {
      "text/plain": [
       "<keras.src.callbacks.History at 0x1518c39d0>"
      ]
     },
     "execution_count": 120,
     "metadata": {},
     "output_type": "execute_result"
    }
   ],
   "source": [
    "model.fit(x=X_train, \n",
    "          y=y_train, \n",
    "          epochs=200,\n",
    "          validation_data=(X_test, y_test), verbose=1,\n",
    "          # callbacks=[early_stop]\n",
    "          )"
   ]
  },
  {
   "cell_type": "markdown",
   "metadata": {},
   "source": [
    "---\n",
    "---\n",
    "# Section 4: Model Evaluation\n",
    "\n",
    "**Section Goals: Collect metrics about the training process, display them and calculate the performance metrics (accuracy, f1-score, classification report and confussion matrix), so we can evaluate how good the model is. **\n",
    "\n"
   ]
  },
  {
   "cell_type": "code",
   "execution_count": 121,
   "metadata": {},
   "outputs": [
    {
     "data": {
      "text/plain": [
       "<AxesSubplot:>"
      ]
     },
     "execution_count": 121,
     "metadata": {},
     "output_type": "execute_result"
    },
    {
     "data": {
      "image/png": "[encoded data removed]",
      "text/plain": [
       "<Figure size 432x288 with 1 Axes>"
      ]
     },
     "metadata": {
      "needs_background": "light"
     },
     "output_type": "display_data"
    }
   ],
   "source": [
    "\n",
    "model_loss = pd.DataFrame(model.history.history)\n",
    "model_loss.plot()"
   ]
  },
  {
   "cell_type": "code",
   "execution_count": 122,
   "metadata": {},
   "outputs": [
    {
     "name": "stdout",
     "output_type": "stream",
     "text": [
      "25/25 [==============================] - 0s 2ms/step\n"
     ]
    }
   ],
   "source": [
    "predictions_prob = model.predict(X_test)\n",
    "\n",
    "\n",
    "# Convert to the probability predicitons_prob vector to binary predictions to compare to y_test\n",
    "threshold = 0.5\n",
    "predictions = (predictions_prob >= threshold).astype(int)\n",
    "predictions = predictions.astype(int)\n",
    "predictions = predictions.flatten()\n"
   ]
  },
  {
   "cell_type": "code",
   "execution_count": 123,
   "metadata": {},
   "outputs": [
    {
     "data": {
      "text/plain": [
       "numpy.ndarray"
      ]
     },
     "execution_count": 123,
     "metadata": {},
     "output_type": "execute_result"
    }
   ],
   "source": [
    "type(y_test)"
   ]
  },
  {
   "cell_type": "code",
   "execution_count": 124,
   "metadata": {},
   "outputs": [],
   "source": [
    "from sklearn.metrics import classification_report,confusion_matrix, accuracy_score, f1_score"
   ]
  },
  {
   "cell_type": "code",
   "execution_count": 125,
   "metadata": {},
   "outputs": [
    {
     "data": {
      "text/plain": [
       "(791, 791)"
      ]
     },
     "execution_count": 125,
     "metadata": {},
     "output_type": "execute_result"
    }
   ],
   "source": [
    "len(y_test), len(predictions)"
   ]
  },
  {
   "cell_type": "code",
   "execution_count": 126,
   "metadata": {},
   "outputs": [
    {
     "name": "stdout",
     "output_type": "stream",
     "text": [
      "[1 1 1 1 0 0 1 1 0 0 1 0 0 0 1 1 1 1 1 1 1 1 1 1 1 1 1 1 1 1 1 1 0 1 1 1 0\n",
      " 1 1 0 1 1 1 1 1 1 1 1 1 1 1 1 1 1 1 1 1 1 1 0 1 1 1 1 0 1 1 0 1 1 0 1 0 0\n",
      " 1 1 1 1 1 1 1 0 1 1 0 1 1 1 0 1 1 1 1 1 1 1 1 1 1 1 0 1 1 1 1 0 1 1 0 1 0\n",
      " 1 1 1 1 1 1 1 0 1 0 0 0 1 1 1 1 1 1 1 0 1 0 1 1 1 1 1 1 1 1 1 1 0 1 1 1 1\n",
      " 1 1 1 1 1 1 1 1 1 1 1 1 1 1 1 0 1 1 1 1 1 1 0 1 0 1 1 1 1 1 1 1 1 1 1 0 1\n",
      " 0 1 1 1 1 1 1 1 1 0 1 1 1 1 1 0 1 1 0 1 1 1 1 1 1 1 1 1 1 1 0 1 1 1 1 1 1\n",
      " 1 1 0 1 0 1 1 1 1 0 1 1 1 0 1 1 1 1 1 1 1 1 1 1 1 0 1 1 1 1 1 1 0 1 0 1 1\n",
      " 0 1 1 1 1 1 1 1 1 1 1 1 1 1 1 1 1 1 1 1 1 1 1 1 1 1 1 1 1 1 1 1 1 1 1 1 0\n",
      " 0 1 1 1 1 0 1 1 1 1 0 1 1 1 1 1 1 1 1 1 0 1 1 1 0 1 0 0 0 0 1 1 0 1 1 1 1\n",
      " 1 1 1 1 1 1 1 1 1 1 1 1 0 0 1 1 1 1 1 1 1 1 0 1 1 1 0 1 1 0 1 1 1 1 1 1 1\n",
      " 1 1 1 1 1 1 0 1 1 1 0 1 1 1 1 1 1 1 1 1 1 1 1 0 1 1 0 0 1 1 1 1 1 1 1 1 1\n",
      " 1 1 0 1 0 1 1 1 0 1 0 0 1 0 1 1 1 1 1 1 1 1 1 1 1 0 1 1 1 1 1 0 1 0 1 1 0\n",
      " 0 1 0 0 1 1 1 1 1 0 1 0 0 1 1 1 1 1 0 1 1 1 1 0 0 1 1 1 1 1 1 1 1 1 1 1 1\n",
      " 1 0 1 1 0 0 1 1 1 1 1 1 1 0 1 0 1 1 0 1 1 1 1 1 1 1 1 1 1 1 1 1 1 1 1 0 1\n",
      " 1 0 1 1 0 1 1 1 1 1 1 1 1 1 0 1 1 1 1 1 1 1 0 1 1 1 1 1 1 1 0 1 1 1 1 1 0\n",
      " 0 0 0 1 0 1 1 0 1 1 1 1 1 1 0 1 0 1 1 1 1 1 1 0 1 0 0 1 1 1 1 0 1 1 1 1 1\n",
      " 0 1 1 1 1 0 1 1 1 1 1 1 1 1 0 1 1 0 1 1 1 0 1 1 0 1 1 0 1 1 1 1 1 1 0 1 1\n",
      " 1 0 1 1 0 0 1 1 0 1 1 1 1 0 1 1 0 1 1 1 1 1 1 1 1 0 1 1 1 1 1 0 1 1 1 1 1\n",
      " 1 1 0 1 1 0 0 1 1 0 1 1 0 0 1 1 1 1 1 1 1 1 1 1 1 1 1 1 0 1 1 1 1 1 1 0 1\n",
      " 1 1 0 1 1 1 1 1 1 1 1 0 1 1 1 1 0 0 1 1 1 0 1 1 0 1 0 1 1 1 1 1 1 1 1 1 1\n",
      " 1 1 1 0 0 1 0 1 0 1 1 1 1 1 1 1 1 1 1 1 0 1 0 1 1 0 1 1 1 1 1 1 0 1 1 0 1\n",
      " 1 1 1 1 1 1 1 1 1 0 1 1 1 1]\n",
      "[1 1 1 1 1 0 1 1 1 1 0 0 0 1 1 1 1 1 1 1 1 1 0 1 1 1 1 1 1 1 1 1 0 1 1 1 1\n",
      " 0 1 0 1 1 1 1 1 1 1 0 1 1 1 1 1 1 1 1 1 1 1 0 1 1 1 1 0 1 0 0 1 1 1 1 0 1\n",
      " 0 1 1 1 1 1 0 1 1 1 0 1 1 1 0 1 1 1 1 1 1 1 1 1 0 1 0 1 1 1 0 0 1 0 1 1 0\n",
      " 1 1 1 1 1 1 1 1 1 0 1 0 1 1 1 1 1 1 1 1 1 0 1 1 1 0 1 1 0 1 1 1 0 1 1 1 0\n",
      " 1 0 1 1 1 1 1 1 1 1 1 1 1 0 1 1 1 1 1 0 1 1 0 1 0 1 1 0 1 0 1 1 1 1 1 1 1\n",
      " 1 1 1 1 1 1 1 1 1 1 1 0 1 0 1 0 1 1 0 1 1 1 1 1 1 1 1 1 1 1 0 1 1 1 0 1 0\n",
      " 1 1 1 1 0 1 1 1 1 1 1 1 1 0 1 1 0 1 1 1 1 1 1 1 1 1 1 1 1 1 1 1 0 1 0 1 1\n",
      " 0 1 1 1 1 1 0 1 1 1 1 1 1 1 1 0 1 1 1 1 1 1 1 1 1 1 1 1 1 1 1 1 1 0 0 1 1\n",
      " 1 1 1 1 0 0 1 1 1 0 1 1 1 1 1 1 1 1 1 1 1 1 1 1 0 1 0 1 1 1 1 1 0 1 1 1 1\n",
      " 1 1 1 1 1 1 1 1 1 1 1 1 1 0 1 1 1 1 1 1 1 1 1 1 1 1 1 1 1 0 1 1 1 1 1 1 1\n",
      " 1 1 1 1 0 1 0 1 1 1 1 1 1 1 1 1 1 1 1 1 1 1 1 0 1 1 0 0 1 1 1 1 1 1 1 1 1\n",
      " 1 1 1 1 0 1 1 1 1 1 0 0 1 0 1 1 1 1 1 1 1 1 0 1 1 0 1 1 1 1 1 0 1 0 1 1 1\n",
      " 1 1 0 0 1 1 1 0 1 1 1 0 1 1 1 0 1 1 0 1 1 0 1 1 0 1 1 1 1 1 1 1 1 1 1 1 1\n",
      " 1 1 1 1 1 0 1 0 0 1 1 1 1 1 1 1 1 0 0 0 1 1 1 1 1 1 1 1 1 1 1 1 1 1 1 0 1\n",
      " 0 0 1 1 0 1 1 1 0 0 1 1 1 1 0 1 1 0 1 1 1 0 0 1 1 1 1 1 1 1 0 1 1 1 1 1 1\n",
      " 0 0 0 1 0 0 1 0 1 1 1 1 1 1 0 1 1 1 1 1 1 1 1 1 0 1 0 1 1 1 1 0 1 1 1 1 1\n",
      " 1 1 1 1 1 1 1 1 1 1 1 1 1 1 1 0 1 0 1 1 1 0 1 1 1 1 1 0 0 1 1 1 1 1 1 1 1\n",
      " 1 0 1 1 0 0 1 1 1 1 1 1 1 1 1 1 0 1 0 1 1 0 1 1 1 0 1 1 1 1 1 1 1 0 1 1 1\n",
      " 1 1 0 1 1 1 0 1 1 0 1 1 1 1 1 1 1 1 1 1 0 1 1 1 1 1 0 1 1 1 1 1 1 1 1 0 1\n",
      " 1 1 1 1 1 1 1 1 1 1 1 1 1 1 1 0 0 0 1 1 1 0 1 1 1 1 0 1 1 1 1 1 1 1 1 1 1\n",
      " 1 1 1 0 0 1 0 1 0 1 1 0 1 1 1 1 1 1 1 1 1 1 1 1 1 0 1 1 1 1 1 1 0 0 1 0 1\n",
      " 1 1 0 0 0 1 1 1 1 1 1 1 1 1]\n"
     ]
    }
   ],
   "source": [
    "print(y_test)\n",
    "print(predictions)"
   ]
  },
  {
   "cell_type": "code",
   "execution_count": 127,
   "metadata": {},
   "outputs": [
    {
     "name": "stdout",
     "output_type": "stream",
     "text": [
      "              precision    recall  f1-score   support\n",
      "\n",
      "           0       0.61      0.59      0.60       152\n",
      "           1       0.90      0.91      0.91       639\n",
      "\n",
      "    accuracy                           0.85       791\n",
      "   macro avg       0.75      0.75      0.75       791\n",
      "weighted avg       0.85      0.85      0.85       791\n",
      "\n"
     ]
    }
   ],
   "source": [
    "# https://en.wikipedia.org/wiki/Precision_and_recall\n",
    "print(classification_report(y_test,predictions))"
   ]
  },
  {
   "cell_type": "code",
   "execution_count": 128,
   "metadata": {},
   "outputs": [
    {
     "name": "stdout",
     "output_type": "stream",
     "text": [
      "[[ 89  63]\n",
      " [ 58 581]]\n"
     ]
    }
   ],
   "source": [
    "print(confusion_matrix(y_test,predictions))"
   ]
  },
  {
   "cell_type": "code",
   "execution_count": 129,
   "metadata": {},
   "outputs": [
    {
     "name": "stdout",
     "output_type": "stream",
     "text": [
      "0.8470290771175727\n"
     ]
    }
   ],
   "source": [
    "print(accuracy_score(y_test, predictions))"
   ]
  },
  {
   "cell_type": "markdown",
   "metadata": {},
   "source": [
    "---\n",
    "---\n",
    "# Section 5: Automated Model Comparison\n",
    "\n",
    "**Section Goals: In this section we are going to automate the model performance comparison.  First, we load an array with all the hyperparameters combinations to fit as many models as desired. **\n"
   ]
  },
  {
   "cell_type": "markdown",
   "metadata": {},
   "source": [
    "## Functions that automate all the process"
   ]
  },
  {
   "cell_type": "code",
   "execution_count": 130,
   "metadata": {},
   "outputs": [],
   "source": [
    "import time\n",
    "\n",
    "# Prints model params...\n",
    "def print_model_params(params):\n",
    "        # Create a DataFrame with the data:\n",
    "    data = {\n",
    "        \"Model Name\": params['model_name'],\n",
    "        \"Nodes in Layer 1\": params['nodes_layer1'],\n",
    "        \"Nodes in Layer 2\": params['nodes_layer2'],\n",
    "        \"Dropout Rate\": params['dropout_rate'],\n",
    "        \"Early Stop Patience\": params['early_stop_patience'],\n",
    "        \"Epochs\": params['epochs']\n",
    "    }\n",
    "    df = pd.DataFrame(data, index=[0])  # Create a single-row DataFrame\n",
    "\n",
    "    # Print the DataFrame as a table:\n",
    "    print('Training parameters:')\n",
    "    print(df.to_string())\n",
    "    print('\\n')\n",
    "    \n",
    "\n",
    "def run_model_comparison(X, y, model_params_array, test_size=0.2, verbose=1):\n",
    "    \n",
    "    X_train, X_test, y_train, y_test = train_test_split(X, y, test_size=0.2, random_state=101)\n",
    "    \n",
    "    # Scale transformations\n",
    "    scaler = MinMaxScaler()\n",
    "    X_train = scaler.fit_transform(X_train) \n",
    "    X_test = scaler.fit_transform(X_test) \n",
    "    \n",
    "    num_models = len(model_params_array)\n",
    "    results_df = pd.DataFrame(columns=['Model Name', 'EarlySt', 'Dropout', 'Epochs', 'Train Time', 'Accuracy', 'F1-Score'])\n",
    "    model_loss = []\n",
    "    \n",
    "    for i in range(num_models):\n",
    "        # Start timer...\n",
    "        start_time = time.time()\n",
    "        \n",
    "        # Get the current model params\n",
    "        model_name = model_params_array[i][\"model_name\"]\n",
    "        nodes_layer1 = model_params_array[i][\"nodes_layer1\"]\n",
    "        nodes_layer2 = model_params_array[i][\"nodes_layer2\"]\n",
    "        dropout_rate = model_params_array[i][\"dropout_rate\"]\n",
    "        early_stop_patience = model_params_array[i][\"early_stop_patience\"]\n",
    "        epochs = model_params_array[i][\"epochs\"]\n",
    "        \n",
    "        # Prints the current params\n",
    "        print (i, '. MODEL: ', model_name)\n",
    "\n",
    "        print_model_params(model_params_array[i])\n",
    "\n",
    "        \n",
    "        # Current model setup -------------------------       \n",
    "        model = Sequential()\n",
    "        \n",
    "        # input layer\n",
    "        model.add(Dense(nodes_layer1,activation='relu'))\n",
    "        if dropout_rate is not None:\n",
    "            model.add(Dropout(dropout_rate))\n",
    "        model.add(Dense(nodes_layer2,activation='relu'))\n",
    "        if dropout_rate is not None:\n",
    "            model.add(Dropout(dropout_rate))\n",
    "        # output layer\n",
    "        model.add(Dense(1, 'sigmoid'))\n",
    "        model.compile(loss='binary_crossentropy', optimizer='adam')\n",
    "        \n",
    "        # Model fit...\n",
    "        print('Fitting model ', model_name,'.  Grab a coffee cup...')\n",
    "        if early_stop_patience is None:\n",
    "            model.fit(x=X_train, \n",
    "            y=y_train, \n",
    "            epochs=epochs,\n",
    "            validation_data=(X_test, y_test), verbose=verbose,\n",
    "            # callbacks=[early_stop]\n",
    "            )\n",
    "        else:\n",
    "            early_stop = EarlyStopping(monitor='val_loss', mode='min', verbose=1, patience=25)\n",
    "            model.fit(x=X_train, \n",
    "            y=y_train, \n",
    "            epochs=epochs,\n",
    "            validation_data=(X_test, y_test), verbose=verbose,\n",
    "            callbacks=[early_stop]\n",
    "            )\n",
    "        \n",
    "        # Model evaluation -------------------------------\n",
    "        model_loss.append(pd.DataFrame(model.history.history))\n",
    "            \n",
    "        # Model predictions   --------------------------------\n",
    "        predictions_prob = model.predict(X_test)\n",
    "        # Convert to the probability predicitons_prob vector to binary predictions to compare to y_test\n",
    "        threshold = 0.5\n",
    "        predictions = (predictions_prob >= threshold).astype(int)\n",
    "        predictions = predictions.astype(int)\n",
    "        predictions = predictions.flatten()\n",
    "            \n",
    "    \n",
    "\n",
    "        # Gettin the outcome metrics\n",
    "        print('\\nModel: ', model_name)\n",
    "        # print(classification_report(y_test,predictions))\n",
    "        acc_score = accuracy_score(y_test, predictions)\n",
    "        f1= f1_score(y_test, predictions)\n",
    "        print('accuracy = ', acc_score)\n",
    "        print('F1-score = ', f1)\n",
    "        \n",
    "        # Stop timer\n",
    "        end_time = time.time()\n",
    "        elapsed_time = end_time - start_time        \n",
    "        \n",
    "        # New row to be added\n",
    "        new_row = {'Model Name': model_name, \n",
    "                   'EarlySt': early_stop_patience, \n",
    "                   'Dropout': dropout_rate, \n",
    "                   'Epochs': epochs, \n",
    "                   'Train Time': f'{elapsed_time:.1f} secs', \n",
    "                   'Accuracy': acc_score,\n",
    "                   'F1-Score': f1\n",
    "                   }\n",
    "\n",
    "        # Add the row using loc\n",
    "        results_df.loc[len(results_df)] = new_row\n",
    "        \n",
    "    return results_df, model_loss"
   ]
  },
  {
   "cell_type": "markdown",
   "metadata": {},
   "source": [
    "## Setting Up the Parameters and Models to Compare\n",
    "\n",
    "* This is where we configure our model set and their corresponding parameters"
   ]
  },
  {
   "cell_type": "code",
   "execution_count": 131,
   "metadata": {},
   "outputs": [],
   "source": [
    "# Big Model Comparison\n",
    "\n",
    "# Here we load the model parameters to compare\n",
    "model_params_list = [\n",
    "    {\n",
    "        \"model_name\": \"Med w/Dropout\",\n",
    "        \"nodes_layer1\": 79,\n",
    "        \"nodes_layer2\": 40,\n",
    "        \"dropout_rate\": 0.5,\n",
    "        \"early_stop_patience\": None,\n",
    "        \"epochs\": 200\n",
    "    },\n",
    "    {\n",
    "        \"model_name\": \"Med w/Dropout & E.S.\",\n",
    "        \"nodes_layer1\": 79,\n",
    "        \"nodes_layer2\": 40,\n",
    "        \"dropout_rate\": 0.5,\n",
    "        \"early_stop_patience\": 25,\n",
    "        \"epochs\": 200\n",
    "    },\n",
    "    {\n",
    "        \"model_name\": \"Lrg w/Dropout\",\n",
    "        \"nodes_layer1\": 158,\n",
    "        \"nodes_layer2\": 79,\n",
    "        \"dropout_rate\": 0.5,\n",
    "        \"early_stop_patience\": None,\n",
    "        \"epochs\": 200\n",
    "    },    \n",
    "    {\n",
    "        \"model_name\": \"Lrg w/Dropout & E.S.\",\n",
    "        \"nodes_layer1\": 158,\n",
    "        \"nodes_layer2\": 79,\n",
    "        \"dropout_rate\": 0.5,\n",
    "        \"early_stop_patience\": 25,\n",
    "        \"epochs\": 200\n",
    "    },\n",
    "    {\n",
    "        \"model_name\": \"Lrg w/Dropout & Early S. low Ptce\",\n",
    "        \"nodes_layer1\": 158,\n",
    "        \"nodes_layer2\": 79,\n",
    "        \"dropout_rate\": 0.5,\n",
    "        \"early_stop_patience\": 5,\n",
    "        \"epochs\": 200\n",
    "    },]\n",
    "\n",
    "model_params_array = np.array(model_params_list)"
   ]
  },
  {
   "cell_type": "code",
   "execution_count": 132,
   "metadata": {},
   "outputs": [
    {
     "name": "stdout",
     "output_type": "stream",
     "text": [
      "0 . MODEL:  Med w/Dropout\n",
      "Training parameters:\n",
      "      Model Name  Nodes in Layer 1  Nodes in Layer 2  Dropout Rate Early Stop Patience  Epochs\n",
      "0  Med w/Dropout                79                40           0.5                None     200\n",
      "\n",
      "\n",
      "Fitting model  Med w/Dropout .  Grab a coffee cup...\n",
      "25/25 [==============================] - 0s 1ms/step\n",
      "\n",
      "Model:  Med w/Dropout\n",
      "accuracy =  0.8761061946902655\n",
      "F1-score =  0.9267563527653214\n",
      "1 . MODEL:  Med w/Dropout & E.S.\n",
      "Training parameters:\n",
      "             Model Name  Nodes in Layer 1  Nodes in Layer 2  Dropout Rate  Early Stop Patience  Epochs\n",
      "0  Med w/Dropout & E.S.                79                40           0.5                   25     200\n",
      "\n",
      "\n",
      "Fitting model  Med w/Dropout & E.S. .  Grab a coffee cup...\n",
      "Epoch 44: early stopping\n",
      "25/25 [==============================] - 0s 1ms/step\n",
      "\n",
      "Model:  Med w/Dropout & E.S.\n",
      "accuracy =  0.8761061946902655\n",
      "F1-score =  0.9265367316341828\n",
      "2 . MODEL:  Lrg w/Dropout\n",
      "Training parameters:\n",
      "      Model Name  Nodes in Layer 1  Nodes in Layer 2  Dropout Rate Early Stop Patience  Epochs\n",
      "0  Lrg w/Dropout               158                79           0.5                None     200\n",
      "\n",
      "\n",
      "Fitting model  Lrg w/Dropout .  Grab a coffee cup...\n",
      "25/25 [==============================] - 0s 1ms/step\n",
      "\n",
      "Model:  Lrg w/Dropout\n",
      "accuracy =  0.8798988621997471\n",
      "F1-score =  0.9289454001495886\n",
      "3 . MODEL:  Lrg w/Dropout & E.S.\n",
      "Training parameters:\n",
      "             Model Name  Nodes in Layer 1  Nodes in Layer 2  Dropout Rate  Early Stop Patience  Epochs\n",
      "0  Lrg w/Dropout & E.S.               158                79           0.5                   25     200\n",
      "\n",
      "\n",
      "Fitting model  Lrg w/Dropout & E.S. .  Grab a coffee cup...\n",
      "Epoch 38: early stopping\n",
      "25/25 [==============================] - 0s 1ms/step\n",
      "\n",
      "Model:  Lrg w/Dropout & E.S.\n",
      "accuracy =  0.8874841972187105\n",
      "F1-score =  0.9339272457312546\n",
      "4 . MODEL:  Lrg w/Dropout & Early S. low Ptce\n",
      "Training parameters:\n",
      "                          Model Name  Nodes in Layer 1  Nodes in Layer 2  Dropout Rate  Early Stop Patience  Epochs\n",
      "0  Lrg w/Dropout & Early S. low Ptce               158                79           0.5                    5     200\n",
      "\n",
      "\n",
      "Fitting model  Lrg w/Dropout & Early S. low Ptce .  Grab a coffee cup...\n",
      "Epoch 43: early stopping\n",
      "25/25 [==============================] - 0s 1ms/step\n",
      "\n",
      "Model:  Lrg w/Dropout & Early S. low Ptce\n",
      "accuracy =  0.8697850821744627\n",
      "F1-score =  0.9228464419475656\n"
     ]
    }
   ],
   "source": [
    "results_df, model_loss = run_model_comparison(X, y, model_params_array, test_size=0.2, verbose=0)"
   ]
  },
  {
   "cell_type": "markdown",
   "metadata": {},
   "source": [
    "* Let's plot the loss vs. validation loss to understand the fitting process"
   ]
  },
  {
   "cell_type": "code",
   "execution_count": 133,
   "metadata": {},
   "outputs": [
    {
     "data": {
      "image/png": "[encoded data removed]",
      "text/plain": [
       "<Figure size 432x288 with 1 Axes>"
      ]
     },
     "metadata": {
      "needs_background": "light"
     },
     "output_type": "display_data"
    },
    {
     "data": {
      "image/png": "[encoded data removed]",
      "text/plain": [
       "<Figure size 432x288 with 1 Axes>"
      ]
     },
     "metadata": {
      "needs_background": "light"
     },
     "output_type": "display_data"
    },
    {
     "data": {
      "image/png": "[encoded data removed]",
      "text/plain": [
       "<Figure size 432x288 with 1 Axes>"
      ]
     },
     "metadata": {
      "needs_background": "light"
     },
     "output_type": "display_data"
    },
    {
     "data": {
      "image/png": "[encoded data removed]",
      "text/plain": [
       "<Figure size 432x288 with 1 Axes>"
      ]
     },
     "metadata": {
      "needs_background": "light"
     },
     "output_type": "display_data"
    },
    {
     "data": {
      "image/png": "[encoded data removed]",
      "text/plain": [
       "<Figure size 432x288 with 1 Axes>"
      ]
     },
     "metadata": {
      "needs_background": "light"
     },
     "output_type": "display_data"
    }
   ],
   "source": [
    "for model_graph in model_loss:\n",
    "    model_graph.plot()"
   ]
  },
  {
   "cell_type": "code",
   "execution_count": 134,
   "metadata": {},
   "outputs": [
    {
     "name": "stdout",
     "output_type": "stream",
     "text": [
      "\n",
      "Results\n",
      "Data rows:  3952\n"
     ]
    },
    {
     "data": {
      "text/html": [
       "<div>\n",
       "<style scoped>\n",
       "    .dataframe tbody tr th:only-of-type {\n",
       "        vertical-align: middle;\n",
       "    }\n",
       "\n",
       "    .dataframe tbody tr th {\n",
       "        vertical-align: top;\n",
       "    }\n",
       "\n",
       "    .dataframe thead th {\n",
       "        text-align: right;\n",
       "    }\n",
       "</style>\n",
       "<table border=\"1\" class=\"dataframe\">\n",
       "  <thead>\n",
       "    <tr style=\"text-align: right;\">\n",
       "      <th></th>\n",
       "      <th>Model Name</th>\n",
       "      <th>EarlySt</th>\n",
       "      <th>Dropout</th>\n",
       "      <th>Epochs</th>\n",
       "      <th>Train Time</th>\n",
       "      <th>Accuracy</th>\n",
       "      <th>F1-Score</th>\n",
       "    </tr>\n",
       "  </thead>\n",
       "  <tbody>\n",
       "    <tr>\n",
       "      <th>0</th>\n",
       "      <td>Med w/Dropout</td>\n",
       "      <td>None</td>\n",
       "      <td>0.5</td>\n",
       "      <td>200</td>\n",
       "      <td>40.6 secs</td>\n",
       "      <td>0.876106</td>\n",
       "      <td>0.926756</td>\n",
       "    </tr>\n",
       "    <tr>\n",
       "      <th>1</th>\n",
       "      <td>Med w/Dropout &amp; E.S.</td>\n",
       "      <td>25</td>\n",
       "      <td>0.5</td>\n",
       "      <td>200</td>\n",
       "      <td>8.8 secs</td>\n",
       "      <td>0.876106</td>\n",
       "      <td>0.926537</td>\n",
       "    </tr>\n",
       "    <tr>\n",
       "      <th>2</th>\n",
       "      <td>Lrg w/Dropout</td>\n",
       "      <td>None</td>\n",
       "      <td>0.5</td>\n",
       "      <td>200</td>\n",
       "      <td>38.3 secs</td>\n",
       "      <td>0.879899</td>\n",
       "      <td>0.928945</td>\n",
       "    </tr>\n",
       "    <tr>\n",
       "      <th>3</th>\n",
       "      <td>Lrg w/Dropout &amp; E.S.</td>\n",
       "      <td>25</td>\n",
       "      <td>0.5</td>\n",
       "      <td>200</td>\n",
       "      <td>8.7 secs</td>\n",
       "      <td>0.887484</td>\n",
       "      <td>0.933927</td>\n",
       "    </tr>\n",
       "    <tr>\n",
       "      <th>4</th>\n",
       "      <td>Lrg w/Dropout &amp; Early S. low Ptce</td>\n",
       "      <td>5</td>\n",
       "      <td>0.5</td>\n",
       "      <td>200</td>\n",
       "      <td>9.8 secs</td>\n",
       "      <td>0.869785</td>\n",
       "      <td>0.922846</td>\n",
       "    </tr>\n",
       "  </tbody>\n",
       "</table>\n",
       "</div>"
      ],
      "text/plain": [
       "                          Model Name EarlySt  Dropout  Epochs Train Time  \\\n",
       "0                      Med w/Dropout    None      0.5     200  40.6 secs   \n",
       "1               Med w/Dropout & E.S.      25      0.5     200   8.8 secs   \n",
       "2                      Lrg w/Dropout    None      0.5     200  38.3 secs   \n",
       "3               Lrg w/Dropout & E.S.      25      0.5     200   8.7 secs   \n",
       "4  Lrg w/Dropout & Early S. low Ptce       5      0.5     200   9.8 secs   \n",
       "\n",
       "   Accuracy  F1-Score  \n",
       "0  0.876106  0.926756  \n",
       "1  0.876106  0.926537  \n",
       "2  0.879899  0.928945  \n",
       "3  0.887484  0.933927  \n",
       "4  0.869785  0.922846  "
      ]
     },
     "metadata": {},
     "output_type": "display_data"
    }
   ],
   "source": [
    "pd.set_option('display.max_colwidth', 120)  # Set global column width\n",
    "print ('\\nResults')\n",
    "print('Data rows: ', len(X))\n",
    "display (results_df)"
   ]
  },
  {
   "cell_type": "markdown",
   "metadata": {},
   "source": [
    "# The Winner Model"
   ]
  },
  {
   "cell_type": "markdown",
   "metadata": {},
   "source": [
    "* It's time a choose a winner. \n",
    "\n",
    "The model trained with this parameters got a 93% F1-score:\n",
    "\n",
    "        \"model_name\": \"Med w/Dropout & E.S.\",\n",
    "        \"nodes_layer1\": 79,\n",
    "        \"nodes_layer2\": 40,\n",
    "        \"dropout_rate\": 0.5,\n",
    "        \"early_stop_patience\": 25,\n",
    "        \"epochs\": 200\n"
   ]
  },
  {
   "cell_type": "code",
   "execution_count": 135,
   "metadata": {},
   "outputs": [
    {
     "name": "stdout",
     "output_type": "stream",
     "text": [
      "\n",
      "...And the winner is:\n",
      "\n",
      "Model No.:  4\n",
      "Model Name    Lrg w/Dropout & E.S.\n",
      "Accuracy                  0.887484\n",
      "F1-Score                  0.933927\n",
      "Name: 3, dtype: object\n"
     ]
    }
   ],
   "source": [
    "print('\\n...And the winner is:\\n')\n",
    "max_index = results_df['F1-Score'].idxmax()\n",
    "print('Model No.: ', max_index+1)\n",
    "print(results_df.loc[max_index, ['Model Name', 'Accuracy','F1-Score']])"
   ]
  },
  {
   "cell_type": "markdown",
   "metadata": {},
   "source": [
    "## This is how it looks!\n",
    "<img src=\"./NN Diagram.svg\" alt=\"Winner Model NN Representation\">"
   ]
  },
  {
   "cell_type": "markdown",
   "metadata": {},
   "source": []
  }
 ],
 "metadata": {
  "kernelspec": {
   "display_name": "Python 3 (ipykernel)",
   "language": "python",
   "name": "python3"
  },
  "language_info": {
   "codemirror_mode": {
    "name": "ipython",
    "version": 3
   },
   "file_extension": ".py",
   "mimetype": "text/x-python",
   "name": "python",
   "nbconvert_exporter": "python",
   "pygments_lexer": "ipython3",
   "version": "3.10.2"
  }
 },
 "nbformat": 4,
 "nbformat_minor": 4
}
